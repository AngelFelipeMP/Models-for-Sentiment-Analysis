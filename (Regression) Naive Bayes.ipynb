{
 "cells": [
  {
   "cell_type": "markdown",
   "metadata": {
    "colab_type": "text",
    "id": "cFB-KQqJo__2"
   },
   "source": [
    "### 1) Importing Libraries"
   ]
  },
  {
   "cell_type": "markdown",
   "metadata": {
    "colab_type": "text",
    "id": "M3H18xjdo__5"
   },
   "source": [
    "#### Standard Libraries"
   ]
  },
  {
   "cell_type": "code",
   "execution_count": 1,
   "metadata": {
    "colab": {},
    "colab_type": "code",
    "id": "4EOTsHuJo__7",
    "outputId": "318609b7-5729-4e96-922a-6b4f6cdee21b"
   },
   "outputs": [
    {
     "name": "stdout",
     "output_type": "stream",
     "text": [
      "[nltk_data] Downloading package stopwords to\n",
      "[nltk_data]     /Users/angelfelipemagnossaodepaula/nltk_data...\n",
      "[nltk_data]   Package stopwords is already up-to-date!\n"
     ]
    }
   ],
   "source": [
    "import numpy as np\n",
    "import matplotlib.pyplot as plt\n",
    "import pandas as pd\n",
    "import re\n",
    "import nltk\n",
    "from sklearn.datasets import load_files \n",
    "nltk.download('stopwords')\n",
    "import pickle\n",
    "from nltk.corpus import stopwords"
   ]
  },
  {
   "cell_type": "markdown",
   "metadata": {
    "colab_type": "text",
    "id": "mCKsieyzsNtz"
   },
   "source": [
    "#### Downloading Files from Google Drive"
   ]
  },
  {
   "cell_type": "code",
   "execution_count": 2,
   "metadata": {
    "colab": {
     "base_uri": "https://localhost:8080/",
     "height": 80
    },
    "colab_type": "code",
    "executionInfo": {
     "elapsed": 10540,
     "status": "ok",
     "timestamp": 1556048109047,
     "user": {
      "displayName": "Angel Felipe Magnossao de Paula",
      "photoUrl": "",
      "userId": "13628264624700653838"
     },
     "user_tz": 180
    },
    "id": "uRYPdHQcsQaY",
    "outputId": "dc4b4d88-943b-4503-f01b-c5db35b661cc"
   },
   "outputs": [],
   "source": [
    "# Install the PyDrive wrapper & import libraries.\n",
    "# This only needs to be done once per notebook.\n",
    "# !pip install -U -q PyDrive\n",
    "# from pydrive.auth import GoogleAuth\n",
    "# from pydrive.drive import GoogleDrive\n",
    "# from google.colab import auth\n",
    "# from oauth2client.client import GoogleCredentials\n",
    "\n",
    "import os"
   ]
  },
  {
   "cell_type": "code",
   "execution_count": 3,
   "metadata": {
    "colab": {},
    "colab_type": "code",
    "id": "ofMU_ziGsQoY"
   },
   "outputs": [],
   "source": [
    "# Authenticate and create the PyDrive client.\n",
    "# This only needs to be done once per notebook.\n",
    "# auth.authenticate_user()\n",
    "# gauth = GoogleAuth()\n",
    "# gauth.credentials = GoogleCredentials.get_application_default()\n",
    "# drive = GoogleDrive(gauth)"
   ]
  },
  {
   "cell_type": "code",
   "execution_count": 4,
   "metadata": {
    "colab": {
     "base_uri": "https://localhost:8080/",
     "height": 85
    },
    "colab_type": "code",
    "executionInfo": {
     "elapsed": 2340,
     "status": "ok",
     "timestamp": 1556048167818,
     "user": {
      "displayName": "Angel Felipe Magnossao de Paula",
      "photoUrl": "",
      "userId": "13628264624700653838"
     },
     "user_tz": 180
    },
    "id": "-hBhBFXcsQxt",
    "outputId": "dfc1db40-6af3-4d0a-a59c-f0dc85a3b4b4"
   },
   "outputs": [],
   "source": [
    "# Downloading Headlines train and Test Data from google drive\n",
    "# PS: the traing data is public and was downloaded to drive from:\n",
    "#        https://bitbucket.org/ssix-project/semeval-2017-task-5-subtask-2/raw/46143dc3c0c28b9286b6d1d424d1359c8f49d6cc/Headline_Trainingdata.json\n",
    "#     while the test data is avaliable n the same repo, but without labels\n",
    "#     the one used here was requested by e-mail, and contains labels\n",
    "\n",
    "# files_list = {'full_dict.txt': '1_ZBh3oFm3CYDqG3IcVY-ukG0-vsiulTp',\n",
    "#               'train.csv': '1Tjy8fxm63Yg9n7EemvJ_G_Fbs6Y6SQEC',\n",
    "#               'test.csv': '1NAQTM-0ynAQJ8CjHZ1AaxuMIuvuYjrgq',\n",
    "#               'SenVal_Functions.py': '1QgNS3191Q87tdXgyyJLrOqAlQf3wjki4'}\n",
    "\n",
    "# for filename, gdrive_id in files_list.items():\n",
    "#   exists = os.path.isfile('/content/' + filename)\n",
    "  \n",
    "#   if not exists:\n",
    "#     drive.CreateFile({'id': gdrive_id}).GetContentFile(filename)\n",
    "#     print('File {} was downloaded.'.format(filename))\n",
    "#   else:\n",
    "#     print('File {} not downloaded because already on system.'.format(filename))"
   ]
  },
  {
   "cell_type": "markdown",
   "metadata": {
    "colab_type": "text",
    "id": "igzku_QFpAAB"
   },
   "source": [
    "#### SenVal Evaluation Metric"
   ]
  },
  {
   "cell_type": "code",
   "execution_count": 5,
   "metadata": {
    "colab": {
     "base_uri": "https://localhost:8080/",
     "height": 51
    },
    "colab_type": "code",
    "executionInfo": {
     "elapsed": 2579,
     "status": "ok",
     "timestamp": 1556048202405,
     "user": {
      "displayName": "Angel Felipe Magnossao de Paula",
      "photoUrl": "",
      "userId": "13628264624700653838"
     },
     "user_tz": 180
    },
    "id": "fugDVHpnpAAC",
    "outputId": "10bfc2c4-a046-4f19-fe4c-92ec3f4ef908"
   },
   "outputs": [
    {
     "name": "stdout",
     "output_type": "stream",
     "text": [
      "[nltk_data] Downloading package wordnet to\n",
      "[nltk_data]     /Users/angelfelipemagnossaodepaula/nltk_data...\n",
      "[nltk_data]   Package wordnet is already up-to-date!\n"
     ]
    }
   ],
   "source": [
    "from SenVal_Functions import SenVal_metric\n",
    "from sklearn.metrics import make_scorer"
   ]
  },
  {
   "cell_type": "code",
   "execution_count": 6,
   "metadata": {
    "colab": {},
    "colab_type": "code",
    "id": "tSF9ShCMpAAG"
   },
   "outputs": [],
   "source": [
    "from SenVal_Functions import SenVal_metric\n",
    "from sklearn.metrics import make_scorer\n",
    "\n",
    "#New scoring function\n",
    "scoring_SenVal = make_scorer(SenVal_metric)"
   ]
  },
  {
   "cell_type": "markdown",
   "metadata": {
    "colab_type": "text",
    "id": "IXnq8lKipAAJ"
   },
   "source": [
    "####  NLP"
   ]
  },
  {
   "cell_type": "code",
   "execution_count": 7,
   "metadata": {
    "colab": {},
    "colab_type": "code",
    "id": "j8pIVURcpAAK"
   },
   "outputs": [],
   "source": [
    "from SenVal_Functions import NLP_pre_processing"
   ]
  },
  {
   "cell_type": "markdown",
   "metadata": {
    "colab_type": "text",
    "id": "aPHTG2CMpAAM"
   },
   "source": [
    "#### Dictionaries"
   ]
  },
  {
   "cell_type": "code",
   "execution_count": 8,
   "metadata": {
    "colab": {},
    "colab_type": "code",
    "id": "UBjudhSHpAAN"
   },
   "outputs": [],
   "source": [
    "#Dictionary with all the words in the corpus and only these\n",
    "with open(\"full_dict.txt\", \"rb\") as fp:   # Unpickling\n",
    "    full_dict = pickle.load(fp)"
   ]
  },
  {
   "cell_type": "code",
   "execution_count": 9,
   "metadata": {
    "colab": {},
    "colab_type": "code",
    "id": "oako2Y76pAAQ",
    "outputId": "6f513658-3c54-406f-9728-ff318a72b2d7"
   },
   "outputs": [
    {
     "name": "stdout",
     "output_type": "stream",
     "text": [
      "[nltk_data] Downloading package words to\n",
      "[nltk_data]     /Users/angelfelipemagnossaodepaula/nltk_data...\n",
      "[nltk_data]   Package words is already up-to-date!\n"
     ]
    },
    {
     "data": {
      "text/plain": [
       "True"
      ]
     },
     "execution_count": 9,
     "metadata": {},
     "output_type": "execute_result"
    }
   ],
   "source": [
    "# Download dictionary WORDS from nltk\n",
    "import nltk\n",
    "nltk.download('words')"
   ]
  },
  {
   "cell_type": "markdown",
   "metadata": {
    "colab_type": "text",
    "id": "ZNpTvnX4pAAU"
   },
   "source": [
    "### 2) Load files"
   ]
  },
  {
   "cell_type": "code",
   "execution_count": 10,
   "metadata": {
    "colab": {},
    "colab_type": "code",
    "id": "JESfN9JspAAV"
   },
   "outputs": [],
   "source": [
    "#test\n",
    "df_test = pd.read_csv('test.csv', index_col='id')\n",
    "#train\n",
    "df_train = pd.read_csv('train.csv', index_col='id')"
   ]
  },
  {
   "cell_type": "markdown",
   "metadata": {
    "colab_type": "text",
    "id": "I3LxdGEGpAAX"
   },
   "source": [
    "### 3) Split dataset in \" Title \" and \" Label \""
   ]
  },
  {
   "cell_type": "code",
   "execution_count": 11,
   "metadata": {
    "colab": {},
    "colab_type": "code",
    "id": "1MhaaThepAAX"
   },
   "outputs": [],
   "source": [
    "#Train_Title\n",
    "train_title = []\n",
    "for n in df_train['title']:\n",
    "    train_title.append(n)\n",
    "    \n",
    "#Train_Label\n",
    "train_label = df_train['sentiment_NB'].values "
   ]
  },
  {
   "cell_type": "code",
   "execution_count": 0,
   "metadata": {
    "colab": {},
    "colab_type": "code",
    "id": "AqWAjtOBpAAZ"
   },
   "outputs": [],
   "source": [
    "#Test_Title\n",
    "test_title = []\n",
    "for n in df_test['title']:\n",
    "    test_title.append(n)\n",
    "      \n",
    "#Test_Label\n",
    "test_label = df_test['sentiment_range'].values"
   ]
  },
  {
   "cell_type": "markdown",
   "metadata": {
    "colab_type": "text",
    "id": "D8r0Rlw6pAAa"
   },
   "source": [
    "### 4) Text Preprocessing"
   ]
  },
  {
   "cell_type": "code",
   "execution_count": 0,
   "metadata": {
    "colab": {},
    "colab_type": "code",
    "id": "yXkdxhdNpAAa"
   },
   "outputs": [],
   "source": [
    "# Applying the NLP_pre_processing function \n",
    "\n",
    "#Train\n",
    "documents_train = NLP_pre_processing(train_title)\n",
    "#Test\n",
    "documents_test = NLP_pre_processing(test_title)"
   ]
  },
  {
   "cell_type": "markdown",
   "metadata": {
    "colab_type": "text",
    "id": "wOtrSk0zpAAb"
   },
   "source": [
    "### 5) Converting Text to Numbers "
   ]
  },
  {
   "cell_type": "markdown",
   "metadata": {
    "colab_type": "text",
    "id": "OiFV2UBPpAAc"
   },
   "source": [
    "#### Dictionary Preparation"
   ]
  },
  {
   "cell_type": "code",
   "execution_count": 0,
   "metadata": {
    "colab": {},
    "colab_type": "code",
    "id": "9pO27A_qpAAc"
   },
   "outputs": [],
   "source": [
    "# Import dictionary WORDS from nltk\n",
    "from nltk.corpus import words"
   ]
  },
  {
   "cell_type": "code",
   "execution_count": 0,
   "metadata": {
    "colab": {},
    "colab_type": "code",
    "id": "yc0VbmY7pAAd"
   },
   "outputs": [],
   "source": [
    "# Convert dictionary to set and add it into\" vocab \"\n",
    "vocab = set(words.words())"
   ]
  },
  {
   "cell_type": "markdown",
   "metadata": {
    "colab_type": "text",
    "id": "7rmhYEFGpAAf"
   },
   "source": [
    "#### Bag of Words"
   ]
  },
  {
   "cell_type": "code",
   "execution_count": 0,
   "metadata": {
    "colab": {},
    "colab_type": "code",
    "id": "61ZqVFOnpAAf"
   },
   "outputs": [],
   "source": [
    "# Import CountVectorizer\n",
    "from sklearn.feature_extraction.text import CountVectorizer"
   ]
  },
  {
   "cell_type": "code",
   "execution_count": 0,
   "metadata": {
    "colab": {},
    "colab_type": "code",
    "id": "68LZRhYBpAAg"
   },
   "outputs": [],
   "source": [
    "#Train\n",
    "vectorizer_train = CountVectorizer(max_features=1500, vocabulary= vocab, min_df=5, max_df=0.7, stop_words=stopwords.words('english'))  \n",
    "train_title = vectorizer_train.fit_transform(documents_train).toarray()"
   ]
  },
  {
   "cell_type": "code",
   "execution_count": 0,
   "metadata": {
    "colab": {},
    "colab_type": "code",
    "id": "O2hnAN-npAAh"
   },
   "outputs": [],
   "source": [
    "#Test\n",
    "vectorizer_test = CountVectorizer(max_features=1500, vocabulary= vocab, min_df=5, max_df=0.7, stop_words=stopwords.words('english'))  \n",
    "test_title = vectorizer_test.fit_transform(documents_test).toarray()"
   ]
  },
  {
   "cell_type": "markdown",
   "metadata": {
    "colab_type": "text",
    "id": "CfhrlBZ9pAAi"
   },
   "source": [
    "#### Finding TFIDF"
   ]
  },
  {
   "cell_type": "code",
   "execution_count": 0,
   "metadata": {
    "colab": {},
    "colab_type": "code",
    "id": "3AT4fpEypAAj"
   },
   "outputs": [],
   "source": [
    "# Import TfidfTransformer\n",
    "from sklearn.feature_extraction.text import TfidfTransformer"
   ]
  },
  {
   "cell_type": "code",
   "execution_count": 0,
   "metadata": {
    "colab": {},
    "colab_type": "code",
    "id": "umsXL_nKpAAk"
   },
   "outputs": [],
   "source": [
    "#Train\n",
    "tfidfconverter_train = TfidfTransformer()\n",
    "train_title = tfidfconverter_train.fit_transform(train_title).toarray()"
   ]
  },
  {
   "cell_type": "code",
   "execution_count": 0,
   "metadata": {
    "colab": {},
    "colab_type": "code",
    "id": "Hd65H-5hpAAl"
   },
   "outputs": [],
   "source": [
    "#Test\n",
    "tfidfconverter_test = TfidfTransformer()\n",
    "test_title = tfidfconverter_test.fit_transform(test_title).toarray()"
   ]
  },
  {
   "cell_type": "markdown",
   "metadata": {
    "colab_type": "text",
    "id": "akY-6s8WpAAm"
   },
   "source": [
    "### 6) Split tdata"
   ]
  },
  {
   "cell_type": "code",
   "execution_count": 0,
   "metadata": {
    "colab": {},
    "colab_type": "code",
    "id": "r3qautXCpAAm"
   },
   "outputs": [],
   "source": [
    "# Import train_test_split\n",
    "from sklearn.model_selection import train_test_split  "
   ]
  },
  {
   "cell_type": "code",
   "execution_count": 0,
   "metadata": {
    "colab": {},
    "colab_type": "code",
    "id": "XQn18dq5pAAn"
   },
   "outputs": [],
   "source": [
    "#Train and Validation\n",
    "X_train = train_title\n",
    "y_train = train_label"
   ]
  },
  {
   "cell_type": "code",
   "execution_count": 0,
   "metadata": {
    "colab": {},
    "colab_type": "code",
    "id": "fbJEPUwfpAAo"
   },
   "outputs": [],
   "source": [
    "#Test\n",
    "X_test = test_title\n",
    "y_test = test_label"
   ]
  },
  {
   "cell_type": "markdown",
   "metadata": {
    "colab_type": "text",
    "id": "taNP2PMUpAAp"
   },
   "source": [
    "### 7) Create a Naive Bayes Model"
   ]
  },
  {
   "cell_type": "markdown",
   "metadata": {
    "colab_type": "text",
    "id": "8neLstWXpAAp"
   },
   "source": [
    "#### Import the Naive Bayes algorithms "
   ]
  },
  {
   "cell_type": "code",
   "execution_count": 0,
   "metadata": {
    "colab": {},
    "colab_type": "code",
    "id": "55QPGNL3pAAp"
   },
   "outputs": [],
   "source": [
    "# Import Import RandomForestClassifier\n",
    "from sklearn.naive_bayes import GaussianNB"
   ]
  },
  {
   "cell_type": "markdown",
   "metadata": {
    "colab_type": "text",
    "id": "XUx0RFWRpAAq"
   },
   "source": [
    "#### Set the Naive Bayes model"
   ]
  },
  {
   "cell_type": "code",
   "execution_count": 0,
   "metadata": {
    "colab": {},
    "colab_type": "code",
    "id": "AdL4Sq7opAAr"
   },
   "outputs": [],
   "source": [
    "# Set the classifier_1\n",
    "classifier_1 =  GaussianNB()"
   ]
  },
  {
   "cell_type": "markdown",
   "metadata": {
    "colab_type": "text",
    "id": "kR_zTT5bpAAr"
   },
   "source": [
    "### 8) Cross Validation"
   ]
  },
  {
   "cell_type": "markdown",
   "metadata": {
    "colab_type": "text",
    "id": "7G0IejQ0pAAs"
   },
   "source": [
    "#### Implement cross validation"
   ]
  },
  {
   "cell_type": "code",
   "execution_count": 0,
   "metadata": {
    "colab": {},
    "colab_type": "code",
    "id": "n7qkmvGUpAAs",
    "outputId": "3b550494-9264-4758-bd82-0bdf13b1081d"
   },
   "outputs": [
    {
     "name": "stderr",
     "output_type": "stream",
     "text": [
      "[Parallel(n_jobs=1)]: Using backend SequentialBackend with 1 concurrent workers.\n",
      "/Users/angelfelipemagnossaodepaula/anaconda3/lib/python3.6/site-packages/sklearn/model_selection/_split.py:652: Warning: The least populated class in y has only 2 members, which is too few. The minimum number of members in any class cannot be less than n_splits=10.\n",
      "  % (min_groups, self.n_splits)), Warning)\n",
      "[Parallel(n_jobs=1)]: Done  10 out of  10 | elapsed:  2.6min finished\n"
     ]
    }
   ],
   "source": [
    "#It is StratifiedKFold cross validation\n",
    "from sklearn.model_selection import cross_val_score  \n",
    "all_accuracies = cross_val_score(estimator=classifier_1, scoring= 'accuracy', X=X_train, y=y_train, cv=10, verbose=1)"
   ]
  },
  {
   "cell_type": "markdown",
   "metadata": {
    "colab_type": "text",
    "id": "sZT8-t5xpAAt"
   },
   "source": [
    "#### Print the accuracies"
   ]
  },
  {
   "cell_type": "code",
   "execution_count": 0,
   "metadata": {
    "colab": {},
    "colab_type": "code",
    "id": "4uhIlIrppAAu",
    "outputId": "2f133fa3-fd9d-4319-cd54-d7b4b10e9dab"
   },
   "outputs": [
    {
     "name": "stdout",
     "output_type": "stream",
     "text": [
      "[0.224      0.23966942 0.22033898 0.21186441 0.16521739 0.20535714\n",
      " 0.23853211 0.19266055 0.21296296 0.21495327]\n"
     ]
    }
   ],
   "source": [
    "print(all_accuracies)"
   ]
  },
  {
   "cell_type": "markdown",
   "metadata": {
    "colab_type": "text",
    "id": "ZtrMMimKpAAw"
   },
   "source": [
    "#### Print the average of all the accuracies"
   ]
  },
  {
   "cell_type": "code",
   "execution_count": 0,
   "metadata": {
    "colab": {},
    "colab_type": "code",
    "id": "7nEYjlptpAAw",
    "outputId": "b1a9c417-8a43-4453-8fcd-7e1e8b4bbccc"
   },
   "outputs": [
    {
     "name": "stdout",
     "output_type": "stream",
     "text": [
      "0.21255562400210617\n"
     ]
    }
   ],
   "source": [
    "print(all_accuracies.mean())"
   ]
  },
  {
   "cell_type": "markdown",
   "metadata": {
    "colab_type": "text",
    "id": "SfldQbQzpAAy"
   },
   "source": [
    "### 9) Predicting Sentiment"
   ]
  },
  {
   "cell_type": "markdown",
   "metadata": {
    "colab_type": "text",
    "id": "V2DpNZIlpAAy"
   },
   "source": [
    "#### Training Using the full \" train dataset \" "
   ]
  },
  {
   "cell_type": "code",
   "execution_count": 0,
   "metadata": {
    "colab": {},
    "colab_type": "code",
    "id": "CZ4K4KEUpAAy"
   },
   "outputs": [],
   "source": [
    "#Test\n",
    "X_train_full = train_title\n",
    "y_train_full = train_label"
   ]
  },
  {
   "cell_type": "code",
   "execution_count": 0,
   "metadata": {
    "colab": {},
    "colab_type": "code",
    "id": "mvYudKhEpAAz",
    "outputId": "4a1ae48b-4b09-4ec3-f139-7562ec8e7612"
   },
   "outputs": [
    {
     "data": {
      "text/plain": [
       "GaussianNB(priors=None, var_smoothing=1e-09)"
      ]
     },
     "execution_count": 28,
     "metadata": {
      "tags": []
     },
     "output_type": "execute_result"
    }
   ],
   "source": [
    "# Set the classifier\n",
    "classifier_2 =  GaussianNB ()\n",
    "classifier_2.fit(X_train_full, y_train_full)"
   ]
  },
  {
   "cell_type": "markdown",
   "metadata": {
    "colab_type": "text",
    "id": "48Jm2XlnpAA1"
   },
   "source": [
    "#### Prediction"
   ]
  },
  {
   "cell_type": "code",
   "execution_count": 0,
   "metadata": {
    "colab": {},
    "colab_type": "code",
    "id": "7xrze7KxpAA1"
   },
   "outputs": [],
   "source": [
    "y_pred = classifier_2.predict(X_test)"
   ]
  },
  {
   "cell_type": "markdown",
   "metadata": {
    "colab_type": "text",
    "id": "Qq0P8YaIpAA2"
   },
   "source": [
    "#### Transforme the predict labels for Regression stamps"
   ]
  },
  {
   "cell_type": "code",
   "execution_count": 0,
   "metadata": {
    "colab": {},
    "colab_type": "code",
    "id": "zlf7SQ7ipAA3"
   },
   "outputs": [],
   "source": [
    "#Reshape and transform the predict result to the old problem scale\n",
    "y_pred = (y_pred / 10)-1"
   ]
  },
  {
   "cell_type": "markdown",
   "metadata": {
    "colab_type": "text",
    "id": "gRmYsvAUpAA4"
   },
   "source": [
    "### 10) Evaluating the Model"
   ]
  },
  {
   "cell_type": "markdown",
   "metadata": {
    "colab_type": "text",
    "id": "aZGGLw2EpAA4"
   },
   "source": [
    "#### Ordinary metrics"
   ]
  },
  {
   "cell_type": "code",
   "execution_count": 0,
   "metadata": {
    "colab": {},
    "colab_type": "code",
    "id": "oX_U3shPpAA4",
    "outputId": "bb1e8146-3e76-4253-81e9-9f019cf97243"
   },
   "outputs": [
    {
     "name": "stdout",
     "output_type": "stream",
     "text": [
      "Mean Absolute Error: 0.3196354378818737\n",
      "Mean Squred Error: 0.20052752953156827\n",
      "Root Mean Squared Error: 0.4478030030399174\n"
     ]
    }
   ],
   "source": [
    "# Import Import classification_report, confusion_matrix, accuracy_score\n",
    "from sklearn.metrics import mean_absolute_error, mean_squared_error\n",
    "\n",
    "print('Mean Absolute Error:', mean_absolute_error(y_test,y_pred))  \n",
    "print('Mean Squred Error:', mean_squared_error(y_test,y_pred))  \n",
    "print('Root Mean Squared Error:', np.sqrt(mean_squared_error(y_test, y_pred)))  "
   ]
  },
  {
   "cell_type": "markdown",
   "metadata": {
    "colab_type": "text",
    "id": "5czPsrDSpAA6"
   },
   "source": [
    "#### SanVal metric"
   ]
  },
  {
   "cell_type": "code",
   "execution_count": 0,
   "metadata": {
    "colab": {},
    "colab_type": "code",
    "id": "CLUx96XkpAA6"
   },
   "outputs": [],
   "source": [
    "#Reshape matrix\n",
    "#Predict\n",
    "y_pred=y_pred.reshape(1,-1)\n",
    "#Label\n",
    "y_test=y_test.reshape(1,-1)"
   ]
  },
  {
   "cell_type": "code",
   "execution_count": 0,
   "metadata": {
    "colab": {},
    "colab_type": "code",
    "id": "CgFWXbSypAA7",
    "outputId": "3325f5bc-0a14-4a07-facb-e8c8a81aa8d3"
   },
   "outputs": [
    {
     "data": {
      "text/plain": [
       "array([[0.43028183]])"
      ]
     },
     "execution_count": 33,
     "metadata": {
      "tags": []
     },
     "output_type": "execute_result"
    }
   ],
   "source": [
    "SenVal_metric(y_test, y_pred)"
   ]
  },
  {
   "cell_type": "markdown",
   "metadata": {
    "colab_type": "text",
    "id": "M26AgXj1pAA9"
   },
   "source": [
    "### 11) Learning Curve"
   ]
  },
  {
   "cell_type": "code",
   "execution_count": 0,
   "metadata": {
    "colab": {},
    "colab_type": "code",
    "id": "E16Yk-McpAA9"
   },
   "outputs": [],
   "source": [
    "# Import curve/plot\n",
    "from SenVal_Functions import plot_learning_curve"
   ]
  },
  {
   "cell_type": "code",
   "execution_count": 0,
   "metadata": {
    "colab": {},
    "colab_type": "code",
    "id": "XoplzqfkpAA-"
   },
   "outputs": [],
   "source": [
    "# Set the of learn curve plot\n",
    "estimator = GaussianNB ()\n",
    "title = r\"Learning Curves (Regression Naive Bayses)\"\n",
    "xlim= None\n",
    "ylim=(0, 1)\n",
    "y_label=\"Score\"\n",
    "scoring ='accuracy'\n",
    "cv=10\n",
    "n_jobs=-1"
   ]
  },
  {
   "cell_type": "code",
   "execution_count": 0,
   "metadata": {
    "colab": {},
    "colab_type": "code",
    "id": "QOYeCsVQpAA_",
    "outputId": "6781c8e0-e1a3-44a5-ce5d-d1475ed27b9a"
   },
   "outputs": [
    {
     "name": "stderr",
     "output_type": "stream",
     "text": [
      "/Users/angelfelipemagnossaodepaula/anaconda3/lib/python3.6/site-packages/sklearn/model_selection/_split.py:652: Warning: The least populated class in y has only 2 members, which is too few. The minimum number of members in any class cannot be less than n_splits=10.\n",
      "  % (min_groups, self.n_splits)), Warning)\n"
     ]
    },
    {
     "data": {
      "text/plain": [
       "<module 'matplotlib.pyplot' from '/Users/angelfelipemagnossaodepaula/anaconda3/lib/python3.6/site-packages/matplotlib/pyplot.py'>"
      ]
     },
     "execution_count": 36,
     "metadata": {
      "tags": []
     },
     "output_type": "execute_result"
    },
    {
     "data": {
      "image/png": "[encoded data removed]",
      "text/plain": [
       "<Figure size 432x288 with 1 Axes>"
      ]
     },
     "metadata": {
      "tags": []
     },
     "output_type": "display_data"
    }
   ],
   "source": [
    "#Apply learning Curve\n",
    "plot_learning_curve(estimator, title, X_train_full, y_train_full, xlim, ylim, cv, n_jobs, scoring ,y_label, kind='classificatin')"
   ]
  },
  {
   "cell_type": "markdown",
   "metadata": {
    "colab_type": "text",
    "id": "xDn0gjH2pABA"
   },
   "source": [
    "### 12) Saving and Loading the Model"
   ]
  },
  {
   "cell_type": "code",
   "execution_count": 0,
   "metadata": {
    "colab": {},
    "colab_type": "code",
    "id": "MJ2-f-fKpABA"
   },
   "outputs": [],
   "source": [
    "with open('Naive_Bayes_classifier', 'wb') as picklefile:\n",
    "    pickle.dump(classifier_2,picklefile)"
   ]
  },
  {
   "cell_type": "code",
   "execution_count": 0,
   "metadata": {
    "colab": {},
    "colab_type": "code",
    "id": "5h--BYDrpABB"
   },
   "outputs": [],
   "source": [
    "#Load Model\n",
    "#with open('text_classifier', 'rb') as training_model:  \n",
    "    #model = pickle.load(training_model)"
   ]
  }
 ],
 "metadata": {
  "colab": {
   "name": "(Regression) Naive Bayes_homemade.ipynb",
   "provenance": [],
   "version": "0.3.2"
  },
  "kernelspec": {
   "display_name": "Python 3",
   "language": "python",
   "name": "python3"
  },
  "language_info": {
   "codemirror_mode": {
    "name": "ipython",
    "version": 3
   },
   "file_extension": ".py",
   "mimetype": "text/x-python",
   "name": "python",
   "nbconvert_exporter": "python",
   "pygments_lexer": "ipython3",
   "version": "3.6.8"
  }
 },
 "nbformat": 4,
 "nbformat_minor": 1
}
