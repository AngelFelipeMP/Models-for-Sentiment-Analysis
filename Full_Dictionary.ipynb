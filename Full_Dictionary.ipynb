{
 "cells": [
  {
   "cell_type": "markdown",
   "metadata": {},
   "source": [
    "### 1) Load Libries"
   ]
  },
  {
   "cell_type": "code",
   "execution_count": 1,
   "metadata": {},
   "outputs": [],
   "source": [
    "import numpy as np\n",
    "import matplotlib.pyplot as plt\n",
    "import pandas as pd\n",
    "import pickle"
   ]
  },
  {
   "cell_type": "markdown",
   "metadata": {},
   "source": [
    "### 2) Load files"
   ]
  },
  {
   "cell_type": "code",
   "execution_count": 2,
   "metadata": {},
   "outputs": [],
   "source": [
    "#file test\n",
    "df_test = pd.read_csv('test.csv')\n",
    "#train\n",
    "df_train = pd.read_csv('train.csv')"
   ]
  },
  {
   "cell_type": "code",
   "execution_count": 3,
   "metadata": {},
   "outputs": [
    {
     "data": {
      "text/html": [
       "<div>\n",
       "<style scoped>\n",
       "    .dataframe tbody tr th:only-of-type {\n",
       "        vertical-align: middle;\n",
       "    }\n",
       "\n",
       "    .dataframe tbody tr th {\n",
       "        vertical-align: top;\n",
       "    }\n",
       "\n",
       "    .dataframe thead th {\n",
       "        text-align: right;\n",
       "    }\n",
       "</style>\n",
       "<table border=\"1\" class=\"dataframe\">\n",
       "  <thead>\n",
       "    <tr style=\"text-align: right;\">\n",
       "      <th></th>\n",
       "      <th>id</th>\n",
       "      <th>company</th>\n",
       "      <th>sentiment_range</th>\n",
       "      <th>title</th>\n",
       "      <th>setiment_label</th>\n",
       "      <th>setiment_score</th>\n",
       "    </tr>\n",
       "  </thead>\n",
       "  <tbody>\n",
       "    <tr>\n",
       "      <th>0</th>\n",
       "      <td>1144</td>\n",
       "      <td>Ashtead</td>\n",
       "      <td>0.588</td>\n",
       "      <td>Ashtead to buy back shares, full-year profit b...</td>\n",
       "      <td>pos</td>\n",
       "      <td>1</td>\n",
       "    </tr>\n",
       "    <tr>\n",
       "      <th>1</th>\n",
       "      <td>1145</td>\n",
       "      <td>Shell</td>\n",
       "      <td>0.276</td>\n",
       "      <td>EU regulators clear Shell's takeover of BG Group</td>\n",
       "      <td>pos</td>\n",
       "      <td>1</td>\n",
       "    </tr>\n",
       "    <tr>\n",
       "      <th>2</th>\n",
       "      <td>1146</td>\n",
       "      <td>Prudential</td>\n",
       "      <td>-0.651</td>\n",
       "      <td>UK's FTSE has worst day so far in 2015 as BG a...</td>\n",
       "      <td>neg</td>\n",
       "      <td>0</td>\n",
       "    </tr>\n",
       "    <tr>\n",
       "      <th>3</th>\n",
       "      <td>1147</td>\n",
       "      <td>GlaxoSmithKline</td>\n",
       "      <td>0.390</td>\n",
       "      <td>GlaxoSmithKline acquires HIV assets</td>\n",
       "      <td>pos</td>\n",
       "      <td>1</td>\n",
       "    </tr>\n",
       "    <tr>\n",
       "      <th>4</th>\n",
       "      <td>1148</td>\n",
       "      <td>Barclays</td>\n",
       "      <td>-0.834</td>\n",
       "      <td>Barclays faces another heavy forex fine</td>\n",
       "      <td>neg</td>\n",
       "      <td>0</td>\n",
       "    </tr>\n",
       "  </tbody>\n",
       "</table>\n",
       "</div>"
      ],
      "text/plain": [
       "     id          company  sentiment_range  \\\n",
       "0  1144          Ashtead            0.588   \n",
       "1  1145            Shell            0.276   \n",
       "2  1146       Prudential           -0.651   \n",
       "3  1147  GlaxoSmithKline            0.390   \n",
       "4  1148         Barclays           -0.834   \n",
       "\n",
       "                                               title setiment_label  \\\n",
       "0  Ashtead to buy back shares, full-year profit b...            pos   \n",
       "1   EU regulators clear Shell's takeover of BG Group            pos   \n",
       "2  UK's FTSE has worst day so far in 2015 as BG a...            neg   \n",
       "3                GlaxoSmithKline acquires HIV assets            pos   \n",
       "4            Barclays faces another heavy forex fine            neg   \n",
       "\n",
       "   setiment_score  \n",
       "0               1  \n",
       "1               1  \n",
       "2               0  \n",
       "3               1  \n",
       "4               0  "
      ]
     },
     "execution_count": 3,
     "metadata": {},
     "output_type": "execute_result"
    }
   ],
   "source": [
    "df_test.head()"
   ]
  },
  {
   "cell_type": "markdown",
   "metadata": {},
   "source": [
    "### 5) Split dataset in \"title\" and \"label\""
   ]
  },
  {
   "cell_type": "code",
   "execution_count": 4,
   "metadata": {},
   "outputs": [],
   "source": [
    "#Train\n",
    "train_title = df_train['title']\n",
    "\n",
    "#Test\n",
    "test_title = df_test['title']"
   ]
  },
  {
   "cell_type": "code",
   "execution_count": 5,
   "metadata": {},
   "outputs": [
    {
     "data": {
      "text/plain": [
       "0    Morrisons book second consecutive quarter of s...\n",
       "1    IMI posts drop in first-quarter organic revenu...\n",
       "2    Glencore to refinance its short-term debt earl...\n",
       "3    EasyJet attracts more passengers in June but s...\n",
       "4               Barclays 'bad bank' chief to step down\n",
       "Name: title, dtype: object"
      ]
     },
     "execution_count": 5,
     "metadata": {},
     "output_type": "execute_result"
    }
   ],
   "source": [
    "#Train\n",
    "train_title.head()"
   ]
  },
  {
   "cell_type": "code",
   "execution_count": 6,
   "metadata": {},
   "outputs": [
    {
     "ename": "NameError",
     "evalue": "name 'train_label' is not defined",
     "output_type": "error",
     "traceback": [
      "\u001b[0;31m---------------------------------------------------------------------------\u001b[0m",
      "\u001b[0;31mNameError\u001b[0m                                 Traceback (most recent call last)",
      "\u001b[0;32m<ipython-input-6-865b7436d406>\u001b[0m in \u001b[0;36m<module>\u001b[0;34m()\u001b[0m\n\u001b[1;32m      1\u001b[0m \u001b[0;31m#Train\u001b[0m\u001b[0;34m\u001b[0m\u001b[0;34m\u001b[0m\u001b[0;34m\u001b[0m\u001b[0m\n\u001b[0;32m----> 2\u001b[0;31m \u001b[0mtrain_label\u001b[0m\u001b[0;34m.\u001b[0m\u001b[0mhead\u001b[0m\u001b[0;34m(\u001b[0m\u001b[0;34m)\u001b[0m\u001b[0;34m\u001b[0m\u001b[0;34m\u001b[0m\u001b[0m\n\u001b[0m",
      "\u001b[0;31mNameError\u001b[0m: name 'train_label' is not defined"
     ]
    }
   ],
   "source": [
    "#Train\n",
    "train_label.head()"
   ]
  },
  {
   "cell_type": "markdown",
   "metadata": {},
   "source": [
    "### 6) Split each title in word"
   ]
  },
  {
   "cell_type": "code",
   "execution_count": 16,
   "metadata": {},
   "outputs": [],
   "source": [
    "title_tokens_train = [title.split() for title in train_title]\n",
    "title_tokens_test = [title.split() for title in test_title]"
   ]
  },
  {
   "cell_type": "code",
   "execution_count": 17,
   "metadata": {},
   "outputs": [],
   "source": [
    "def token_list(list_):\n",
    "    full_words = []\n",
    "\n",
    "    for phrase in list_:\n",
    "        for word in phrase:\n",
    "            full_words.append(word)\n",
    "    return full_words"
   ]
  },
  {
   "cell_type": "code",
   "execution_count": 18,
   "metadata": {},
   "outputs": [],
   "source": [
    "word_list_title = token_list(title_tokens_test)\n",
    "word_list_train = token_list(title_tokens_train)"
   ]
  },
  {
   "cell_type": "code",
   "execution_count": 30,
   "metadata": {},
   "outputs": [],
   "source": [
    "Sum_of_words = word_list_title + word_list_train"
   ]
  },
  {
   "cell_type": "code",
   "execution_count": 31,
   "metadata": {},
   "outputs": [
    {
     "data": {
      "text/plain": [
       "15627"
      ]
     },
     "execution_count": 31,
     "metadata": {},
     "output_type": "execute_result"
    }
   ],
   "source": [
    "len(Sum_of_words)"
   ]
  },
  {
   "cell_type": "code",
   "execution_count": 32,
   "metadata": {},
   "outputs": [
    {
     "name": "stdout",
     "output_type": "stream",
     "text": [
      "['Ashtead', 'to', 'buy', 'back', 'shares,', 'full-year', 'profit', 'beats', 'estimates', 'EU', 'regulators', 'clear', \"Shell's\", 'takeover', 'of', 'BG', 'Group', \"UK's\", 'FTSE', 'has', 'worst', 'day', 'so', 'far', 'in', '2015', 'as', 'and', 'Prudential', 'fall', 'GlaxoSmithKline', 'acquires', 'HIV', 'assets', 'Barclays', 'faces', 'another', 'heavy', 'forex', 'fine', 'Diageo', 'Shares', 'Surge', 'on', 'Report', 'Possible', 'Takeover', 'by', 'Lemann', 'Borealis', 'Infrastructure', 'putting', 'together', 'new', 'Severn', 'Trent', 'bid', '100', 'falls', 'China', 'devaluation', 'hits', 'Burberry,', 'mining', 'stocks', 'London', 'Stock', 'Exchange', 'â€“', 'Deutsche', 'Boerse', 'merger', 'under', 'threat', 'from', 'Brexit', 'Tesco', 'Abandons', 'Video-Streaming', 'Ambitions', 'Blinkbox', 'Sale', 'UPDATE', '1-AstraZeneca', 'sells', 'rare', 'cancer', 'drug', 'Sanofi', 'for', 'up', '$300', 'mln', 'Homebuilders,', 'Shire', 'Gains', 'Spur', 'Rally', 'Beyond', 'Record', 'CompaniesRoyal', 'Mail', 'adds', 'a', 'penny', 'stamp', 'prices', 'Royal', 'shares', 'Ofcom', 'publishes', 'discussion', 'document', 'ITV', 'backs', 'Carl', 'Frampton', 'revive', 'the', 'glory', 'days', 'The', 'Coca-Cola', 'Company', 'FEMSA', 'Acquire', 'AdeS', 'Soy-Based', 'Beverage', 'Business', 'From', 'Unilever', 'Ex-Barclays', 'Trader', 'Libor', 'Case', 'Says', 'Boss', 'Hit', 'Him', 'With', 'Bat', 'Morrisons', 'warns', 'long', 'road', 'recovery', 'after', 'plunge', 'Hargreaves', 'Lansdown', 'posts', 'record', 'inflows', '4', 'mths', 'end-April', 'AstraZeneca', 'And', 'Daiichi', 'Sankyo', 'To', 'Jointly', 'Commercialise', 'MOVANTIK', 'In', 'US', 'EasyJet', 'Passenger', 'Numbers', 'Load', 'Factor', 'Improve', 'March', 'WPP', 'wins', 'race', \"'programmatic\", \"buying'\", 'agency', 'Essence', 'Digital', 'Old', 'Mutual', 'nears', 'deal', 'sell', 'business', 'UK', \"builders'\", 'merchant', 'Travis', 'Perkins', 'reports', 'strong', 'start', 'year', 'Clinigen', 'chosen', 'manage', 'access', 'programme', 'next', '...', 'CompaniesGlencore', 'hit', '3-month', 'high', 'refinancing', 'key', 'credit', 'line', 'weighing', 'Acerta', 'secure', 'blood', 'Associated', 'British', 'Foods', 'raises', 'guidance', 'sterling', 'wilts', 'Standard', 'Life', 'share', 'price:', 'Insurer', 'buys', 'advice', 'firm', 'Pearson', 'Jones', 'Bunzl', 'Lifts', 'Dividend', 'Again', 'As', 'Acquisitions', 'Continue', 'Boost', 'Profits', 'Goldman', 'Sachs,', 'Barclays,', 'HSBC', 'downplay', 'CompaniesMorrison', 'evicted', 'Worldpay', 'joins', '\"breached', 'competition', 'law\"', 'over', 'delivery', 'service', 'changes,', 'claims', 'Rolls-Royce', 'Holdings', 'Reduce', '600', 'Employees', 'Its', 'Marine', 'overhaul', 'fails', 'impress', 'RBS', 'Investment', 'Bank', 'Return', 'Profit', 'After', 'Overhaul,', 'CEO', 'Acquires', 'ZS', 'Pharma', '$2.7', 'Billion', 'Deal', 'money', 'laundering', \"report's\", 'release', 'delayed', 'amid', 'appeal', 'Keith', 'Skeoch', 'step', 'David', 'Nish', 'quits', 'chief', 'executive', 'Legal', '&', \"General's\", 'capital', 'update', 'outweighs', 'rise', 'Billionaire', 'Chief', 'Faces', '$210', 'Million', 'Bill', 'Glencore', 'Seeks', 'Cash', 'Market', 'Report:', 'New', 'Â£500000', 'worth', 'Buffett', 'Embarrassed', \"'Thumb-Sucking'\", 'Exit', 'Stake', 'CompaniesPetrofac', 'earnings', 'battered', 'North', 'Sea', 'project', 'losses', 'General', 'arm', '50', 'pct', 'stake', 'MediaCityUK', 'Manchester', '$70', 'Meets', 'Shareholder', 'Skepticism', '1-Engineering', 'Smiths', 'confirms', 'appointment', 'Aspen', 'Buy', 'Anaesthetics', '$520', '5.7', 'Q4', 'copper', 'output', '2-Three', 'former', 'traders', 'found', 'guilty', 'rigging', 'trial', 'easyJet', 'expects', 'resilient', 'demand', 'withstand', 'security', 'fears', 'Militants', 'fire', 'rockets', 'at', 'Algerian', 'BP/Statoil', 'gas', 'plant,', 'no', 'casualties', 'York', 'judge', 'tosses', 'Saudi', \"developer's\", '$10', 'billion', 'lawsuit', 'vs', '3-SABMiller', 'rejects', \"'informal'\", 'offer', 'AB', 'InBev', 'too', 'low', '-', 'Bloomberg', '1-LPC-Glencore', 'launches', 'US$8.45bn', 'loan', 'join', 'CII', 'push', 'professionalism', 'Burberry', 'Christopher', 'Bailey', 'Gets', '75%', 'Pay', 'Cut', 'Disappointing', 'Results', 'REFILE-RPT-Beer', 'mega', 'jobs', 'battle', \"SABMiller's\", 'birthplace', 'Shell', 'Opens', 'Natural', 'Gas', 'Wells', 'Off', 'Irish', 'Coast', 'Industry', 'NewsStrong', 'end', 'tough', 'Antofagasta', 'CaixaBank,', 'dos', 'Santos', 'Agree', 'Plan', 'BPI', 'Angola', 'Exposure', \"AstraZeneca's\", 'investment', 'eats', 'into', 'UPDATE:', 'Numbers,', 'Aer', 'Lingus', 'Traffic', 'Up', 'February', 'Whitbread', '49%', 'Pure', 'food', 'chain', 'How', 'Big', 'Was', \"BP's\", '$5.8', 'Loss?', 'Philip', 'Morris,', 'BAT', 'Sue', 'Over', 'Law', 'Taking', 'Branding', 'Packs', 'CompaniesShine', 'comes', 'off', 'Kingfisher', 'despite', 'expansion', 'plans', 'BHP', 'Billiton', 'Face', 'Questions', 'Shareholders', 'Chime', 'Communications', 'Set', 'Be', 'Acquired', 'By', 'Providence', '1-BP', 'shareholders', 'more', 'disclosure', 'climate', 'change', 'risks', 'DBS,', 'Julius', 'Baer', 'emerge', 'potential', 'bidders', 'Asia', 'wealth', 'unit', 'picks', 'ex-JPMorgan', 'exec', 'Staley', 'CEO,', 'Dec', '1', 'announce', 'position', 'against', 'acquisition', '2-Tesco', 'South', 'Korean', 'MBK-led', 'group', '$6.1', 'bln', \"Petrofac's\", 'order', 'backlog', 'rises', '13', 'pounds', 'job', 'now', 'equal', \"Facebook's\", 'entire', 'payroll', '3', 'Reasons', 'Why', 'Lloyds', 'Banking', 'PLC', 'Is', 'Worthy', 'Of', 'A', 'Place', 'Your', 'ISA', 'PRESS:', 'More', 'Than', '30000', 'Jobs', 'Times', 'Fined', 'Â£40m', 'French', 'Probe', 'Aviva,', 'M&G', 'suspend', 'property', 'funds', 'investors', 'panic', \"Priceline's\", 'stock', 'jumps', 'upgrade', 'CompaniesKingfisher', 'sliding', 'promise', 'Â£600m', 'return', 'Oil', 'giant', 'BP', 'loss', '$4.4', '4th', 'quarter', '2014', 'CompaniesAB', 'InBev-SABMiller', 'deadline', 'extended', '2nd', 'time', 'Aviva', 'closes', 'three', 'offices', '1500', 'cuts', 'begin', 'attacks', 'SABMiller', 'rebuffal', 'administration', '5', '312', 'RPT-UPDATE', 'turnaround', 'gathers', 'pace', 'supermarket', 'fresh', 'loses', 'limit', 'Clean', 'Water', 'Act', 'RPT-Old', 'Q1', 'gross', 'sales', 'beat', 'forecasts,', '18', 'Mail,', 'Johnson', 'Matthey', 'lead', 'lower', 'Should', 'You', 'Follow', 'Berkshire', 'Hathaway', 'Into', 'Apple', 'Stock?', \"Barclays'\", 'benchmarking', 'MarketsShire', '2.5%', 'Baxalta', '6%', '$32bn', 'looks', 'win', 'Who', 'will', 'make', 'perfect', 'match', \"Morrisons'\", 'bizarre', 'love', 'triangle?', 'Builder', 'Persimmon', 'hails', 'house', 'flat;', 'Chartered', 'leads', 'risers', 'Che', 'Banca!', 'says', 'lift', '2016-17', 'targets', 'growth', 'across', 'units,', 'scraps', 'ViiV', 'IPO', 'Credit', 'Suisse', 'boss', 'stiff', 'challenge', 'Aberdeen', 'Asset', 'Management', 'Could', 'Double', 'Money', '2018', 'signals', 'it', \"won't\", 'go', 'hostile', 'chairman', 'John', 'Stewart', 'retire', '2016', 'holders', 'with', 'hard', 'questions', 'build', 'large-scale', 'chemical', 'plant', 'is', 'improving', 'but', \"it's\", 'red-letter', 'G4S', 'services', 'contracts', 'Iraq', 'Afghanistan', '5-SABMiller', \"InBev's\", '$104', 'approach', 'housebuilder', 'Cairn', 'Homes', 'listing', 'Exclusive', 'StanChart', 'axes', 'senior', 'bankers', 'energy', 'M&A', 'team:', 'sources', 'Eli', 'Lilly', 'Co.', '(LLY)', 'Has', 'Broken', 'Out', 'High', 'On', 'Collaboration', '6500', 'Drops', 'CompaniesSmiths', '$710m', 'system', 'maker', 'Cuts', '450', 'Final', 'Homeplus', 'Stores', 'Closed', 'Sky', 'News', 'gives', 'top', 'bosses,', 'including', 'Jes', 'Staley,', 'Â£8.7m', \"Britain's\", 'Ashtead,', 'commodities', 'pressure', 'Dixons', \"Carphone's\", 'Allan', 'frame', \"Philippines'\", 'San', 'Miguel', 'partner', 'Kirin', 'if', 'bids', 'Expects', 'Gain', 'Settling', 'Lehman', 'Bros', 'Trustee', 'ups', 'looms', \"Japan's\", 'Nikkei', 'lands', 'Financial', '$1.3', '2-Warren', \"Buffett's\", 'nearing', 'Precision', 'starts', 'land', 'sell-off', 'process', 'CRH', 'CR', 'Laurence', 'acquisitions', 'tally', '$1.3bn', '$100', 'billion-plus', 'InBev,', 'Miners', 'help', 'recover,', 'Rio', 'Tinto', 'higher', \"Tesco's\", 'Dunnhumby:', 'Sir', 'Martin', \"Sorrell's\", 'about', 'take', 'CompaniesDeutsche', 'taps', 'ex-StanChart', 'audit', 'role', 'FY', 'statutory', 'pre-tax', '20.5%', 'planning', 'cut', '640', 'costs', 'Property', 'Stocks', 'Slump', 'Freezes', 'U.K.', 'Fund', 'advisory', 'groups', 'membership', 'vital', 'market', 'National', 'Grid', 'Steve', 'Holliday', 'concerns', 'weigh', 'Elevates', '2ND', 'Mulls', 'Capital', 'Raising', 'Tumbles', 'crash', 'grow', 'Ocwen', 'Reaches', 'Settlement', 'California', 'Regulator', 'renewables', 'shift', 'could', 'spell', 'swift', 'Are', 'ARM', 'plc,', \"Domino's\", 'Pizza', 'plc', 'ASOS', 'must-have', 'stocks?', 'Krispy', 'Kreme', 'bring', 'delicious', 'doughnuts', 'Maryhill', 'Glasgow', 'director', 'puts', 'table', 'CompaniesHoward', 'Davies', 'subpoenas', 'Volkswagen', 'bank', 'fraud', 'law', 'emissions', 'probe:', 'source', 'Inovio', '$700', 'Cancer', 'Drug', 'forges', 'ahead', 'surges', 'Supreme', 'Court', 'Upholds', '$236', 'Jury', 'Award', 'Against', 'ExxonMobil', 'CIB,', 'Sell', 'Egyptian', 'Joint', 'Venture', 'AXA', 'Randgold', 'Resources', 'Decreases', 'Quick', 'Facts', 'Cost', 'cuts,', 'asset', 'writedowns', 'store', 'REFILE-UPDATE', \"4-Britain's\", 'pay', 'first', 'dividend', 'since', 'rescue', 'big', 'treating', 'suppliers', 'fairly,', 'according', 'MarketsWolseley', 'wilt', '8.8%', 'full', 'results', 'AstraZeneca,', 'Juno', 'latest', 'collaborate', 'immuno-oncology', 'drugs', 'benchmark', 'indices', 'Warren', 'defends', \"Hathaway's\", 'conglomerate', 'structure', 'slump', 'FDA:', 'Data', 'suggests', 'may', 'increase', 'death', 'rate', 'favorites', 'IBM,', 'Fargo', 'Gulf', 'Mexico', 'spill', 'capped', 'ruling', 'Direct', 'Line', 'Raises', 'Guidance', 'Combined', 'Ratio', 'Improvement', '1-SABMiller', 'S.African', 'higher,', 'rand', 'firms', 'apprenticeship', 'drive', '$69.7', 'turn', 'away', \"'have\", \"go'\", 'fliers', 'who', 'arrive', 'less', 'than', '30', 'minutes', 'early', 'Potts:', \"There's\", 'trouble', 'Judge:', '22', 'charges', 'lawyer', 'duplicate', 'others', 'Aldi', 'Lidl', 'speed', 'Tesco,', \"Sainsbury's,\", \"Prudential's\", 'departing', 'Thiam', 'earned', '11.8', 'million', 'LA', 'Schools', 'Drop', 'Products', 'Under', 'Ambitious', 'Technology', 'agrees', 'Â£600000', 'bonus', 'slash', '4000', 'globally', 'oil', 'drop', 'Banco', 'Angolan', 'Unit', 'Collapsed', 'names', 'Kara', 'Raiguel', 'Re', 'pays', 'orphan', 'status', 'Grocer', 'peers', 'branded', 'products', 'cull', 'Papers-', 'eyeing', 'Peppa', 'Pig', 'gets', 'mixed', 'bag', 'postal', 'regulation', 'report', 'dry', 'eye', 'fast-tracked', 'FDA', 'mulls', 'sale', 'distribution', 'Brazil', 'sue', 'Samarco', 'Â£3.5bn', \"3-Buffett's\", 'bet', 'Kinder', 'Morgan', 'CompaniesOil', 'forces', 'Weir', 'deals', 'reflected', 'retailer', 'wrong', 'priorities', 'turns', 'savers', 'glitch', 'takes', 'fight', 'discounters', 'price', 'brands', 'Investors', 'admits', 'redemptions', \"'too\", \"high'\", 'Â£500m', 'outflow', 'METALS-Zinc', '12', 'output,', 'fuelling', 'metals', 'rally', 'Friends', 'Explores', 'Potential', 'Halfords', 'recruits', 'Jill', 'McDonald', 'Ingenious,', 'HSBC,', 'UBS', 'Coutts', 'sued', \"'tax\", \"avoidance'\", 'clients', 'CompaniesITV:', 'jitters', 'advertising', 'seeks', 'boost', 'its', 'above', '10', 'percent', 'boosts', 'towards', 'four', 'half', 'month', 'see', 'white', 'knight', 'painful', 'recovery:', 'CLSA', 'McFarlane', 'seen', 'speeding', 'sales,', 'cost', 'rights', 'Perrigo', '$380', \"Amazon's\", 'grocery', 'only', 'beginning', 'BT', 'Watchdog', 'bans', \"telco's\", 'broadband', 'adverts', 'revenues', 'parcels', 'non-plussed', \"he's\", 'Archie', 'Norman', 'draw', 'attention', 'number', 'that', 'are', 'still', 'there', \"Merkel's\", 'Government', 'Said', 'Support', 'Boerse-LSE', 'Merger', 'Bermuda', 'trust', 'management', 'Insurance', 'Admiral', 'Soar?', 'Teams', 'Movantik', 'Even', 'Superman', 'struggle', 'his', 'dual', 'Samarco,', 'government', 'come', 'closer', '$4.8', 'dam-disaster', 'accord', 'housing', 'steadies', 'dip,', 'not', 'impose', 'controls', '3-Glencore', 'resumes', 'slide', 'investor', 'meeting,', 'Mack', 'purchase', \"2-AstraZeneca's\", 'diabetes', 'Onglyza', '-FDA', '1-Meggitt', 'reiterates', 'annual', 'outlook', 'appoints', \"Mail's\", 'Donald', 'Brydon', 'replace', 'majors', 'like', 'Dutch', 'Shell,', 'Chevron,', 'fail', 'find', 'reserves', 'counter', 'Citigroup', 'OneMain', 'Springleaf', '$4.25', \"Centrica's\", 'protest', \"chief's\", 'package', 'offers', 'rehire', 'staff', 'under-threat', 'My', 'Local', 'Asahi', 'submit', 'week', 'Grolsch', 'Peroni', 'Yomiuri', 'CFO', 'leave', 'company', 'Standout', \"performer'\", 'JS', 'Jacques', 'picked', 'should', 'soon', 'Germanwings', 'disaster', 'affect', 'image', 'budget', 'air', 'travel', 'mines', 'Australia,', 'Chile', 'leap', 'Carphone', \"isn't\", 'worried', 'lags', 'euro', 'zone', 'peers,', 'cap', \"Chartered's\", 'outgoing', 'Peter', 'Sands', 'paid', '$5.1', 'line,', '$1.1', 'impairment', 'charge', 'commodity', 'BHP,', 'Head', 'Tumbling', 'Commodity', 'Rout', 'Deepens', 'forecasts', '5.6', 'pound', 'rises;', '4%', 'Plans', 'Shed', '2800', 'Buying', 'MillerCoors', 'Board', 'Names', 'Gavin', 'Hattersley', 'Interim', 'CompaniesMorrisons', 'survives', 'rebellion', 'Red-Hot', 'Growth', 'Stars!', 'research', 'chemicals', 'Thermo', 'Scientific', 'Delivers', '2.9%', 'Underlying', 'Net', 'Income', 'Germany', 'European', 'scandal', 'widens', 'worries', 'Remain', 'Skeptical', 'About', 'Shell-BG', 'Clydesdale', 'Yorkshire', 'moves', 'independence', 'ICE', 'Start', 'Lining', 'Financing', 'LSE', 'Bidding', 'War', 'Sainsbury', 'LloydsPharmacy', 'forecast-beating', 'operating', '$3.8', 'proposes', '$30', 'all-share', 'tie-up', '1-Britain', '$1.2', 'eyes', 'exit', 'Gabon', 'NewsBarclays', \"'cut\", \"20%'\", 'slumps', 'invest', '$285', 'Swedish', 'Britvic', 'steps', 'overseas', 'Brazilian', 'CompaniesSainsbury', 'upholds', 'manipulation', 'Lead', 'Votes', \"'Out'\", 'shareholding', 'Scotland', 'becomes', 'Facebook', 'customer', 'makes', 'start,', 'notes', 'pre-election', 'uncertainty', 'advances', 'cheer', 'raise', '9', 'through', 'Approves', 'Iressa', 'Lung', 'Treatment', 'Approve', 'BÃ¶rse', 'slip', 'again', 'pressures', 'toll', 'helped', 'external', 'Drugmaker', 'Baxter', 'spin-off', 'NewsWhitbread', 'sink', 'fourth', 'Costa', 'slowdown', 'two-in-one', 'succeeds', 'lung', 'disease', 'test', 'debt', 'review', 'rival', 'exits', 'vows', 'never', 'spin', 'subsidiaries', 'down', 'immune', 'set', 'put', 'mobile', 'FT', 'iron', 'ore', 'equilibrium', '1-Cypress', 'Semiconductor', 'Integrated', 'Silicon', 'Solution', 'Talks', 'AnaCap', 'Consumer', 'Operations', \"Comcast's\", 'NBCUniversal', 'bidding', 'InterContinental', 'Hotels', 'Denies', 'Reports', 'Starwood', 'breaks', 'downward', 'cutting', 'decline', 'Intertek', 'swings', 'Â£347', \"oil's\", 'Aramco,', 'plan', 'break', 'Motiva,', 'divide', 'close', 'two', 'branches', 'region', 'this', 'August', 'Â£110-140', 'storms', 'BAE', 'part', 'intelligence', 'R&D', 'Briggs', 'Morrison', 'leaves', 'head', 'private', 'drugmaker', 'Giant', 'Around', 'Amid', 'be', 'snap', 'beers', 'oppose', 'AGM', 'PIRC', 'Warning', 'Â£446m', 'Reed', 'Elsevier', 'slides', 'underwhelming', 'L&G', 'completes', 'largest', 'medically', 'underwritten', 'bulk', 'pension', 'risk', 'Caixabank,', 'Isabel', 'Reach', 'Agreement', 'sees', 'Fed', 'hike', 'individual', 'annuities', 'wither', \"CompaniesITV's\", 'audience', 'numbers', 'lowest', '15', 'years', 'ConAgra', 'Former', 'Hillshire', 'Farms', 'Connolly', 'Top', 'Post', '$3', 'breakup', 'fee', 'hopes', 'mogul', 'denial', 'Land', 'Securities', 'reveals', 'drops', '2.5', 'Glencore,', 'Copper', 'get', '2003-style', 'supply', 'shock', 'closures', 'Jim', 'Armitage:', 'Amazon', 'Primed', 'deliver', 'pain', \"grocery's\", 'old', 'guard', '3p', 'PPI', 'payout', '$470', 'Accord', 'Foreclosure', 'Abuses', 'prospect', 'billion,', 'pips', 'Actelion', 'I', 'Would', 'Put', 'J', 'Trolley', 'Before', 'Wm', 'Supermarkets', 'herald', 'broader', 'Next', 'May', 'Signal', \"Staley's\", 'Strategy', 'soar', 'break-up', 'BP,', 'Statoil,', 'Withdraw', 'Staff', 'Algeria', 'Following', 'Rocket', 'Attack', 'Higher', 'consumption', 'S&P', 'downgrades', 'bailout', \"Crohn's\", 'Disease', 'divested', '$215m', 'Projects', 'Tough', 'Ad', 'Customers', 'Avoid', 'Risks', 'Operating', 'Certificate', 'Workaround', 'profits', 'plumped', 'scanners', 'Centrica', 'extends', 'Gazprom,', 'Statoil', 'hover', 'near', '3-week', 'low,', 'Dialog', 'Chairman', \"'perfectly\", \"comfortable'\", 'ring-fencing', 'rules', 'SunRay', 'Hampshire', 'Cap', 'Solar', 'Incentive', 'pull', 'cash', 'December', 'CompaniesUnited', 'Utilities', 'H1', 'just', 'miss', 'expectations', \"I'd\", 'Today', 'issue', 'Charteredâ€\\x9d', 'Deloitte', 'auditor', 'accounting', 'returns', 'profit,', 'City', 'demands', 'you', 'Great', 'Portland', 'Estates', 'Dunelm', 'following', \"today's\", 'news?', 'Zurich', 'Considering', 'Offer', 'Rival', 'RSA', 'ABN', 'Amro:', 'brought', 'poised', 'Arctic', 'hurdle', 'Seattle', 'port', 'Imperial', 'Tobacco', 'caffeinated', 'mouth', 'strips', 'Telekom', 'Spend', '$27', 'Network', 'respiratory', '$575', 'Takeda', 'Arm', 'slammed', 'handset', 'Insurers:', 'blows', 'hot', 'cold', 'soars', 'pre-Friends', '$2.5bn', 'Intertain', 'considers', 'CompaniesDixons', '134', 'stores', 'jump', 'REFILE-Hikma', 'climb', 'lupus', 'activity', 'mid-stage', '11', 'supermarkets', 'facing', 'closure', 'expense', '900', 'chairman,', 'board', 'members', 'oversee', 'Carnival', 'Corporation', 'Launches', 'Shipboard', 'Mobile', 'Gaming', 'For', 'Mid', 'BBCN', 'Bancorp', 'Wilshire', '$1', 'Kraft-Heinz', 'Came', 'Together', 'Speedy', 'Weeks', 'selling', 'unprofitable', 'Bradesco', '$5.2', 'Volumes', 'turnover', 'Asda,', 'all', 'petrol', 'slow', \"Sainsbury's\", 'Supermarket', 'pushes', 'Netto', 'roll-out', 'Gross', 'Wins', 'Back', '$272', 'Keeps', 'Faith', 'outperforms', 'Europe,', 'Bob', \"Dudley's\", '20%', 'bit', 'rich', 'Three', 'ex-Barclays', 'convicted', 'Climate', 'qualms', 'mean', 'used', \"PLC's\", 'Recovery', 'Continues', 'Â£250m', 'Infusion', 'Meltdown', 'Sink', 'Commodities', 'Sees', 'Closing', 'Expected', 'Rules', '2-BHP', 'dives', '10-year', 'rout', \"Canada's\", 'Entertainment', 'One', 'chair', '2nd-quarter', 'underlying', 'rise,', 'impacts', 'margins', 'FeedFTSE', 'movers:', 'mulling', 'offer;', 'tank', 'dive', 'extra', 'Â£1', 'poaches', 'Asian', 'focus', 'executives', 'receive', 'call', 'appear', 'before', 'MPs', 'capex', 'CompaniesFresnillo', '8%', 'silver', '$21', \"Spain's\", 'Caixabank', 'CompaniesTesco', 'bad', 'Xmas', 'Kantar', 'Can', 'Christmas', 'Save', 'plc?', 'Shropshire', 'Wales', 'trains', 'strike', 'Arriva', 'drivers', 'shuts', 'office', 'rapid', 'integration', 'move', 'Sharm', 'el-Sheikh', 'disruption:', 'Airways,', 'EasyJet,', 'Thomson', 'Speed', 'swoop', 'unusual', 'banker', 'pleaded', 'Libor-rigging', 'offence', 'TalkTalk', 'Balfour', 'Beatty', 'Reinstate', '(And', 'Once', 'More?)', 'NewsAggreko', 'ICS', 'Â£18m', 'revenue', 'weaker', 'EM', 'currencies', 'balance', 'sheet', 'Plc', \"'Update'?\", 'Adds', 'Quarterly', 'Dividends', 'Rose', 'CompaniesShell', 'Showa', 'Sekiyu', '$1.4bn', 'Broker', 'tips:', 'RBS,', 'Croda,', 'Sage', 'Australia', 'clears', \"Inbev's\", 'buyout', 'biggest', 'ever', 'Schroders', 'NewsOld', 'SA', 'finance', 'minister', 'non-exec', 'rallies', 'positive', 'broker', 'comments', 'applies', 'flight', 'forced', 'divert', 'because', 'rowdy', \"passengers'\", 'antics', 'verdicts', 'provide', 'much-needed', 'victory', 'SFO', 'Tagrisso', 'Approval', 'equity', 'Systems', 'lines', 'Woodburn', 'strikes', 'Â£230m', 'annuity', 'Drilling', 'begins', 'miles', 'epicenter', 'drags', 'red', 'compensation', 'mounts', 'Merged', 'would', 'led', \"Germany's\", 'Kengeter', 'U.S.', 'Oil-Worker', 'Strike', 'Plants', 'Hold', '7%', 'dip', 'American', 'sues', 'PwC', 'pollution', 'MBK', 'preferred', 'bidder', 'Korea', 'stage', 'Surprise', 'Pension', 'Charge', 'Easyjet', 'talks', 'governments', 'moving', 'headquarters', 'out', 'NewsStandard', 'enjoys', 'Strongly,', 'Outlook', 'Positive', 'internal', 'synergy', 'goals', 'tumbles', 'negative', 'note', 'Partners', '$6bn', 'Lender', 'escape', 'steep', 'signs', '$12', 'Egypt', 'Glaxo', 'OK', 'expand', 'marketing', 'inhaler', 'Drops,', 'Difficult', 'Ahead', 'CompaniesMeggitt', 'weak', 'military', 'markets', 'steady', 'analysts', 'Ousted', 'Bonus', '1-Valeant', 'asks', 'cooperate', 'Senate', 'committee', 'NewsMorrisons', 'unveils', 'which', 'face', 'axe', 'Q1,', 'buoyed', 'institutional', 'six', 'per', 'cent', 'Group,', 'beating', \"analysts'\", 'CompaniesTullow', 'expenditure', 'further', 'increases', 'reduction', 'spending', 'contract', 'problems', 'remain', 'recovers', 'two-month', 'METALS-London', 'climbs', 'shorts', 'cover', 'cutbacks', 'CompaniesAstraZeneca', 'forecast', 'Crown', 'Castle', 'Tower', 'Development', 'Corp', '$461', 'BRIEF-Persimmon', 'effect', 'troubled', 'grocer', 'Little', 'Changed', 'Near', 'Fall', 'M&S,', 'Petrofac', 'Â£30m', 'Economist', 'Investor', 'body', '$2.5', 'placing', 'Understated', 'Jenkins', 'failed', 'licensing', 'Plendil', 'Kipa,', 'Giraffe', 'businesses', 'Foreign', 'exchange', 'probes', 'CompaniesActelion', 'talk', 'Gains,', 'Housing', 'Chartered,', 'Escape', 'Stress', 'Test', 'CommentOpening', 'Quote:', 'Tesco;', 'Premier', 'jilted;', 'FCA', 'IPOs', 'shrink', 'Exclusive:', 'reins', 'foreign', 'trading', 'referendum', 'result', 'Falls', 'Mining', 'Warns', 'Pullback', 'LPC-Glencore', 'GSK', 'Novartis', 'complete', 'reshape', 'both', 'drugmakers', 'scientist', 'book', 'second', 'consecutive', 'IMI', 'first-quarter', 'organic', 'revenue;', 'refinance', 'short-term', 'early,', 'attracts', 'passengers', 'June', 'Ryanair', \"'bad\", \"bank'\", 'Bilfinger', 'Industrial', 'Services', 'Â£100m', 'extension', 'subdued', 'probe', 'prepared', 'Spare', 'tears', \"Glencore's\", 'bosses', 'paying', 'such', 'small', 'Fight', 'Lift', 'Just', 'Got', 'Harder', 'open', '200', 'Screwfix', 'disappoint', 'currency', 'comparatives', 'bitter', 'taste', 'Smith', 'Nephew', 'recalls', 'hip-replacement', 'components', 'torn', 'apart', 'watchdog', 'finds', 'repeatedly', 'withheld', 'payments', 'Trouble', 'Brewing', 'At', \"Here's\", 'my', '10-point', 'great', 'beat,', 'replaces', 'shake-up', 'Get', 'Some', 'Spill', 'Payouts', 'PLC,', 'Keep', 'Charging?', 'least', '20', 'years,', 'during', 'crisis,', 'savings,', 'offset', 'wage', 'lifted', 'solid', 'Novo', 'Nordisk', 'seek', 'tonic', 'trials', 'Mr', 'Bricolage', 'brick', 'wall', 'right', 'some', 'damages', 'MORNING', 'BRIEFING:', 'Bookend', 'SEC,', 'NY', 'dark', 'pools', '1-Shire', 'Q2', 'long-term', 'gain', '$32', '6-month', 'pursuit', 'considering', 'cancels', 'offshore', 'lease', 'interest', 'talking', '1-Oil', 'major', 'freezes', 'Vale', 'block', 'dam', 'burst', 'loss,', 'slashes', 'Reaching', 'Depths:', '$5bn', 'Loss', '2-EasyJet', 'better', 'fuel', 'bill', 'sheds', 'Harris', 'Hoole', 'coffee', 'shops', 'while', 'sinks', 'Fitch:', \"Citi's\", \"1Q'15\", 'Much', 'Improved', 'Landlord', \"Hammerson's\", 'NAV', 'increased', 'leasing', 'CompaniesMetro', 'Â£400m', 'duo', \"boss's\", 'support', 'diffuse', 'tension', 'Revenue', 'Rises', '603', 'African', 'REFILE-Aviva', '34', 'euros', 'fund', 'Unleashed', 'Chasing', 'Vote', 'Nears', 'EXCLUSIVE-BP,', \"China's\", 'CNPC', 'unveil', 'alliance', 'temporarily', 'suspended', 'heavily', 'their', 'revs', 'clean', 'urges', 'rethink', 'minimum', 'rates', 'It', 'Worth', 'Investing', 'Now?', 'reportedly', 'appoint', 'Howard', '1-Seattle', 'flotilla', 'protests', 'drilling', 'books', 'Shetland', 'terminal', 'delays', 'suspends', 'workers', 'youth', 'centre', 'allegations', 'unnecessary', 'force', 'hires', 'investigate', 'cyber', 'attack', 'Osborne', '1-Dairy', 'Crest', 'third', 'milk', 'CompaniesLord', 'Livingston', \"World's\", 'banks', 'halve', 'within', 'ex-boss', 'inches', \"Valeant's\", 'timing', 'uncertain', 'Â£1.8bn', 'Horizonte', 'neighbouring', 'nickel', 'Indy', 'future', 'doubt', 'Johnston', 'Press', \"'i'\", \"Glaxo's\", 'Healthcare', 'Signs', 'Manufacturing', 'Desano', 'half-year', 'falls,', 'Nearly', 'cost-cuts', 'mis-selling', 'CEOs', 'BPM,', 'UBI', 'meet', 'Italy', 'econ', 'heats', 'Fresh', 'Details', 'Tax', 'Evasion', 'Claims', 'Wolseley', 'Nicholls', 'lawmakers', 'warn', 'hikes', 'England', 'stress', 'tests', 'suffers', 'setback', 'treat', 'Retail', \"'solid'\", 'Battle', 'Soft', 'Demand', 'Fresnillo', 'Production', 'Surges', 'But', 'Lower', 'Prices', 'Helge', 'Lund', 'misconduct', 'charges,', 'obstacles', 'slips', 'Greek', 'peg', 'agri', 'Canadian', 'submitter', 'Latest', 'Bid', 'Unlikely', 'Win', 'Not', 'Yet', 'United', '3.5%;', 'Clubcard', 'verge', 'collapse', 'state-owned', '-paper', \"Asia's\", 'Biggest', 'Private-Equity', 'NewsWolseley', 'confident', 'reslilience', 'Long', 'Both', 'TUI', 'AG', 'license', 'e-cigarette', 'quit-smoking', 'medicine', \"Aberdeen's\", 'net', 'outflows', 'accelerate', 'Kraft,', \"Cadbury's\", 'Total', 'Recall:', 'how', 'pulling', 'product', 'affects', 'renews', 'utility', 'France', 'proposed', 'LSE-Deutsche', 'blames', 'weakness', 'States', 'first-half', 'criticised', \"'disgraceful'\", 'advert', 'showing', 'domestic', 'worker', 'being', 'slapped', 'Tushar', 'Morzaria', \"bookies'\", 'favourite', 'CompaniesG4S', \"'positive'\", '3-BP', 'settles', 'spill-related', 'Halliburton,', 'Transocean', '10-month', 'rating', 'GE', 'Majority', \"BPH's\", 'Core', 'Alior', 'plc:', 'Updates', 'Alaska', 'Exploration', 'spirits', 'short', 'recover', 'core', 'operate', 'Plato', 'venue', 'International', 'Machines', 'Corp.', 'Drive', 'trade', 'trumpets', 'healthcare', 'marks', 'muted', '150th', 'birthday', 'party', 'grain', 'rice', 'sculptures', \"JPMorgan's\", 'Paul', 'Compton', 'COO', 'Jump', 'Most', 'Since', \"'12\", 'Upgrades', 'Probes', 'Role', 'Purchase', 'Nigerian', 'Block', 'lifts', '38%', 'divi', 'poor', 'gold', 'does', 'US$770mln', 'anaesthetic', 'Sells', 'Ryder', 'Cup', 'Venue', 'Gleneagles', 'Hotel', 'Ennismore', 'panel', 'safety', 'updates', 'signal', 'mega-deals', 'Pound', 'Strength,', 'Slowdown;', 'Still', 'Ups', 'working', 'Form', 'Limited', 'Liability', 'End', 'January', 'Intercontinental', 'Hotels,', 'held', 'Sunday', 'Papers:', 'told', 'bounces', 'back,', 'Mondi', 'Barratt', '2%', 'Anheuser-Busch', 'Increases', 'Rogers', 'Replace', 'Home', 'Walden', '2-Exchanges,', 'dismissal', 'high-frequency', 'case', 'MarketsUS', 'industrials', 'lag', 'dims', 'view', 'DOJ', 'antitrust', 'Mylan', 'pricing', 'doxycycline', 'gout', 'Ironwood', '$265', 'Chevron', 'Await', \"LNG's\", '`Pause', \"Mode'\", 'Companies', 'miner', 'Verizon', 'AT&T', 'accused', 'hurting', 'rivals', 'Auto', 'floats', 'Landown', 'WPP,', 'Largest', 'Agency,', 'Strong', 'Targets', 'LNG', 'Four', 'jailed', 'Junk', \"Moody's\", 'Concern', 'Revival', 'Take', 'Time', '$8.45billion', 'open:', 'Taylor', 'Wimpey', 'travellers', 'perks', 'Det', 'Norske', 'Norway', 'shows', 'tentative', 'continues', 'Valeant', 'Leader', 'Remains', 'Hospitalized', 'penalty', 'phase', 'Awesome', 'Feat', 'Hathaway,', 'Revisited', \"Group's\", 'hundreds', 'SSE', '4.1%', 'become', 'fifth', \"'Big\", \"Six'\", 'providers', \"Fen'\", 'champion', 'brings', 'exacting', 'Discuss', 'Central', 'Eastern', 'WINNERS', 'LOSERS:', 'Gainers', 'approves', \"Shire's\", 'Vyvanse', 'binge-eating', 'disorder', 'dispels', 'rumours', 'Despite', 'growth,', 'cautions', 'bumpy', 'defence', 'fix', 'power', '16', 'CompaniesCompass', 'serves', '$1.5bn', 'special', 'Developer', 'made', 'crucial', 'error', 'promotion', 'Ramadan...', 'Falling', 'hurt', 'Hunting,', 'Morning', 'Agenda:', 'NPS', 'approval', 'pill', \"Barclays's\", 'Banker,', 'boardroom', 'clearout', 'settlement', 'yet', 'internet', 'things', 'combination', 'delay', 'rebuff', \"Systems's\", 'boosted', 'Typhoon', 'CompaniesAberdeen', 'Mgt', '10th', 'quarterly', 'JP', 'bags', 'deal,', 'CompaniesCentrica', \"1-Britain's\", 'Tullow', 'Kenya', 'supplies', 'enough', 'winter', '2', 'Banks', 'High-Frequency', 'Lawsuit', 'Dismissed', 'Reuters', 'van', \"Beurden's\", 'remuneration', 'fell', 'AM', 'outflows,', 'conditions', 'challenging', 'remove', 'Greenpeace', 'activists', 'rig', 'Forecasts', 'Rising', 'Earnings', 'Reorganization', 'Pays', 'festive', 'Â£8m', 'settle', 'class-action', '3-Stifel', 'brokerage', 'delivers', 'Â£750m', 'taxpayer', 'NYSE', 'owner', 'gatecrash', 'analyst', 'Mothahir', 'Miah', 'banned', 'fined', 'Â£139000', 'shrugs', 'smartphone', 'newer', 'designs', '1-Petrofac', 'Islands', 'Do', \"me'\", 'trend', 'underpins', 'invites', 'pitches', 'privatisation', 'Holds', 'Regulators', 'Deals', 'denies', 'deferred', 'prosecution', 'LONDON', 'MIDDAY', \"Kingfisher's\", 'Expansion', 'Hits', 'Rocks', 'Serco', 'Appoint', 'Roy', 'Gardner,', 'Ex-Centrica,', 'excutive', 'Dave', 'Lewis', \"'encouraging\", \"signs'\", 'tumble', '\"Sneakairs\":', 'Airline', 'testing', 'smart', 'shoes', 'customers', 'explore', 'destinations', 'profiteering', 'accusations', '5.3%', 'CompaniesRBS', 'pulls', 'surprise:', '27%', 'track,', 'patient', '1-Nomura,', 'must', '$806', 'mortgage', 'bond', 'case-US', '15%;', 'track', 'chases', 'winner', 'ratio', 'CompaniesEx-City', 'Turner', 'Happy', 'nod', \"'blockbuster'\", 'hopeful', 'Lay', 'Another', '2200', 'Merchants', 'Sign', 'Memo', 'Understanding', 'CompaniesDiageo', 'stays', 'neutral', 'India', 'turmoil', \"'axe\", '10000', \"jobs'\", \"'simplification'\", 'Mike', 'Rake', 'he', 'heads', 'sugary', 'drinks', 'â€œchildhood', 'obesity', 'driveâ€퀀', 'Tata', 'Steel', 'click-and-collect', 'AO', 'World', 'warning', 'tells', 'reduce', 'debt:', 'Andy', 'Harrison', \"'just\", \"blip'\", 'Aggreko', 'Declines', 'hands', 'Â£3.3m', 'agriculture', 'spent', '$150', \"'living\", \"will'\", 'TRLPC', 'Lafarge', 'Holcim', '6.5', 'bridge', 'Eurozone', 'lending', 'slowly,', 'past', 'tearing', 'Foothold', '$175m', 'post-election', 'pick-up', 'Fewer', 'multi-buys', 'stalwarts', 'fade', 'Unlockd', 'Change', 'Way', 'Consumers', 'Use', 'Their', 'Phones', 'helps', 'rebound', 'Ties', 'Conservative', 'Lobby', 'rebounds', 'buyers', 'sense', 'bargain', 'Returns', 'Leave,', 'Withdraws', '3%', 'FastJet', 'slams', 'founder', 'Stelios', 'going', 'public,', '\"taking', 'legal', 'advice\"', 'letter', 'contractual', 'Failure', \"leadership'\", 'behind', 'troubles,', 'Leahy', \"'plain\", \"packaging'\", 'Hammerson,', 'JV', 'Partner', 'ownership', \"Ireland's\", 'Dundrum', 'vote', 'CompaniesSanofi', 'immunology', 'expert', 'Appoints', 'Ranjan', 'Ray', 'Chaudhuri', 'Global', 'Commercial', \"Mylan's\", 'ends', '27-year', 'sponsorship', 'Tate', 'falling', 'plug', 'exploration', 'advanced', 'officer', 'Chase', 'savings', 'forecast,', 'cool', '-source', 'issues', 'Exposed', 'Property,', 'JPMorgan', 'Finance', 'CompaniesLSE', 'ex-SEC', 'Schapiro', 'Chinese', 'import', 'data,', 'FeedSchroders', 'several', 'changes', 'Valeant,', 'psoriasis', 'split', 'retail', 'CFTC', 'fines', '$560000', 'inaccurate', 'swaps', 'Asda', 'march', 'continues:', 'pct,', 'surge', 'squeeze', 'street', 'retailers', 'sanctions', 'Gazprom-Shell', 'jeopardy', '6-Royal', 'Snow', 'Beer', '23%', 'Moya', 'Greene', '13%', 'her', 'create', 'dealmakers', 'ignore', 'Britain', 'below', '17', 'Rise', '$583', 'First', 'Quarter', 'ITV,', 'William', 'Hill', 'name', 'Friday', 'Green', 'BHS', 'CaixaBank', 'Close', '12%', 'confidence', 'final', '$20', 'pact', '1-GSK-linked', 'investigator', 'freed', 'jail', 'three-week', 'financials,', 'offloads', 'units', 'victim', 'NewsRevenue,', 'interims;', 'cloud', 'Selumetinib', 'Orphan', 'Label,', 'Good', 'AZD9291', 'Opts', 'Â£4.1m', '6', 'months', \"'slightly\", \"ahead'\", 'Agriculture', ':', 'Panel', 'Reviews', 'Savor', 'Study', 'bucks', '2.6', 'Trading', 'ExpertBROKER', 'RECOMMENDATIONSUBS', \"'buy'\", 're-initiates', 'coverage', '3G', 'Capital,', 'Favorite', 'Billions', 'GKN', 'Fokker', 'Technologies', '706', 'Questor', 'tip:', '10pc', 'discloses', \"unit's\", 'ties', 'Iran,', 'opens', 'policy', 'Reaffirms', 'Goal', 'Iron', 'Ore', 'Output', 'three-year', 'releases', 'carve', 'antibiotic', 'separate', 'Pleaded', 'Guilty', 'Fixing', 'Meantime', 'quench', 'thirst', 'craft', 'beer', '25%', '9.8%', 'Sam', 'Walsh', 'rename', 'itself', 'RELX', \"Sotheby's\", 'Insight', \"Aviva's\", 'Hillier', 'multi-asset', 'team', 'premium', 'remaining', 'treatment', 'weaker-than-expected', '$9.2', 'Order', 'Emirates', 'ethanol', 'investigation', 'Preparing', 'Job', 'That', 'Target', '20000', 'Workers,', 'ordered', 'RPT-UK', 'braced', 'fighting', '1-Glencore', 'flags', 'been', 'offered', 'promises', 'dividends', 'flagging', 'Brewer', '$275', 'Budget,', 'Divest', 'Lonmin', 'Posts', 'Fourth-Quarter', 'Pretax', '$858', 'manager', 'Eurocrat', 'left', 'best-placed', 'unravel', 'Lawmakers', 'worry', 'brewers', 'StanLife', 'dealmaking', 'MBNA', '2000', 'Versus', 'Sainsbury:', 'Weight-Watcher', 'vs.', 'Bodybuilder', 'wind', 'energy,', 'meeting', 'TSB', 'boss:', 'Current', 'account', 'switching', 'simpler', 'Caused', 'Fears', 'Retailers', 'Sports', 'index', 'Pepper', 'Hard', 'GLOBAL', 'MARKETS-Stocks', 'bid,', 'Dismisses', 'Lufthansa', 'Low-Cost', 'Contest', 'approved', 'Two', 'retrial', 'MarketsBP', 'promotes', 'upstream', 'deputy', \"'unacceptable'\", 'lies', 'closing', 'smaller', 'feared', 'Flat', 'Letters', 'Weakness', 'Offsets', 'Parcels', 'Strength', 'SAB', 'Royalties', 'Accelerate', 'Smartphone', 'Regains', 'Scottish', 'court', '2011', \"rivals'\", 'overproduction', 'Ackman,', 'email,', 'supports', \"GlaxoSmithKline's\", 'Witty', 'bow', '2017', 'Â£2.9bn', 'rush', 'withdraw', 'post-Brexit', 'halted', 'Â£12bn', 'pressed', 'drug,', 'validating', 'pursue', 'One:', 'Carlsberg', 'Russians', 'suffer', 'rouble', 'okays', 'asthma', 'therapy', 'adults', 'load', 'No', 'bites', 'Nine', 'Citi,', 'agree', '$2', 'seals', 'Â£22', 'around', '2-month', \"We'd\", 'leaving', 'London,', 'bumps', 'feels', 'heat', 'revolt', 'Â£14', 'up,', 'list', 'runs', 'pass', 'directors', 'Garfield', 'Tammenoms', \"Government's\", 'Call', 'Jumbo', 'Yielders', 'Wood', 'PLC?', '7th', 'straight', 'daily', 'rise;', 'regulator', 'injectable', 'Ensure', 'Compliance', 'Petrobras', 'Bribery', 'Hong', 'Kong', 'regulatory', 'HK', 'Footsie', 'moans;', 'Lloyds;', 'Mars', 'mission', 'Caprelsa', 'NewsWood', 'multi-million', 'dollar', \"workers'\", 'union', 'bonds', 'save', 'Admiral,', 'building', 'sector', 'gains', 'Brand', 'Guarantee', 'edges', 'tax-avoidance', 'fa', '$727', 'play', 'do', 'chemotherapy', 'leaders', 'builds', 'Deere', 'stake,', 'dumps', 'Exxon', 'BUZZ-BG', 'Group:', 'Teva', 'First-Quarter', '11%', 'America,', 'blockchain', 'sight', 'NewsG4S', 'year,', 'impairments', 'edge', 'Wealth', 'blue-chip', 'CompaniesUnilever', 'ice', 'cream', 'soft', 'economy', 'global', 'room', 'view,', 'Bidders', 'Abandon', 'Auction', 'Euro', 'QE', 'Closely', 'watched', 'mesothelioma', '25', 'Executive', 'Knowledge', \"'unprecedented'\", 'calls', 'freedoms', 'Renewed', 'Meggitt', 'Cobham', 'Advanced', 'Composites', 'USD200', 'SEC', 'non-executive', 'IAG', 'Analyst', 'Views:', 'Astrazeneca', 'have', 'recent', 'volatility;', 'what', 'OCBC', \"Barclay's\", 'Singapore,', '$18.7B', 'spill;', 'tricky', 'science', 'MedImmune', 'Inks', 'Licensing', 'Omnis', 'Pharmaceuticals', 'Compass', \"head's\", 'resignation', 'sparks', 'spinoff', 'longer', 'use', 'thinner', 'target', '370', 'Debenhams', 'surprise', 'bounce', \"'substantial'\", 'national', 'living', 'CompaniesCar', 'insurer', 'Hastings', 'driving', 'Â£180m', 'hunt', 'successor', \"Grid's\", 'pretax', 'steadies,', 'supported', \"CRH's\", 'concrete', 'convenience', 'keeps', 'Secretive', 'involved', 'Qatari', 'plunge,', 'roiled', 'oil;', 'ECB', 'ships', 'Queensland', 'Curtis', 'RECOMMENDATIONSAnalysts', 'mostly', 'value', 'MarketsUBS,', 'Sachs', 'CompaniesUK', 'Â£2bn', '3-Auto', 'equity-backed', 'Will', 'Equity', 'Sales', 'Research', 'CompaniesNational', 'Turnaround', 'Buys', '2016?', 'knocked', 'Â£3.9bn', 'walrus', 'protections', 'Interest', 'Rate', 'Swap', 'Losses', 'exports', 'field', 'disrupted', 'continues-Kantar', 'complaints', 'wipes', 'digs', 'precision', 'lung,', 'heart', '23', 'Beats', 'Forecast', 'Year', 'Hints', 'Retain', 'Domicile', 'Tel', 'Sterling,', 'Sugar', 'trader', 'sentenced', 'prison', 'Bagguley', 'Officer', 'Serious', 'Fraud', 'Office', 'Retrial', 'Traders', 'Cuadrilla', 'files', 'application', 'frack', 'Lancashire', 'progress', 'escapes', 'relegation', \"'Poldark'\", 'Mammoth', 'Screen', '2-Former', 'Jefferies', \"Litvak's\", 'conviction', 'overturned', 'Deteriorate', 'Crucial', 'Period', '1-Berkshire', 'Hikes', 'shingles', 'Experian', 'receives', 'class', 'actions', 'related', 'T-Mobile', 'breach', 'shells', 'Nigeria', 'lower,', \"'challenging\", \"year'\", 'stg', 'seed', 'Potts', 'stalls', 'Latest:', 'Kraft', 'Heinz', 'Studies', 'Agricultural', 'Penalties', 'Struggling', 'Â£3m', 'sacked', 'Dalton', 'Philips', '14%', \"Utilities'\", \"Berkshire's\", 'Gen', 'retire;', \"Jain's\", 'grows', 'cautious', 'rises,', '18%', 'Buoyed', 'Emerging', 'Markets', '2-Prudential', 'earnings,', 'challenges', 'dominance', '47', 'billion-pound', 'Hires', \"Towergate's\", 'Egan', 'flops', 'study,', 'vaccine', 'three-month', 'StanChart,', 'portfolio', 'Â£827m', \"BHP's\", 'holds', 'little', 'miners', 'Announce', 'Five', 'spill,', 'oystermen', 'losing', 'hope', 'Walmart', 'Maryland', 'T-shirts', 'featuring', 'outline', 'Massachusetts', 'Advair', 'hit,', 'Eight-day', 'swap', 'Pickup', \"Isn't\", 'Enough', 'size', 'penalties', '17%', 'houses', 'strike:', \"Broadcaster's\", 'walkout', 'piece', 'action', 'McEwan', 'nursing', 'struggles', 'rent', 'shadow', 'self', 'Ken', 'taken', 'Â£6m', 'Bonds', 'Shore', '1-Pearson', 'tops', 'approve', 'choice', 'highs', 'Resume', 'Record;', 'CRH,', 'Climb', 'MarketsMoneysupermarket', 'Book', '$585', 'impresses', 'fee-based', 'CompaniesHome', 'trims', 'considered', \"'in\", \"play'\", 'announces', 'strategic', 'outlining', 'Pledges', 'Heed', 'Critics', \"`Painful'\", 'Experience', 'NewsHammerson', 'joint', 'venture', 'Dublin', 'Protest', 'Forces', 'Museum', 'arm,', 'Nikko', 'sign', '2-Pricey', 'tax', 'threatens', 'home', 'Teva:', 'Generic', 'Version', 'Heartburn', 'pending', 'announcement', 'CompaniesPound', 'ABF', 'now,', 'impact', 'Payout', '$5', 'Bought', '$99.49', 'Share,', 'Filing', 'Shows', 'give', 'three-digit', 'slashing', 'Tripoli-based', 'NOC', 'sole', 'seller', 'Libyan', 'Cuba', 'state', 'Help', 'Shrink', 'Mountain', 'Debt', \"taxpayers'\", 'Primark', 'starting', 'falter', 'MOVES-Ex-shadow', 'McClymont', 'miners,', 'CompaniesCoutts', 'raids', 'outcome', 'Robinsons', 'sends', 'Diageo,', 'Heineken', 'Emerging-Market', 'Assets', 'Protesters', 'gather', 'Passengers', '16.1%;', 'knows', 'side', 'bread', 'buttered', '3-Ex-Barclays', 'illegal', 'tips', 'plumber', 'clinical', 'can', 'breath', 'life', 'Resign', 'Unrest', 'marred', 'plumbing', 'Mongolia', 'Oyu', 'Tolgoi', 'mine', 'pay-out', 'ratio,', 'Reluctant', 'shareholder', 'George', 'patience', 'protesters', 'await', 'fracking', 'decision', 'Currency', 'causes', 'headaches', 'Beach', 'holiday', 'clouds', 'capital-raising', 'plan,', 'Q3', 'restructure', 'unveiled', 'Peterhead', 'station', 'voltage', \"Bank's\", 'Hemphill', 'patent', 'invalidated', 'Fine', 'Handling', 'Complaints', 'Goodwin', 'TOP', 'NEWS:', 'Depressed', 'Provisions', '$1.7', 'Scrap', \"Treasury's\", 'Rights', 'departs', 'Â£13bn', 'shield', 'banking', 'chill', '1-RBS', 'raising', '$3.1', 'CoCo', '1-Rio', 'aluminium', 'anti-money-laundering', 'failings', 'CORRECTED-Shire', 'Dyax', '$5.9', 'enjoy', 'bounce-back', 'Kong-led', 'Ruling', 'sets', 'Tumble', 'Founder', 'Ashley', 'Spirits', 'financial', 'irregularities', 'involving', 'checker', 'Chipotle', 'Plunge', 'Troubled', 'Chain', 'Federal', 'Subpoena', \"Founder's\", 'son', 'assist', '1-EU', 'stand', 'Africa', 'SABMiller,', 'Coke', 'bottling', 'Undertakes', 'Restructuring', 'Fitch', 'Downgrade', 'Misses', 'Estimates', \"Sands's\", 'Last', 'shakes', 'chiefs,', 'departures', 'production', 'Raise', 'CompaniesSmith', '6.8%', 'foot', '37', 'Percent', '2Q', 'Judge', 'Urged', 'Impose', '$11.7', 'Billion-Plus', 'RBI', 'surprises', 'Street;', 'Sensex', 'pares', 'hitting', 'mount', '30k', 'needs', 'modernisation', 'plans,', 'post', 'haste', 'weighed', 'Francis', 'Egan:', 'Scaremongering', 'opponents', 'me', 'angry', '3-Barclays', 'lax', 'crime', 'checks', \"'deal\", \"century'\", 'withdrawals', 'backlash', 'Â£9m', 'iPhone', 'Android', 'app', 'lets', 'users', 'send', 'each', 'other', 'using', 'bitcoin', 'network', '945', 'restructuring', 'strategy', 'Woodford', 'outsider', '1-UK', 'Thetrainline.com', 'arrival', 'weathers', 'torrid', 'season', 'Oppose', 'Any', 'gains,', 'What', 'Takes', 'Break', 'NewsPetrofac', 'secures', '$250m', 'Jobs,', 'Branches', 'Part', 'proving', 'expensive', 'IHG', '$938', 'Pool', 'Less', 'Pounds', 'Offers', \"Norway's\", 'sovereign', 'backed', \"CEO's\", 'MarketsProperty', '2010', '$13.7', 'Oilfield', 'shoots', 'resource', 'Postal', '150', 'McCormick', 'Departs', \"SAB's\", 'Digs', 'Divided', 'blackouts', 'tightest', 'approaches', '$250bn', '100%', 'mortgages', 'crisis', 'Early', 'said', 'Finds', 'Elusive', 'Meet', 'racks', 'happy', 'cooperating', \"'dark\", \"pool'\", 'dips', 'Books', 'ending', \"supermarket's\", 'digital', 'wine', 'interests', 'Agrees', 'Minority', '320m', 'Breakingviews:', 'any', '-FT', 'Australian', 'sustainability', 'traffic', 'controller', 'terrorism', 'exposed', \"customers'\", 'data', 'Stars', \"aligned'\", 'megabrew', 'Turns', 'Bad', 'plots', 'Europe', '$2.2bn', 'fourth-quarter', '4Q', 'declines', \"years'\", 'ecommerce', 'site', 'Lazada', 'Alibaba', 'Â£90m', 'shutting', '21', 'Restore', 'Lost', 'Luster?', 'high,', 'Stakes', 'Heart', 'Facing', 'Competition', 'exploring', 'or', 'flux', 'CompaniesThiam', 'received', 'Â£5m', 'packet', '1-BHP', \"Billiton's\", 'ratings', 'fragile', 'FY16,', 'agencies', 'Go', 'Petrochemical', 'Plant', 'Pennsylvania', 'spurs', 'Pepsi', 'recipes', '2020', 'CompaniesPhilips', 'transfers', '$900m', 'obligations', '$13.75', 'mutual', 'stands', 'tall', 'reform', 'resist', 'higher;', '3i', 'concerns,', 'skids', 'inflation', 'creating', 'glut', 'Extend', 'Rebound', 'Second', 'Day', 'CompaniesNew', 'business,', 'strip', 'years:', 'Lures', 'Depresses', 'Rates', 'Iran', 'violations', 'Shut', 'Coal-Fired', 'Shift', 'Gas,', 'Renewable', 'Energy', 'el', 'Sheikh:', 'flights', \"Egypt's\", 'leading', 'resort', \"1-Norway's\", 'management,', 'Relief', 'Italian', 'Mediobanca', 'fill', 'gap', 'Sophos', 'aims', '$100m', 'chip', 'designer', 'performance', 'long-delayed', 'sails', 'Doubts', '$6', 'weighs', 'handout', \"King's\", 'keep', 'ad', 'front', 'pack', 'readies', 'Â£6bn', 'float', 'Dyson', 'Wants', 'Create', 'Hair', 'Dryer', 'Revolution', 'operations', 'Richard', 'Herbert', 'BRIEF-Legal', 'retirement', 'swerves', 'regulations', 'JC', 'Penney', 'Obligation', 'crude', 'slur', 'aimed', 'screen', '2-AB', 'Genel', 'Tony', \"Hayward's\", 'Explorer', 'Crude', 'Reserves', 'Field', 'summoned', 'Westminster', 'questioning', 'Analysis', 'fast', 'getting', 'Suspends', 'Price', 'Google', 'Fiber', 'Webpass', 'city', 'Internet', 'Jonny', 'Mason', '5-Buffett', 'Castparts', 'REFILE-BP', 'pipeline', 'infrastructur', 'dividend,', '$5.67', '\"major', 'surprise\"', '-investor', 'Hope', 'Respiratory', 'Drugs', 'Beat', 'BRIEF-Aviva', 'rings', 'plate', 'post-Leave', 'positivity', 'anaesthetics', \"Africa's\", 'Costs', 'prospects', 'dependent', '100;', 'Marks', 'Spencer', 'personnel', 'fortunes', 'ebbed', 'flowed', 'chiefs', 'Beaumont', 'CDU', 'slowed', 'accident:', 'Name', '$5.3', 'Mine', 'continued', 'orders', 'Starts', 'Earlier', 'Residents', 'Brace', 'Cyclone', 'Stan', 'financier', 'Amanda', \"Staveley's\", '$1bn', 'claim', '\"misconceived\"', 'gathering', 'pace,', 'closures:', 'closed', 'due', 'PLC:', 'Or', 'Sell?', 'Fee', 'Failings', 'Rise,', 'Looking', 'nudge', '1-BG', 'limits', 'fallout', 'offering', 'looking', 'ads', '18%,', 'Blueprint', 'Receives', 'Nod', 'Proceed', 'Clinical', 'Trials', 'improve', 'compliance', 'file', 'bribing', 'politicians', 'sabotage', 'Chanmugam', 'silent', 'Convinced', 'Stocks:', 'Chart', 'Years', 'Spill:', \"What's\", 'Offshore', '12.5', 'raised', 'although', 'pensions', 'aerospace', 'component', '$340', 'hints', 'success', \"CompaniesGlencore's\", 'almost', 'one', 'Pfizer', '120', 'Cambridge', 'outperform', '5%', '5-Barclays', '1-Lloyds', '3-year', 'Zinc', 'Supply', \"WPP's\", 'Sorrell', 'highest-paid', 'Crashes', 'Warning:', 'Now', 'Buy?', 'STOCKS-Wall', 'St', 'stimulus', '64', 'Huawei', 'Records', 'Dealings', 'Sanctioned', 'Nations', \"'looming\", \"gap'\", 'potassium', 'manufacturing', 'snag', 'Activist', 'TCI', 'Backs', 'German', 'roles', 'rate-rigging', 'adults,', 'adolescents', 'implement', 'CompaniesTravis', '15%', 'Shifts', 'Emerging-Markets']\n"
     ]
    }
   ],
   "source": [
    "new_dictionary = sorted(set(Sum_of_words), key=lambda x:Sum_of_words.index(x))\n",
    "print(new_dictionary)"
   ]
  },
  {
   "cell_type": "markdown",
   "metadata": {},
   "source": [
    "### Save a list"
   ]
  },
  {
   "cell_type": "code",
   "execution_count": 38,
   "metadata": {},
   "outputs": [],
   "source": [
    "with open(\"full_dict.txt\", \"wb\") as fp:   #Pickling\n",
    "    pickle.dump(new_dictionary, fp)\n"
   ]
  },
  {
   "cell_type": "code",
   "execution_count": null,
   "metadata": {},
   "outputs": [],
   "source": [
    "#with open(\"full_dict.txt\", \"rb\") as fp:   # Unpickling\n",
    "#    b = pickle.load(fp)"
   ]
  }
 ],
 "metadata": {
  "kernelspec": {
   "display_name": "Python 3",
   "language": "python",
   "name": "python3"
  },
  "language_info": {
   "codemirror_mode": {
    "name": "ipython",
    "version": 3
   },
   "file_extension": ".py",
   "mimetype": "text/x-python",
   "name": "python",
   "nbconvert_exporter": "python",
   "pygments_lexer": "ipython3",
   "version": "3.6.8"
  }
 },
 "nbformat": 4,
 "nbformat_minor": 2
}
