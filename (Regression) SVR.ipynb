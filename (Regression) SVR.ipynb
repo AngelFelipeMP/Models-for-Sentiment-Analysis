{
 "cells": [
  {
   "cell_type": "markdown",
   "metadata": {
    "colab_type": "text",
    "id": "igWqp0Hu7kSC"
   },
   "source": [
    "### 1) Importing Libraries"
   ]
  },
  {
   "cell_type": "markdown",
   "metadata": {
    "colab_type": "text",
    "id": "nZf1KGPL7kSL"
   },
   "source": [
    "#### Standard Libraries"
   ]
  },
  {
   "cell_type": "code",
   "execution_count": 1,
   "metadata": {
    "colab": {
     "base_uri": "https://localhost:8080/",
     "height": 85
    },
    "colab_type": "code",
    "executionInfo": {
     "elapsed": 822,
     "status": "ok",
     "timestamp": 1555962156998,
     "user": {
      "displayName": "Francisco Caio Lima Paiva",
      "photoUrl": "https://lh6.googleusercontent.com/-rObDy5lU2zU/AAAAAAAAAAI/AAAAAAAAAAs/BoY-YI-rQ1A/s64/photo.jpg",
      "userId": "17697619239460268820"
     },
     "user_tz": 180
    },
    "id": "ZgrL-5zm7kSU",
    "outputId": "7ead50d1-8214-422c-c235-d879da75b123"
   },
   "outputs": [
    {
     "name": "stdout",
     "output_type": "stream",
     "text": [
      "[nltk_data] Downloading package stopwords to\n",
      "[nltk_data]     /Users/angelfelipemagnossaodepaula/nltk_data...\n",
      "[nltk_data]   Package stopwords is already up-to-date!\n"
     ]
    },
    {
     "data": {
      "text/plain": [
       "True"
      ]
     },
     "execution_count": 1,
     "metadata": {},
     "output_type": "execute_result"
    }
   ],
   "source": [
    "# ! source '/home/xicocaio/venv/bin/activate'\n",
    "import numpy as np\n",
    "import matplotlib.pyplot as plt\n",
    "import pandas as pd\n",
    "import re\n",
    "import nltk\n",
    "from sklearn.datasets import load_files\n",
    "import pickle\n",
    "from nltk.corpus import stopwords\n",
    "\n",
    "nltk.download('stopwords')"
   ]
  },
  {
   "cell_type": "markdown",
   "metadata": {
    "colab_type": "text",
    "id": "SPK62Xy7ezqL"
   },
   "source": [
    "#### Model Libraries"
   ]
  },
  {
   "cell_type": "code",
   "execution_count": 2,
   "metadata": {
    "colab": {},
    "colab_type": "code",
    "id": "Py0WduNw7kWH"
   },
   "outputs": [],
   "source": [
    "# Import Import RandomForestClassifier\n",
    "from sklearn.svm import SVR"
   ]
  },
  {
   "cell_type": "markdown",
   "metadata": {
    "colab_type": "text",
    "id": "kNgw5H7VbEVU"
   },
   "source": [
    "#### Downloading Files from Google Drive"
   ]
  },
  {
   "cell_type": "code",
   "execution_count": 3,
   "metadata": {
    "colab": {},
    "colab_type": "code",
    "id": "1jnX5rhnYlca"
   },
   "outputs": [],
   "source": [
    "# Install the PyDrive wrapper & import libraries.\n",
    "# This only needs to be done once per notebook.\n",
    "# !pip install -U -q PyDrive\n",
    "# from pydrive.auth import GoogleAuth\n",
    "# from pydrive.drive import GoogleDrive\n",
    "# from google.colab import auth\n",
    "# from oauth2client.client import GoogleCredentials\n",
    "\n",
    "import os"
   ]
  },
  {
   "cell_type": "code",
   "execution_count": 4,
   "metadata": {
    "colab": {},
    "colab_type": "code",
    "id": "Ei-2UGAqXsZ9"
   },
   "outputs": [],
   "source": [
    "# Authenticate and create the PyDrive client.\n",
    "# This only needs to be done once per notebook.\n",
    "# auth.authenticate_user()\n",
    "# gauth = GoogleAuth()\n",
    "# gauth.credentials = GoogleCredentials.get_application_default()\n",
    "# drive = GoogleDrive(gauth)"
   ]
  },
  {
   "cell_type": "code",
   "execution_count": 5,
   "metadata": {
    "colab": {},
    "colab_type": "code",
    "id": "CLyfQemgbnyH"
   },
   "outputs": [],
   "source": [
    "# Downloading Headlines train and Test Data from google drive\n",
    "# PS: the traing data is public and was downloaded to drive from:\n",
    "#        https://bitbucket.org/ssix-project/semeval-2017-task-5-subtask-2/raw/46143dc3c0c28b9286b6d1d424d1359c8f49d6cc/Headline_Trainingdata.json\n",
    "#     while the test data is avaliable n the same repo, but without labels\n",
    "#     the one used here was requested by e-mail, and contains labels\n",
    "\n",
    "# files_list = {'full_dict.txt': '1_ZBh3oFm3CYDqG3IcVY-ukG0-vsiulTp',\n",
    "#               'train.csv': '1Tjy8fxm63Yg9n7EemvJ_G_Fbs6Y6SQEC',\n",
    "#               'test.csv': '1NAQTM-0ynAQJ8CjHZ1AaxuMIuvuYjrgq',\n",
    "#               'SenVal_Functions.py': '1QgNS3191Q87tdXgyyJLrOqAlQf3wjki4'}\n",
    "\n",
    "# for filename, gdrive_id in files_list.items():\n",
    "#   exists = os.path.isfile('/content/' + filename)\n",
    "  \n",
    "#   if not exists:\n",
    "#     drive.CreateFile({'id': gdrive_id}).GetContentFile(filename)\n",
    "#     print('File {} was downloaded.'.format(filename))\n",
    "#   else:\n",
    "#     print('File {} not downloaded because already on system.'.format(filename))"
   ]
  },
  {
   "cell_type": "markdown",
   "metadata": {
    "colab_type": "text",
    "id": "C0SRWQjt7kS4"
   },
   "source": [
    "#### SenVal Evaluation Metric"
   ]
  },
  {
   "cell_type": "code",
   "execution_count": 6,
   "metadata": {
    "colab": {
     "base_uri": "https://localhost:8080/",
     "height": 51
    },
    "colab_type": "code",
    "executionInfo": {
     "elapsed": 1972,
     "status": "ok",
     "timestamp": 1555962158225,
     "user": {
      "displayName": "Francisco Caio Lima Paiva",
      "photoUrl": "https://lh6.googleusercontent.com/-rObDy5lU2zU/AAAAAAAAAAI/AAAAAAAAAAs/BoY-YI-rQ1A/s64/photo.jpg",
      "userId": "17697619239460268820"
     },
     "user_tz": 180
    },
    "id": "zl_sK9JE7kS8",
    "outputId": "2fd93104-41c1-4068-9294-b7dbafa9d5c8"
   },
   "outputs": [
    {
     "name": "stdout",
     "output_type": "stream",
     "text": [
      "[nltk_data] Downloading package wordnet to\n",
      "[nltk_data]     /Users/angelfelipemagnossaodepaula/nltk_data...\n",
      "[nltk_data]   Package wordnet is already up-to-date!\n"
     ]
    }
   ],
   "source": [
    "from SenVal_Functions import SenVal_metric\n",
    "from sklearn.metrics import make_scorer\n",
    "\n",
    "#New scoring function\n",
    "scoring_SenVal = make_scorer(SenVal_metric)"
   ]
  },
  {
   "cell_type": "markdown",
   "metadata": {
    "colab_type": "text",
    "id": "aEGghNeP7kTL"
   },
   "source": [
    "####  NLP"
   ]
  },
  {
   "cell_type": "code",
   "execution_count": 7,
   "metadata": {
    "colab": {},
    "colab_type": "code",
    "id": "8l_LFX7H7kTQ"
   },
   "outputs": [],
   "source": [
    "from SenVal_Functions import NLP_pre_processing"
   ]
  },
  {
   "cell_type": "markdown",
   "metadata": {
    "colab_type": "text",
    "id": "R3fhQlPB7kTc"
   },
   "source": [
    "#### Dictionaries"
   ]
  },
  {
   "cell_type": "code",
   "execution_count": 8,
   "metadata": {
    "colab": {},
    "colab_type": "code",
    "id": "NTpQF7tp7kTe"
   },
   "outputs": [],
   "source": [
    "#Dictionary with all the words in the corpus and only these\n",
    "with open(\"test_dict.txt\", \"rb\") as fp:   # Unpickling\n",
    "    test_dict = pickle.load(fp)"
   ]
  },
  {
   "cell_type": "code",
   "execution_count": 9,
   "metadata": {
    "colab": {
     "base_uri": "https://localhost:8080/",
     "height": 68
    },
    "colab_type": "code",
    "executionInfo": {
     "elapsed": 3425,
     "status": "ok",
     "timestamp": 1555962159729,
     "user": {
      "displayName": "Francisco Caio Lima Paiva",
      "photoUrl": "https://lh6.googleusercontent.com/-rObDy5lU2zU/AAAAAAAAAAI/AAAAAAAAAAs/BoY-YI-rQ1A/s64/photo.jpg",
      "userId": "17697619239460268820"
     },
     "user_tz": 180
    },
    "id": "gmDvz1NF7kTq",
    "outputId": "f40c1cfb-f188-4097-f720-a5cc8ae1570c"
   },
   "outputs": [
    {
     "name": "stdout",
     "output_type": "stream",
     "text": [
      "[nltk_data] Downloading package words to\n",
      "[nltk_data]     /Users/angelfelipemagnossaodepaula/nltk_data...\n",
      "[nltk_data]   Package words is already up-to-date!\n"
     ]
    },
    {
     "data": {
      "text/plain": [
       "True"
      ]
     },
     "execution_count": 9,
     "metadata": {},
     "output_type": "execute_result"
    }
   ],
   "source": [
    "# Download dictionary WORDS from nltk\n",
    "import nltk\n",
    "nltk.download('words')"
   ]
  },
  {
   "cell_type": "markdown",
   "metadata": {
    "colab_type": "text",
    "id": "-UsYaG0f7kT5"
   },
   "source": [
    "### 2) Load files"
   ]
  },
  {
   "cell_type": "code",
   "execution_count": 10,
   "metadata": {
    "colab": {},
    "colab_type": "code",
    "id": "YoAPTs1L7kT7"
   },
   "outputs": [],
   "source": [
    "#test\n",
    "df_test = pd.read_csv('test.csv', index_col='id')\n",
    "#train\n",
    "df_train = pd.read_csv('train.csv', index_col='id')"
   ]
  },
  {
   "cell_type": "markdown",
   "metadata": {
    "colab_type": "text",
    "id": "tiVWygYx7kUE"
   },
   "source": [
    "### 3) Split dataset in \" Title \" and \" Label \""
   ]
  },
  {
   "cell_type": "code",
   "execution_count": 11,
   "metadata": {
    "colab": {},
    "colab_type": "code",
    "id": "SpxeEA6H7kUG"
   },
   "outputs": [],
   "source": [
    "#Train_Title\n",
    "train_title = []\n",
    "for n in df_train['title']:\n",
    "    train_title.append(n)\n",
    "    \n",
    "#Train_Label\n",
    "train_label = df_train['sentiment_range'].values "
   ]
  },
  {
   "cell_type": "code",
   "execution_count": 12,
   "metadata": {
    "colab": {},
    "colab_type": "code",
    "id": "R-HdWwh77kUT"
   },
   "outputs": [],
   "source": [
    "#Test_Title\n",
    "test_title = []\n",
    "for n in df_test['title']:\n",
    "    test_title.append(n)\n",
    "      \n",
    "#Test_Label\n",
    "test_label = df_test['sentiment_range'].values"
   ]
  },
  {
   "cell_type": "code",
   "execution_count": 13,
   "metadata": {},
   "outputs": [
    {
     "data": {
      "text/plain": [
       "array([ 0.43 , -0.344,  0.34 , ..., -0.786,  0.494, -0.461])"
      ]
     },
     "execution_count": 13,
     "metadata": {},
     "output_type": "execute_result"
    }
   ],
   "source": [
    "train_label"
   ]
  },
  {
   "cell_type": "code",
   "execution_count": 14,
   "metadata": {},
   "outputs": [
    {
     "data": {
      "text/plain": [
       "['Morrisons book second consecutive quarter of sales growth',\n",
       " 'IMI posts drop in first-quarter organic revenue; warns on full year',\n",
       " 'Glencore to refinance its short-term debt early, shares rise',\n",
       " 'EasyJet attracts more passengers in June but still lags Ryanair',\n",
       " \"Barclays 'bad bank' chief to step down\",\n",
       " 'Bilfinger Industrial Services win Â£100m BP contract extension',\n",
       " 'Bilfinger Industrial Services win Â£100m BP contract extension',\n",
       " 'Barclays share price subdued as bank faces fresh forex probe',\n",
       " 'Centrica prepared for takeover approach - chairman',\n",
       " \"Jim Armitage: Spare no tears as Glencore's bosses are paying such a small price\",\n",
       " 'Barclays, Deutsche Bank Fight to Lift Profit Just Got Harder',\n",
       " 'Kingfisher set to open another 200 Screwfix stores',\n",
       " 'Diageo sales disappoint as currency and comparatives leave bitter taste',\n",
       " 'Smith & Nephew recalls hip-replacement components',\n",
       " 'Tesco is torn apart as watchdog finds supermarket repeatedly withheld payments from suppliers',\n",
       " 'Is Trouble Brewing At Legal & General Group Plc And Aviva plc?',\n",
       " \"Here's my 10-point plan to make Tesco great again\",\n",
       " 'Schroders posts FY profit beat, replaces CEO and chairman in board shake-up',\n",
       " 'BP Seeks to Get Back Some Gulf Oil Spill Business Payouts',\n",
       " 'Can Standard Chartered PLC, BP plc & Burberry Group plc Keep Charging?',\n",
       " 'UPDATE 1-BP reports worst annual loss in at least 20 years, cuts more jobs',\n",
       " 'Insurers: Admiral blows hot and cold but Aviva soars pre-Friends Life merger',\n",
       " 'L&G still paying price for dividend cut during crisis, chief says',\n",
       " 'Insurers: Admiral blows hot and cold but Aviva soars pre-Friends Life merger',\n",
       " 'Whitbread eyes savings, price rises to offset wage rises',\n",
       " \"Britain's FTSE lifted by solid Kingfisher\",\n",
       " 'Novo Nordisk and AstraZeneca seek tonic from key drug trials',\n",
       " 'Kingfisher takeover of Mr Bricolage could hit a brick wall',\n",
       " 'BP wins right to appeal some Gulf spill damages claims',\n",
       " 'Dixons Carphone profit boost on strong sales',\n",
       " 'UK MORNING BRIEFING: Sky And Hargreaves Lansdown Bookend FTSE 100',\n",
       " 'Johnson Matthey profit lifted by metals unit sale',\n",
       " 'Barclays, Credit Suisse strike record deals with SEC, NY over dark pools',\n",
       " 'UPDATE 1-Shire takes Q2 earnings pain for long-term gain',\n",
       " 'Drugmaker Shire to buy Baxalta for $32 billion after 6-month pursuit',\n",
       " 'Standard Chartered considering move from UK',\n",
       " \"Philippines' San Miguel says to partner with Kirin if it bids for SABMiller's ...\",\n",
       " 'US cancels Arctic offshore lease sale after Shell drops interest',\n",
       " 'Shire CEO steps up drive to get Baxalta board talking',\n",
       " 'UPDATE 1-Oil major BP freezes pay in 2015 to cut costs',\n",
       " 'Brazil Vale says will appeal ruling to block assets for dam burst',\n",
       " 'BHP Billiton posts big loss, slashes dividend',\n",
       " \"Reaching New Depths: Glencore's $5bn Loss\",\n",
       " 'UPDATE 2-EasyJet sees better first half on lower fuel bill',\n",
       " \"Britain's FTSE advances as Royal Mail rises\",\n",
       " 'CompaniesTesco sheds Harris & Hoole coffee shops',\n",
       " 'News FeedFTSE 100 movers: Standard Chartered lifted while AstraZeneca sinks',\n",
       " \"Fitch: Citi's 1Q'15 Reports Much Improved Results\",\n",
       " \"Landlord Hammerson's NAV rises on increased leasing activity\",\n",
       " 'CompaniesMetro Bank raises Â£400m ahead of London listing',\n",
       " \"New Morrisons duo get former boss's support to diffuse investor tension\",\n",
       " 'WPP Q1 Revenue Rises Over 8% - Quick Facts',\n",
       " 'Barclays raises 603 million pounds from African business share sale',\n",
       " 'REFILE-Aviva Investors to move 34 bln euros in assets from AXA fund arm',\n",
       " 'Dividends Unleashed At Royal Bank of Scotland Group plc',\n",
       " 'Irish Said Chasing Standard Chartered, RBS as Brexit Vote Nears',\n",
       " \"EXCLUSIVE-BP, China's CNPC to unveil oil alliance - sources\",\n",
       " 'RBS and Barclays shares temporarily suspended amid heavily losses',\n",
       " 'BP sees Q1 earnings slide as low oil prices take their toll',\n",
       " 'Johnson Matthey revs up on clean air drive',\n",
       " 'Tesco boss urges rethink on minimum wage and business rates',\n",
       " 'Is It Worth Investing In Tesco PLC And Prudential plc Now?',\n",
       " 'RBS will reportedly appoint Howard Davies as its next chairman',\n",
       " \"UPDATE 1-Seattle flotilla protests Shell's Arctic drilling plans\",\n",
       " 'Petrofac books further Â£30m cost for Shetland gas terminal delays',\n",
       " 'G4S suspends workers at UK youth centre over allegations of unnecessary force',\n",
       " 'TalkTalk hires BAE Systems to investigate cyber attack',\n",
       " 'Osborne extends Lloyds sell-off plan',\n",
       " 'UPDATE 1-Dairy Crest loses a third of Morrisons milk contract',\n",
       " 'CompaniesLord Livingston joins Dixons Carphone',\n",
       " 'Tesco names Deloitte as new auditor after accounting scandal',\n",
       " \"World's banks may halve jobs and branches within 10 years - Barclays ex-boss\",\n",
       " 'Severn Trent share price rises as first half profit inches up as customer ...',\n",
       " 'Clinigen chosen by AstraZeneca to manage access programme for next ...',\n",
       " \"Valeant's Pearson says timing of return uncertain\",\n",
       " 'Aviva suspends trading in Â£1.8bn UK property fund',\n",
       " 'Horizonte acquires neighbouring Glencore nickel property in Brazil',\n",
       " \"Indy future in doubt as Johnston Press lines up deal for 'i'\",\n",
       " \"Glaxo's ViiV Healthcare Signs China Manufacturing Deal With Desano\",\n",
       " 'BHP Billiton half-year profit falls, beats forecasts',\n",
       " 'Royal Dutch Shell to Buy BG Group for Nearly $70 Billion',\n",
       " 'Barclays to speed up cost-cuts after new mis-selling hit',\n",
       " 'CEOs of BPM, UBI meet Italy econ minister as M&A talk heats up',\n",
       " 'HSBC Hit by Fresh Details of Tax Evasion Claims',\n",
       " 'CaixaBank, dos Santos Agree on Plan for BPI Angola Exposure',\n",
       " 'BPI Says Caixabank, Isabel dos Santos Reach Agreement Over Angola Exposure',\n",
       " \"Wolseley says Nicholls won't join as finance chief\",\n",
       " 'UK lawmakers warn Royal Mail against further price hikes',\n",
       " 'StanChart and RBS struggle in Bank of England stress tests',\n",
       " 'StanChart may see white knight takeover on painful recovery - CLSA',\n",
       " 'AstraZeneca suffers setback after drug fails to treat eye cancer',\n",
       " 'News FeedFTSE 100 movers: Standard Chartered lifted while AstraZeneca sinks',\n",
       " \"Retail giant Kingfisher reports 'solid' start to the year\",\n",
       " 'Unilever Continues to Battle Soft Demand',\n",
       " 'Fresnillo Production Surges But Profit Hit By Lower Prices',\n",
       " 'Helge Lund moves to BG a month early',\n",
       " 'Tesco set to sell Kipa, Giraffe businesses - Sky News',\n",
       " 'RBS warns of higher misconduct charges, obstacles ahead',\n",
       " 'DBS, Julius Baer emerge as potential bidders for Barclays Asia wealth unit ...',\n",
       " \"Standard Life slips as Greek worries peg back Britain's FTSE\",\n",
       " 'Glencore sells agri unit stake for $2.5 billion to Canadian pension fund',\n",
       " 'FCA bans former RBS Libor submitter',\n",
       " \"AB InBev's Latest Bid Said Unlikely to Win SABMiller's Approval\",\n",
       " 'Standard Chartered Not Raising Capital Yet As Dividend Cut',\n",
       " 'Tesco set to sell Kipa, Giraffe businesses - Sky News',\n",
       " 'United Utilities FY profit up 3.5%; to boost capex',\n",
       " \"Sale of Tesco's Clubcard business to WPP on the verge of collapse\",\n",
       " \"UK's Osborne may sell state-owned RBS shares at a loss -paper\",\n",
       " \"Tesco Sale Is Asia's Biggest Private-Equity Deal\",\n",
       " 'Industry NewsWolseley confident in reslilience amid mixed markets',\n",
       " \"Japan's Nikkei lands Financial Times in $1.3 billion deal\",\n",
       " 'UPDATE: Peter Long To Be Chairman Of Both Royal Mail And TUI AG',\n",
       " 'UK regulators license BAT e-cigarette as quit-smoking medicine',\n",
       " 'Aviva, M&G suspend property funds as investors panic',\n",
       " 'British American Tobacco drops and sues PwC over pollution scandal',\n",
       " \"Aberdeen's shares slide as net outflows accelerate\",\n",
       " \"REFILE-Hikma and Barclays help Britain's FTSE to climb higher\",\n",
       " \"Kraft, Cadbury's and Britvic in Total Recall: how pulling a product affects profit\",\n",
       " 'Standard Chartered share price: Aberdeen CEO would back potential capital increase',\n",
       " 'Severn Trent share price jumps as Canadian investor renews pursuit of utility',\n",
       " 'France raises concerns over proposed LSE-Deutsche Boerse deal',\n",
       " 'Bunzl blames weakness in United States for first-half revenue slowdown',\n",
       " \"Tesco criticised for 'disgraceful' advert showing domestic worker being slapped\",\n",
       " \"Tushar Morzaria is bookies' favourite to be new Barclays chief executive\",\n",
       " \"CompaniesG4S claims 'positive' start to the year\",\n",
       " 'UPDATE 3-BP settles oil spill-related claims with Halliburton, Transocean',\n",
       " 'Shares in BAE Systems hit 10-month high on rating upgrade',\n",
       " \"GE to Sell Majority Stake in Bank BPH's Core Bank to Alior Bank\",\n",
       " 'Royal Dutch Shell plc: Shell Updates on Alaska Exploration',\n",
       " 'City spirits sink after Diageo comes up short with sales slide',\n",
       " 'Tesco sales recover as focus returns to core business',\n",
       " 'London Stock Exchange unit in talks to operate Plato venue',\n",
       " 'ARM Holdings plc Partners With International Business Machines Corp. To Drive ...',\n",
       " 'GSK joins China trade push as UK trumpets healthcare deals',\n",
       " 'Goldman Sachs, Barclays, HSBC downplay Brexit threat',\n",
       " 'HSBC marks muted 150th birthday party with grain of rice sculptures',\n",
       " \"Barclays appoints JPMorgan's Paul Compton as new COO\",\n",
       " \"Standard Chartered Shares Jump Most Since '12 After Upgrades\",\n",
       " \"Italy Probes Shell's Role in Purchase of Nigerian Oil Block\",\n",
       " 'Shropshire and Mid Wales trains to be hit again in new strike by Arriva drivers',\n",
       " 'Friends Life lifts profits 38% and hikes divi ahead of proposed Aviva takeover',\n",
       " 'Randgold profit hit by poor gold price but dividend still increases',\n",
       " 'AstraZeneca does US$770mln anaesthetic deal',\n",
       " \"AB InBev's Latest Bid Said Unlikely to Win SABMiller's Approval\",\n",
       " \"ITV share price jumps on report of Comcast's NBCUniversal bidding to takeover ...\",\n",
       " 'Diageo Sells Ryder Cup Venue Gleneagles Hotel to Ennismore Group',\n",
       " 'Pearson to cut 4000 jobs as it warns on profits',\n",
       " 'FDA panel backs safety updates for AstraZeneca, Takeda drugs',\n",
       " 'LSE-Deutsche Boerse merger would signal end to exchange mega-deals',\n",
       " 'Intertek Hit By Pound Strength, Oil & Gas Slowdown; Still Ups Dividend',\n",
       " 'Tesco says recovery plan working after profit collapse',\n",
       " 'Kinder Morgan and BP Form Joint Venture Limited Liability Company to Purchase ...',\n",
       " 'Shell and BG Shareholders to Vote on Deal at End of January',\n",
       " 'Intercontinental Hotels, Starwood held early deal talks - FT',\n",
       " \"Warren Buffett's Berkshire Hathaway buys stake in Apple\",\n",
       " 'Sunday Papers: Shire told to raise its offer by Baxalta investors',\n",
       " \"Britain's FTSE bounces back, Mondi and Barratt lead\",\n",
       " 'Glencore slashes 2015 capex budget as annual profits slip 2%',\n",
       " 'Anheuser-Busch InBev Increases Offer for Rival SABMiller',\n",
       " 'Sainsbury CFO Rogers to Replace Home Retail CEO Walden',\n",
       " 'UPDATE 2-Exchanges, Barclays win dismissal of US high-frequency trading case',\n",
       " 'MarketsUS industrials lag as Barclays dims view',\n",
       " 'Zurich Insurance Considering Offer for UK Rival RSA Insurance',\n",
       " 'US DOJ antitrust unit subpoenas Mylan over pricing of doxycycline',\n",
       " 'AstraZeneca sells US gout drug rights to Ironwood for up to $265 million',\n",
       " \"Shell, Chevron Await LNG's Return From `Pause Mode'\",\n",
       " 'Companies raise less money on London Stock Exchange in 2015',\n",
       " 'Shell and BG Shareholders to Vote on Deal at End of January',\n",
       " 'Glencore shares rally after miner hits back',\n",
       " 'ABN Amro: Bank that brought down RBS poised for return to the market',\n",
       " 'Verizon and AT&T accused of hurting rivals',\n",
       " 'ARM swings to profit in fourth quarter',\n",
       " 'Johnson Matthey profit falls but dividend rises',\n",
       " 'Auto Trader share price surges as company floats on LSE',\n",
       " 'ConAgra Names Former Hillshire Farms CEO Connolly to Top Post',\n",
       " 'Hargreaves Landown slides on trading update',\n",
       " \"Sainsbury's, Asda, Tesco and Morrisons will all cut petrol prices as oil falls ...\",\n",
       " \"WPP, World's Largest Ad Agency, Reports Strong 2015 Growth\",\n",
       " 'Shell Targets Gains From Brazil to LNG With Takeover of BG Group',\n",
       " 'Four former Barclays bankers jailed over Libor',\n",
       " \"Tesco Cut to Junk at Moody's on Concern Revival to Take Time\",\n",
       " 'LPC-Glencore launches refinancing of $8.45billion loan',\n",
       " 'London open: Taylor Wimpey and Ashtead drive markets higher, Barclays falls',\n",
       " 'Easyjet targets business travellers with new perks',\n",
       " 'BP joins forces with Det Norske in Norway',\n",
       " 'Shire proposes $30 bln all-share tie-up with Baxalta',\n",
       " 'Tesco sales rise shows tentative recovery continues',\n",
       " 'Valeant Names Interim Leader as CEO Remains Hospitalized',\n",
       " 'AstraZeneca weighing up Acerta bid to secure blood cancer drug',\n",
       " 'BP asks for lower fine in penalty phase of Gulf spill trial',\n",
       " 'MarketsShire up 2.5% and Baxalta up 6% on $32bn deal',\n",
       " \"Warren Buffett's Awesome Feat at Berkshire Hathaway, Revisited\",\n",
       " \"Lloyds Banking Group's share price lifts amid reports bank is poised to axe hundreds of UK jobs\",\n",
       " \"SSE cuts gas prices by 4.1% to become fifth of 'Big Six' providers to slash energy ...\",\n",
       " \"Silicon Fen' champion brings exacting approach to Rolls-Royce\",\n",
       " 'Tesco Said to Discuss Central and Eastern European Unit Sale',\n",
       " 'Glencore launches refinancing of credit line',\n",
       " 'Should You Follow Berkshire Hathaway Into Apple Stock?',\n",
       " 'UK WINNERS & LOSERS: Aviva And Friends Life Lead FTSE 100 Gainers',\n",
       " \"FDA approves Shire's Vyvanse for binge-eating disorder\",\n",
       " 'Entertainment One dispels ITV takeover rumours',\n",
       " \"Despite sales growth, UK's Tesco cautions recovery to be bumpy\",\n",
       " 'Oil Giant Shell to Cut Around 2800 Jobs Amid BG Takeover',\n",
       " 'BAE Systems banks on US defence spending to fix sales slide',\n",
       " 'UK Christmas power demand to be lowest in 16 years â€“ National Grid',\n",
       " 'CompaniesCompass serves up half year profit rise',\n",
       " 'UK MORNING BRIEFING: Sky And Hargreaves Lansdown Bookend FTSE 100',\n",
       " 'InterContinental Hotels Group share price climbs on $1.5bn special dividend',\n",
       " 'AstraZeneca in Talks to Buy Cancer Drug Developer Acerta Pharma',\n",
       " 'Amazon to attack UK grocery market with Morrisons deal',\n",
       " 'Tesco made a bit of a crucial error in this promotion for Ramadan...',\n",
       " 'Falling oil prices hurt Hunting, Weir Group',\n",
       " \"Morning Agenda: Shire's Deal for NPS\",\n",
       " 'AstraZeneca wins FDA approval for key new lung cancer pill',\n",
       " 'FCA set to fine Lloyds record Â£100m over PPI',\n",
       " \"Barclays's Next CEO Should Be Investment Banker, Aberdeen Says\",\n",
       " 'RBS and Barclays shares temporarily suspended amid heavily losses',\n",
       " 'Shire to buy NPS for $5.2 billion to boost rare disease drugs',\n",
       " \"Tesco's boardroom clearout continues\",\n",
       " 'BHP Billiton says no settlement yet on Brazil dam disaster',\n",
       " 'Arm buoyed by race to build the internet of things',\n",
       " 'AstraZeneca diabetes drug combination faces delay after FDA rebuff',\n",
       " \"Amazon's grocery deal with Morrisons is only the beginning\",\n",
       " \"BAE Systems's sales boosted by European Typhoon and currencies\",\n",
       " 'CompaniesAberdeen Asset Mgt reports 10th consecutive quarterly outflows',\n",
       " 'Barclays CEO poaches risk head from JP Morgan',\n",
       " 'BP signs $12 billion energy deal in Egypt',\n",
       " 'Shire says internal synergy goals from Baxalta deal higher',\n",
       " \"WPP wins race for 'programmatic buying' agency Essence Digital\",\n",
       " 'Drugmaker Shire to buy Baxalta for $32 billion after 6-month pursuit',\n",
       " 'AstraZeneca investment eats into profit',\n",
       " 'AstraZeneca bags another cancer drug deal, this time with Inovio',\n",
       " 'CompaniesCentrica shares drop 7% amid capital raise',\n",
       " 'Miners Meltdown as BHP to Rio Tinto Sink in Commodities Rout',\n",
       " \"UPDATE 1-Britain's Tullow says makes new oil find in Kenya\",\n",
       " \"Britain's power supplies enough to meet winter demand - National Grid\",\n",
       " \"Barclays PLC & Lloyds Banking Group PLC Are The 2 Banks I'd Buy Today\",\n",
       " \"UPDATE 3-Buffett's Berkshire raises oil bet with Kinder Morgan stake\",\n",
       " 'UPDATE: EasyJet Passenger Numbers, Aer Lingus Traffic Up In February',\n",
       " 'PRESS: US High-Frequency Lawsuit Against Barclays Dismissed - Reuters',\n",
       " \"Shell CEO van Beurden's remuneration fell in 2015\",\n",
       " 'Aberdeen AM posts H1 outflows, says conditions to remain challenging',\n",
       " \"Kraft, Cadbury's and Britvic in Total Recall: how pulling a product affects profit\",\n",
       " 'Shell seeks to remove Greenpeace activists from oil rig',\n",
       " 'UPDATE 3-BP settles oil spill-related claims with Halliburton, Transocean',\n",
       " 'Pearson Forecasts Rising Earnings as Reorganization Pays Off',\n",
       " 'Morrisons faces festive sales test',\n",
       " 'Aviva shuts Friends Life head office in rapid integration move',\n",
       " 'Tesco to pay Â£8m to settle class-action lawsuit after accounting scandal',\n",
       " 'UPDATE 3-Stifel to buy former Lehman brokerage from Barclays',\n",
       " 'CompaniesRoyal Mail stake sale delivers Â£750m for taxpayer',\n",
       " 'NYSE owner ICE may gatecrash Deutsche Boerse-LSE merger',\n",
       " \"Spain's Caixabank launches new takeover bid for Banco BPI\",\n",
       " 'Former Aviva Investors analyst Mothahir Miah banned and fined Â£139000 by FCA ...',\n",
       " 'ARM shrugs off smartphone slowdown as newer designs win share',\n",
       " 'UPDATE 1-Petrofac posts net loss hurt by Shetland Islands project costs',\n",
       " \"Do it for me' trend underpins UK sales growth at Kingfisher\",\n",
       " 'RBS invites pitches for broker role ahead of privatisation - sources',\n",
       " 'Bunzl delivers small profit increase for 2014',\n",
       " 'AB InBev Holds Talks With Regulators About California Deals',\n",
       " 'CompaniesMorrison evicted from FTSE 100 as Worldpay joins',\n",
       " 'Barclays denies deferred prosecution offer from SFO',\n",
       " \"LONDON MIDDAY BRIEFING: Kingfisher's French Expansion Hits The Rocks\",\n",
       " 'PRESS: Serco Set To Appoint Roy Gardner, Ex-Centrica, As Chairman - FT',\n",
       " \"Tesco chief excutive Dave Lewis sees 'encouraging signs' despite profits tumble\",\n",
       " 'EasyJet \"Sneakairs\": Airline is testing smart shoes to help customers explore destinations',\n",
       " 'The Coca-Cola Company and Coca-Cola FEMSA to Acquire AdeS Soy-Based Beverage Business From Unilever',\n",
       " 'SSE faces profiteering accusations despite 5.3% cut in gas charges',\n",
       " 'CompaniesRBS pulls a surprise: a 27% jump in profits',\n",
       " \"Shell, Chevron Await LNG's Return From `Pause Mode'\",\n",
       " 'Barclays settles with US investors over Libor manipulation',\n",
       " 'Tesco says recovery on track, asks investors to be patient',\n",
       " \"Should you buy Associated British Foods plc, Great Portland Estates plc and Dunelm Group plc following today's news?\",\n",
       " 'UPDATE 1-Nomura, RBS must pay $806 mln in mortgage bond case-US judge',\n",
       " 'National Grid profit up 15%; gas sale on track',\n",
       " 'AstraZeneca chases Acerta to secure next cancer drug winner',\n",
       " 'Prudential capital ratio beats forecasts, confirms UK head',\n",
       " 'CompaniesEx-City watchdog Turner joins Prudential board',\n",
       " 'Militants fire rockets at Algerian BP/Statoil gas plant, no casualties',\n",
       " \"BG Group Still Happy With Shell's $70 Billion Offer\",\n",
       " \"CompaniesAstraZeneca wins nod for 'blockbuster' hopeful\",\n",
       " 'Shell to Lay Off Another 2200 Staff',\n",
       " 'Carnival Corporation and China Merchants Group Sign Memo of Understanding ...',\n",
       " 'CompaniesDiageo stays neutral on India boardroom turmoil',\n",
       " \"Tesco to 'axe 10000 jobs' in 'simplification' drive to cut costs by 30 per cent\",\n",
       " 'Barclays poised to replace Sir Mike Rake as he heads for exit',\n",
       " 'Tesco bans sugary drinks in â€œchildhood obesity driveâ€퀀',\n",
       " 'Tata Steel working with StanChart for UK unit sale - source',\n",
       " \"Sainsbury's share price: Grocer launches click-and-collect\",\n",
       " 'AO World shares tumble on profit warning',\n",
       " 'Shell Targets Gains From Brazil to LNG With Takeover of BG Group',\n",
       " 'Glencore tells investors it is on track to reduce debt: Barclays',\n",
       " \"Whitbread boss Andy Harrison defends sales fall as 'just a blip'\",\n",
       " 'Borealis Infrastructure putting together new Severn Trent bid',\n",
       " 'AstraZeneca sells US drug rights to Perrigo for $380 mln',\n",
       " 'Aggreko 2015 Profit Declines - Quick Facts',\n",
       " \"Pearson lags as UK's FTSE slips off record high\",\n",
       " 'RBS hands Â£3.3m of shares to top staff',\n",
       " 'Glencore sells agriculture stake for $2.5bn',\n",
       " \"Barclays says has spent $150 million on US 'living will'\",\n",
       " 'RBS share price: Group plans to slash 600 jobs',\n",
       " 'TRLPC - CRH backs Lafarge Holcim asset buy with 6.5 bln euro bridge loan',\n",
       " 'Eurozone bank lending continues to recover, slowly, Barclays says',\n",
       " 'RBS breaks with past by tearing investment bank apart',\n",
       " 'Aberdeen Asset Management Gains Foothold In China',\n",
       " 'BP to pay investors $175m over Gulf spill claims',\n",
       " 'Persimmon sees post-election pick-up',\n",
       " \"Fewer multi-buys hurt Sainsbury's market share\",\n",
       " \"Australia clears AB Inbev's $100 billion SABMiller buyout plan\",\n",
       " 'London open: Taylor Wimpey and Ashtead drive markets higher, Barclays falls',\n",
       " 'AstraZeneca profit down as sales of stalwarts fade',\n",
       " 'Tesco Mobile Partners with Unlockd to Change the Way Consumers Use and Pay for Their Mobile Phones',\n",
       " 'Associated British Foods helps FTSE to rebound',\n",
       " 'Why Shell Cut Ties to Conservative Lobby Group Over Climate Change',\n",
       " 'Johnson Matthey sells research chemicals unit to Thermo Scientific',\n",
       " 'Tesco rebounds as buyers sense a bargain',\n",
       " 'Valeant CEO Returns From Leave, Company Withdraws Guidance',\n",
       " 'AstraZeneca shares climb 3% as drug maker ups profits forecasts',\n",
       " 'FastJet slams EasyJet founder Stelios for going public, is \"taking legal advice\" over letter about contractual ...',\n",
       " \"Failure of leadership' behind Tesco troubles, says former CEO Leahy\",\n",
       " \"British American Tobacco says would fight UK 'plain packaging' law\",\n",
       " \"Hammerson, JV Partner secure ownership of Ireland's Dundrum - Quick Facts\",\n",
       " \"Asahi could be about to snap up more of SABMiller's beers ahead of AB InBev sale\",\n",
       " \"Are ARM Holdings plc, Domino's Pizza Group plc and ASOS plc 3 must-have growth stocks?\",\n",
       " 'Persimmon reports strong trading despite EU vote and planning delays',\n",
       " 'NYSE owner ICE considers offer for LSE',\n",
       " 'CompaniesSanofi poaches immunology expert from AstraZeneca',\n",
       " \"Mylan Appoints Ranjan Ray Chaudhuri as Global Commercial Lead for Mylan's Over ...\",\n",
       " 'BP ends 27-year sponsorship of Tate as falling oil price takes toll',\n",
       " 'Royal Dutch Shell pulls plug on Arctic exploration',\n",
       " 'Horizonte acquires neighbouring Glencore nickel property in Brazil',\n",
       " 'Standard Chartered, RBS Escape Capital Raising in Stress Test',\n",
       " 'FDA approves AstraZeneca drug for advanced lung cancer',\n",
       " 'Barclays poaches new chief operating officer Paul Compton from JP Morgan Chase',\n",
       " 'Water utility Severn Trent ups savings forecast, FY profit falls',\n",
       " 'Reed Elsevier shares cool after profit dip',\n",
       " 'BAE Systems lines up oil exec Woodburn as next CEO -source',\n",
       " 'Diageo share price: Group issues half-year update',\n",
       " 'CompaniesDiageo moves CFO to lead North American business',\n",
       " 'RBS, Lloyds Most Exposed to Commercial Property, JPMorgan Says',\n",
       " 'Legal & General share price: Finance chief to step down',\n",
       " 'CompaniesLSE adds ex-SEC head Schapiro to board',\n",
       " 'European shares fall on Chinese import data, SABMiller soars',\n",
       " 'News FeedSchroders books solid earnings growth, several board changes',\n",
       " 'Valeant, AstraZeneca strike psoriasis drug deal',\n",
       " 'Barclays considers acquisition to help split off retail arm',\n",
       " 'CFTC fines Barclays $560000 for inaccurate swaps position reports',\n",
       " \"Merged LSE and Deutsche BÃ¶rse would be led by Germany's Kengeter\",\n",
       " 'Tesco turnaround gathers pace under new CEO',\n",
       " 'Tesco, Asda sales fall as march of the discounters continues: Kantar',\n",
       " 'METALS-Zinc soars 10 pct, fuelling metals surge after Glencore cuts output',\n",
       " 'BP cuts capex for third time this year to deal with weak oil',\n",
       " 'Aspen to Buy Anaesthetics From AstraZeneca for $520 Million',\n",
       " 'Sainsbury chief warns of squeeze on high street retailers',\n",
       " 'US sanctions put Gazprom-Shell alliance plans in jeopardy',\n",
       " 'UPDATE 6-Royal Dutch Shell pulls plug on Arctic exploration',\n",
       " \"AB InBev to Sell SABMiller Stake in China's Snow Beer\",\n",
       " 'Persimmon share price climbs on 23% rise in full-year revenue',\n",
       " 'Royal Mail hands chief executive Moya Greene a 13% rise in her pay package',\n",
       " 'Travis Perkins to create 4000 jobs',\n",
       " 'LSE-Deutsche BÃ¶rse dealmakers wrong to ignore Brexit risk',\n",
       " 'Britain cuts Lloyds Banking Group stake to below 17 pct',\n",
       " 'LONDON MORNING BRIEFING: HSBC And Standard Chartered Shares Rise',\n",
       " 'BP Reports $583 Million Loss in First Quarter',\n",
       " \"Britain's FTSE led lower by ITV, William Hill\",\n",
       " 'Barclays set to name former JPMorgan banker Staley as new CEO',\n",
       " 'Friday Papers: Sir Philip Green sells BHS for Â£1',\n",
       " \"Warren Buffett's Berkshire adds to favorites IBM, Wells Fargo\",\n",
       " \"Spain's CaixaBank Expects To Close Deal For Banco BPI\",\n",
       " 'How Kraft-Heinz Merger Came Together in Speedy 10 Weeks',\n",
       " 'Persimmon revenues lifted 12% by post-election confidence',\n",
       " 'REFILE-Aviva Investors to move 34 bln euros in assets from AXA fund arm',\n",
       " 'US urges final approval of $20 billion BP oil spill pact',\n",
       " 'Diageo Sells Ryder Cup Venue Gleneagles Hotel to Ennismore Group',\n",
       " 'UPDATE 1-GSK-linked investigator freed early from China jail - source',\n",
       " 'FTSE hits three-week low as financials, Tesco fall',\n",
       " 'LSE-Deutsche BÃ¶rse dealmakers wrong to ignore Brexit risk',\n",
       " 'Weir Group offloads two renewables units',\n",
       " 'Aggreko says first half profits will be lower as the oil price rout claims its latest victim',\n",
       " 'Industry NewsRevenue, earnings take a tumble at Weir Group',\n",
       " 'News FeedFTSE 100 movers: Ashtead jumps on strong interims; Glencore, BP in ...',\n",
       " 'Sharm el-Sheikh travel disruption: British Airways, EasyJet, Thomson and ...',\n",
       " 'London stock exchange shareholders vote on merger deal under Brexit cloud',\n",
       " \"UPDATE: AstraZeneca's Selumetinib Gets Orphan Drug Label, Good AZD9291 ...\",\n",
       " 'Intercontinental Exchange Opts Not to Bid for London Stock Exchange',\n",
       " 'Dave Lewis paid Â£4.1m for first 6 months at Tesco',\n",
       " \"Weir Group says first-half profits will be 'slightly ahead' of expectations\",\n",
       " 'Glencore Sells $2.5 Billion Stake in Agriculture Unit',\n",
       " 'AstraZeneca : FDA Panel Reviews Savor Study Results For Onglyza ...',\n",
       " 'Hargreaves Lansdown bucks weak markets to see assets rise 2.6 percent',\n",
       " \"Britain's FTSE hits three-week low as financials, Tesco fall\",\n",
       " \"Trading ExpertBROKER RECOMMENDATIONSUBS ups RBS to 'buy' as it re-initiates coverage on UK banks\",\n",
       " \"3G Capital, Warren Buffett's Favorite Partner in Deals Worth Billions\",\n",
       " \"Shell's $70 Billion BG Deal Meets Shareholder Skepticism\",\n",
       " 'GKN to buy Fokker Technologies for 706 mln euros',\n",
       " 'Questor share tip: Mondi shares jump 10pc on strong start',\n",
       " \"Berkshire discloses unit's ties to Iran, opens probe\",\n",
       " 'Rio Tinto swings to loss, drops dividend policy',\n",
       " 'Rio Tinto Reaffirms Goal for Iron Ore Output',\n",
       " 'Shares in easyJet fall to three-year low after Brexit profit warning',\n",
       " 'Shire share price: Group releases full-year results',\n",
       " 'AstraZeneca share price: Company to carve out antibiotic R&D unit into separate ...',\n",
       " 'Ex-Barclays Trader Johnson Pleaded Guilty to Libor Fixing',\n",
       " 'SABMiller buys Meantime to quench thirst for craft beer',\n",
       " 'Standard Chartered to slash costs as profits plunge 25%',\n",
       " \"Buffett's Berkshire delivers 9.8% profit growth\",\n",
       " 'Rio Tinto CEO Sam Walsh rejects fears over China growth, demand',\n",
       " 'CompaniesShell sells stake in Showa Shell Sekiyu for $1.4bn',\n",
       " 'Reed Elsevier to rename itself RELX Group',\n",
       " \"Sotheby's chairman takes his final sale\",\n",
       " \"Insight hires Aviva's David Hillier for multi-asset team\",\n",
       " 'Shell offers 50 percent premium to buy BG for $70 billion',\n",
       " 'Novartis buys remaining rights to GSK treatment in deal up to $1 billion',\n",
       " 'AB InBev to sell Peroni and Grolsch',\n",
       " 'Unilever posts weaker-than-expected fourth quarter',\n",
       " 'UPDATE 1-Dairy Crest loses a third of Morrisons milk contract',\n",
       " 'Rolls-Royce Wins $9.2 Billion Order From Emirates Airline',\n",
       " 'Entertainment One dispels ITV takeover rumours',\n",
       " 'NYSE owner ICE considers offer for LSE',\n",
       " 'Novartis buys remaining rights to GSK treatment in deal up to $1 billion',\n",
       " 'EU drops Shell, BP, Statoil from ethanol benchmark investigation',\n",
       " 'HSBC Preparing Job Cuts That May Target 20000 Workers, Sky Says',\n",
       " 'UPDATE 3-BP settles oil spill-related claims with Halliburton, Transocean',\n",
       " 'PRESS: Serco Set To Appoint Roy Gardner, Ex-Centrica, As Chairman - FT',\n",
       " 'RBS bosses ordered to go out and meet small firms',\n",
       " 'AB InBev offers to sell some SABMiller brands',\n",
       " 'RPT-UK supermarkets braced for battle as Tesco comes out fighting',\n",
       " 'UPDATE 1-Glencore flags sale of some Australia, Chile assets',\n",
       " 'Barclays says not been offered deferred prosecution deal by SFO',\n",
       " 'Aviva promises higher dividends to boost flagging share price',\n",
       " 'Brewer AB InBev seeks $275 bln tie-up with SABMiller',\n",
       " 'Intercontinental Exchange Opts Not to Bid for London Stock Exchange',\n",
       " 'Glencore Cuts 2015 Budget, Plans To Divest From Lonmin',\n",
       " 'HSBC Posts Surprise Fourth-Quarter Pretax Loss of $858 Million',\n",
       " 'Earnings surge as fund manager Schroders reports a record year',\n",
       " 'Eurocrat left best-placed to unravel London Stock Exchange deal',\n",
       " 'Lawmakers worry AB InBev beer deal will hurt craft brewers',\n",
       " 'StanLife leads FTSE after strong earnings',\n",
       " 'Lloyds Banking Group eyes return to dealmaking with MBNA bid',\n",
       " 'Anheuser-Busch InBev Increases Offer for Rival SABMiller',\n",
       " 'UK government sells more Lloyds shares, cuts stake to below 12 percent',\n",
       " 'Kinder Morgan and BP Form Joint Venture Limited Liability Company to Purchase ...',\n",
       " 'Tesco says UK store closures put 2000 jobs at risk',\n",
       " 'Tesco Versus Sainsbury: Weight-Watcher vs. Bodybuilder',\n",
       " 'Buffett talks wind energy, Coca-Cola at Berkshire meeting',\n",
       " 'TSB boss: Current account switching must be simpler',\n",
       " 'Barclays CEO Staley Says Brexit Slump Caused by Profit Fears',\n",
       " \"Retailers Kingfisher and Sports Direct rise in Britain's share index\",\n",
       " 'Berkshire Shareholders Pepper Warren Buffett With Some Hard Questions',\n",
       " 'GLOBAL MARKETS-Stocks gain on Royal Dutch Shell bid, oil slumps',\n",
       " 'EasyJet Dismisses Lufthansa Low-Cost Plan in Contest for Germany',\n",
       " 'AstraZeneca says new lung cancer pill Tagrisso approved by EU',\n",
       " 'Two former Barclays traders face retrial over Libor',\n",
       " 'MarketsBP promotes upstream boss to deputy CEO',\n",
       " 'Glencore swings to loss, will sell more assets',\n",
       " 'Shell to buy BG Group in $69.7 billion takeover',\n",
       " \"Clydesdale Bank hit with record PPI fine for 'unacceptable' staff lies\",\n",
       " \"UK's FTSE climbs to record closing high as Standard Chartered surges\",\n",
       " 'US judge rules that BP spill smaller than feared',\n",
       " 'Royal Mail Revenue Flat As Letters Weakness Offsets Parcels Strength',\n",
       " 'AB InBev launches SAB bid, to sell MillerCoors stake',\n",
       " 'ARM Royalties Accelerate as Smartphone Market Regains Strength',\n",
       " 'Shell fined by Scottish court for 2011 North Sea oil spill',\n",
       " \"Glencore chief blames rivals' overproduction for share price fall\",\n",
       " 'Ackman, in email, says supports Valeant CEO Pearson',\n",
       " \"GlaxoSmithKline's CEO Witty to bow out in March 2017\",\n",
       " 'Standard Life shuts Â£2.9bn property fund after investors rush to withdraw money post-Brexit',\n",
       " 'Shire CEO steps up drive to get Baxalta board talking',\n",
       " \"FTSE slide halted by BP's Â£12bn US settlement - London Report\",\n",
       " \"Sainsbury's pressed to raise bid for Home Retail Group\",\n",
       " 'FDA approves NPS drug, in move validating Shire takeover deal',\n",
       " 'Sanofi poaches AstraZeneca scientist as new research head',\n",
       " 'CompaniesSanofi poaches immunology expert from AstraZeneca',\n",
       " \"ITV to pursue takeover of Canada's Entertainment One: Bloomberg\",\n",
       " 'Broker tips: RBS, Croda, Sage',\n",
       " 'Royal Mail, Johnson Matthey lead FTSE lower',\n",
       " 'Industry NewsWhitbread sales sink in fourth quarter on Costa slowdown',\n",
       " 'Diageo and Carlsberg hit as Russians suffer from oil price collapse and rouble ...',\n",
       " 'GlaxoSmithKline share price slips as FDA okays asthma therapy only for adults',\n",
       " 'Report: Financial Times up for sale',\n",
       " 'Glencore raises $2.5bn through share placing to help cut debt load',\n",
       " 'BP joins forces with Det Norske in Norway',\n",
       " 'No pay hikes this year at Rio Tinto as mining slump bites',\n",
       " 'Nine banks including Barclays, Citi, agree to pay $2 billion to settle forex ...',\n",
       " \"Warren Buffett's Berkshire Hathaway buys stake in Apple\",\n",
       " 'Broker tips: RBS, Croda, Sage',\n",
       " \"London Stock Exchange seals Â£22 billion merger with Germany's Deutsche BÃ¶rse\",\n",
       " 'FTSE steadies around 2-month low Diageo shares surge',\n",
       " 'Glencore Cuts 2015 Budget, Plans To Divest From Lonmin',\n",
       " 'London Stock Exchange Shareholders Approve Merger With Deutsche BÃ¶rse',\n",
       " \"We'd support HSBC leaving London, says Standard Life\",\n",
       " 'News FeedFTSE 100 movers: LSE surges as ICE says mulling offer; Ashtead and Barclays tank',\n",
       " 'CompaniesTesco bumps up pay for store staff',\n",
       " \"BP pay boss feels the heat from revolt over Dudley's Â£14 million\",\n",
       " 'UPDATE 3-Stifel to buy former Lehman brokerage from Barclays',\n",
       " 'Shell Plans to Shed 2800 Jobs After Buying BG Group',\n",
       " 'Old Mutual to split up, may list some businesses',\n",
       " 'RBS, Lloyds Most Exposed to Commercial Property, JPMorgan Says',\n",
       " 'CompaniesKingfisher bid for Mr Bricolage runs into trouble',\n",
       " 'EasyJet to pass on lower fuel prices to customers',\n",
       " 'Tesco loses two more directors as Garfield and Tammenoms step down',\n",
       " \"The UK Government's Call To Sell Shares In Royal Bank Of Scotland Group plc ...\",\n",
       " \"Credit Suisse poaches Prudential's Thiam for Asian push\",\n",
       " 'Should You Buy Jumbo Yielders British American Tobacco plc, Centrica PLC & John Wood Group PLC?',\n",
       " \"Britain's FTSE eyes 7th straight daily rise; Wolseley lags\",\n",
       " 'EU regulator backs approval for GSK injectable asthma drug',\n",
       " 'Rolls-Royce to Ensure Compliance After Petrobras Bribery Report',\n",
       " 'LSE gets Hong Kong regulatory nod to HK firms to become LSE members',\n",
       " \"Warren Buffett's Berkshire adds to favorites IBM, Wells Fargo\",\n",
       " 'Canadian Pension fund Borealis renews pursuit of Severn Trent : report',\n",
       " 'ITV merger reports boost Footsie stocks',\n",
       " \"Kraft, Cadbury's and Britvic in Total Recall: how pulling a product affects profit\",\n",
       " 'Wolseley helps lift FTSE from losses',\n",
       " 'Novo Nordisk and AstraZeneca seek tonic from key drug trials',\n",
       " 'Saudi Aramco, Shell plan to break up Motiva, divide up assets',\n",
       " 'CommentOpening Quote: pay day moans; profits slump for Lloyds; Mars mission',\n",
       " 'AstraZeneca sells Caprelsa rights to Sanofi unit',\n",
       " 'Industry NewsWood Group wins multi-million dollar contract with BP',\n",
       " \"Royal Mail and workers' union agree pay deal\",\n",
       " 'Lloyds wins right to buy bonds back early to save 1 billion pounds',\n",
       " \"Britain's FTSE buoyed by Admiral, building sector gains\",\n",
       " 'Tesco share price: Brand Guarantee comes under fire',\n",
       " 'FTSE led lower by M&S, GlaxoSmithKline',\n",
       " 'FTSE edges up as investors cheer Kingfisher results',\n",
       " 'HSBC chief hit with tax-avoidance scandal',\n",
       " 'British government stake in Lloyds Banking Group fa',\n",
       " \"AstraZeneca's $727 million play to do away with chemotherapy\",\n",
       " 'HSBC appoints business leaders to board',\n",
       " 'Diageo and Carlsberg hit as Russians suffer from oil price collapse and rouble ...',\n",
       " \"Buffett's Berkshire builds Deere stake, dumps Exxon\",\n",
       " 'BUZZ-BG Group: outperforms sector after record output',\n",
       " 'Teva First-Quarter Net Rises 11% Amid Mylan Takeover Battle',\n",
       " 'After Barclays and Bank of America, Citigroup has blockchain in sight',\n",
       " \"Industry NewsG4S makes 'positive' start to year, no new impairments\",\n",
       " 'Morrisons helps FTSE edge higher energy shares slip',\n",
       " 'Old Mutual share price: Wealth unit seen as blue-chip company',\n",
       " 'CompaniesUnilever sales lifted by ice cream in soft economy',\n",
       " 'InterContinental Hotels first-quarter global room revenue lags estimates',\n",
       " 'Bunzl backs 2015 view, buys more businesses',\n",
       " 'Bidders Abandon Auction Of Tesco Data Unit',\n",
       " 'EU drops Shell, BP, Statoil from ethanol benchmark investigation',\n",
       " 'Euro zone QE helps Standard Life first-quarter funds boost',\n",
       " 'Smith & Nephew 2015 trading profit beats expectations',\n",
       " 'Closely watched AstraZeneca cancer drug fails in mesothelioma',\n",
       " 'Glencore slumps 25 pct as debt fears grow',\n",
       " 'Rolls-Royce to Ensure Compliance After Petrobras Bribery Report',\n",
       " 'AB InBev offers SABMiller $3 billion breakup fee',\n",
       " 'Barclays Executive Harrison Denies Knowledge of Libor Fixing',\n",
       " \"Standard Life hit by 'unprecedented' number of calls on pension freedoms\",\n",
       " 'Renewed AB InBev Bid for SABMiller Ups Stake in Beer Battle',\n",
       " \"CompaniesAB InBev signals it won't go hostile for SABMiller\",\n",
       " 'Meggitt Acquires Cobham Advanced Composites Unit For USD200 Million',\n",
       " 'LSE Group names former SEC head Schapiro non-executive director',\n",
       " 'IAG closes in on Aer Lingus with increased offer',\n",
       " 'US sanctions put Gazprom-Shell alliance plans in jeopardy',\n",
       " 'AstraZeneca Teams With Daiichi Sankyo To Sell Movantik In US',\n",
       " 'Analyst Views: Astrazeneca shares have seen recent volatility; what will 2015 ...',\n",
       " \"OCBC to Buy Barclay's Wealth Management Unit in Singapore, Hong Kong\",\n",
       " 'BP agrees to $18.7B penalty for oil spill; the tricky science behind ...',\n",
       " \"AstraZeneca's MedImmune Inks Licensing Deal With Omnis Pharmaceuticals\",\n",
       " 'NYSE owner ICE may gatecrash Deutsche Boerse-LSE merger',\n",
       " \"Aldi and Lidl expansion plans speed ahead as Tesco, Sainsbury's, Morrisons ...\",\n",
       " 'Compass Group says positive for year ahead',\n",
       " 'Pearson expects to return to growth this year',\n",
       " 'Rolls-Royce Wins $9.2 Billion Order From Emirates Airline',\n",
       " \"Unilever head's resignation sparks spinoff talk\",\n",
       " 'AstraZeneca wins US approval for longer use of blood thinner',\n",
       " 'BAE Systems cuts earnings target for 2015 and 370 jobs',\n",
       " 'Morrisons and Debenhams surprise City with Christmas bounce back',\n",
       " \"Whitbread to hike prices to offset 'substantial' national living wage bill\",\n",
       " 'DBS, Julius Baer emerge as potential bidders for Barclays Asia wealth unit ...',\n",
       " 'CompaniesCar insurer Hastings Group driving Â£180m IPO',\n",
       " 'GlaxoSmithKline starts hunt for successor to CEO Witty',\n",
       " \"National Grid's pretax profit rises 15 percent\",\n",
       " \"Britain's FTSE steadies, supported by Dixons Carphone\",\n",
       " \"CRH's concrete bid for Holcim Lafarge assets\",\n",
       " \"UK's Morrisons in talks to sell convenience stores - source\",\n",
       " 'HSBC keeps headquarters in London, rejects move to Hong Kong',\n",
       " 'Shell share price: Standard Life announce position against BG acquisition',\n",
       " 'EU regulators clear $100 billion-plus AB InBev, SABMiller deal',\n",
       " 'Secretive Barclays deal involved Qatari clients',\n",
       " 'British American Tobacco first-half sales hurt by currency moves',\n",
       " 'European shares plunge, roiled by BHP and oil; hopes turn to ECB',\n",
       " 'Tullow Oil eyes lower earnings as output falls',\n",
       " 'U.K. Stocks Little Changed Near Record as Barclays, Shell Fall',\n",
       " 'BG Group ships first LNG From Queensland Curtis',\n",
       " 'Trading ExpertBROKER RECOMMENDATIONSAnalysts mostly negative on Aberdeen but some see value',\n",
       " 'MarketsUBS, Goldman Sachs cut metals forecasts',\n",
       " 'CompaniesKingfisher bid for Mr Bricolage runs into trouble',\n",
       " 'CompaniesUK government lines up Â£2bn Lloyds retail share sale',\n",
       " 'UPDATE 1-AstraZeneca buys ZS Pharma for $2.7 billion, pips Actelion',\n",
       " \"UPDATE 3-Auto Trader shares leap in UK's biggest private equity-backed listing\",\n",
       " 'Standard Chartered Will Close Equity Sales and Research Business',\n",
       " 'CompaniesNational Grid lines up sale of gas business',\n",
       " '2 Turnaround Buys For 2016? BHP Billiton plc And Home Retail Group Plc',\n",
       " 'Prudential knocked after investors withdraw Â£3.9bn from M&G',\n",
       " \"US walrus protections hit Shell's Arctic drilling plan\",\n",
       " 'Severn Trent Profit Offsets Interest Rate Swap Losses',\n",
       " 'CompaniesTullow says gas exports at key field disrupted',\n",
       " 'AstraZeneca bags another cancer drug deal, this time with Inovio',\n",
       " 'Tesco, Asda sales fall as march of the discounters continues-Kantar',\n",
       " \"We'd support HSBC leaving London, says Standard Life\",\n",
       " 'Severn Trent profit up as customer complaints fall',\n",
       " 'US dollar wipes out sales gains for SABMiller',\n",
       " 'AstraZeneca digs into precision medicine with lung, heart deals',\n",
       " 'Lloyds Banking Group to cut 640 jobs and close 23 branches',\n",
       " \"London Stock Exchange Group's quarterly revenue rises 12 percent\",\n",
       " 'News FeedFTSE 100 movers: LSE surges as ICE says mulling offer; Ashtead and Barclays tank',\n",
       " 'Dixons Carphone Profit Beats Forecast in First Year Since Merger',\n",
       " 'PRESS: HSBC Chairman Hints Bank May Retain UK Domicile - Tel',\n",
       " 'Associated British Foods Profit Hit by Strong Sterling, Tough Sugar Business',\n",
       " 'Former Schroders trader sentenced to 2 years in prison',\n",
       " 'GSK and Novartis complete deals to reshape both drugmakers',\n",
       " 'Barclays Names Mike Bagguley as Chief Operating Officer of Investment Bank',\n",
       " 'BHP Billiton share price: Brazil to sue Samarco for Â£3.5bn',\n",
       " \"Should you buy Associated British Foods plc, Great Portland Estates plc and Dunelm Group plc following today's news?\",\n",
       " 'Barclays hit with record fine as six banks settle forex scandal',\n",
       " 'UK Serious Fraud Office Seeks Retrial of Two Former Barclays Libor Traders',\n",
       " 'Cuadrilla files to delay application to frack in Lancashire',\n",
       " 'GlaxoSmithKline hails progress with lung disease treatment',\n",
       " 'Morrisons escapes FTSE relegation',\n",
       " \"ITV Acquires 'Poldark' Production Company Mammoth Screen\",\n",
       " \"RPT-UPDATE 2-Former Jefferies trader Litvak's conviction overturned\",\n",
       " 'Tesco Sales Deteriorate Ahead of Crucial Christmas Period',\n",
       " 'Barclays, Credit Suisse strike record deals with SEC, NY over dark pools',\n",
       " 'Tesco sells Blinkbox and broadband service to TalkTalk',\n",
       " \"Hammerson, JV Partner secure ownership of Ireland's Dundrum - Quick Facts\",\n",
       " 'UPDATE 1-Berkshire applies to boost Wells Fargo stake above 10 pct',\n",
       " 'Travis Perkins Hikes Dividend 20% As Profit And Revenue Rise',\n",
       " 'GSK reveals strong trial results for shingles drug',\n",
       " 'Experian says receives class actions related to T-Mobile breach',\n",
       " 'Shell shells out over Nigeria oil spill',\n",
       " 'Tesco to pay $12 million to settle US lawsuit',\n",
       " 'FTSE 100 moves lower, but HSBC outperforms',\n",
       " \"Meggitt share price tumbles as profit falls in 'challenging year'\",\n",
       " \"BG Group Still Happy With Shell's $70 Billion Offer\",\n",
       " 'AB InBev attacks SABMiller bid rebuffal',\n",
       " 'Aberdeen to raise 100 mln stg to seed new funds',\n",
       " 'Sales boost for new Morrisons chief David Potts as Tesco turnaround stalls',\n",
       " 'The Latest: Buffett says cuts will pay off at Kraft Heinz',\n",
       " 'Glencore Studies Possible IPO for Agricultural Trading Business',\n",
       " \"OCBC to Buy Barclay's Wealth Management Unit in Singapore, Hong Kong\",\n",
       " 'Gabon Considering Back Tax Penalties Against Royal Dutch Shell',\n",
       " 'Barclays picks ex-JPMorgan exec Staley as new CEO, to start Dec 1',\n",
       " \"Insight hires Aviva's David Hillier for multi-asset team\",\n",
       " 'Struggling Morrisons pays out Â£3m to sacked boss Dalton Philips â€“ with more to ...',\n",
       " 'Government to sell off remaining 14% stake in Royal Mail',\n",
       " \"United Utilities' full-year underlying operating profit falls 9 percent\",\n",
       " 'Tesco to close remaining Homeplus stores in UK',\n",
       " \"CEO of Berkshire's Gen Re to retire; Jain's role grows\",\n",
       " \"Morning Agenda: Shire's Deal for NPS\",\n",
       " 'WPP boosts sales despite cautious clients',\n",
       " \"Britain's FTSE rises, led up by Glencore surge\",\n",
       " 'Brewer AB InBev seeks $275 bln tie-up with SABMiller',\n",
       " 'Tesco shareholders back ITV head for chairman',\n",
       " 'Kingfisher takeover of Mr Bricolage could hit a brick wall',\n",
       " 'Old Mutual First-Quarter Sales Up 18% Buoyed by Emerging Markets',\n",
       " 'UPDATE 2-Prudential will see strong first-half earnings, outgoing CEO says',\n",
       " 'Shell challenges Exxon dominance with 47 billion-pound bid for BG',\n",
       " \"RSA Insurance Hires Towergate's Egan as Chief Financial Officer\",\n",
       " 'GlaxoSmithKline heart drug flops in study, shingles vaccine on track',\n",
       " 'ICE Said to Start Lining Up Financing for LSE Bidding War',\n",
       " 'FTSE rallies off three-month low, boosted by StanChart, Sainsbury',\n",
       " 'Lloyds sells Irish loan portfolio for Â£827m',\n",
       " 'EasyJet Dismisses Lufthansa Low-Cost Plan in Contest for Germany',\n",
       " 'Renewed AB InBev Bid for SABMiller Ups Stake in Beer Battle',\n",
       " \"BHP's iron ore outlook holds little cheer for small miners\",\n",
       " 'Shire share price under pressure after $32bn Baxalta deal',\n",
       " 'PRESS: Pearson Set To Announce Sale Of Financial Times - Reuters',\n",
       " 'Citigroup to Sell OneMain to Springleaf for $4.25 Billion',\n",
       " 'Five years after BP oil spill, some Gulf oystermen are losing hope',\n",
       " 'Walmart still selling Maryland T-shirts featuring the outline of Massachusetts',\n",
       " 'GlaxoSmithKline beats profit forecasts despite Advair hit, lower margins',\n",
       " 'Market Report: Eight-day rally ends for FTSE 100 and Standard Chartered',\n",
       " 'GlaxoSmithKline set to complete $20 billion Novartis asset swap next week',\n",
       " \"Tesco's Sales Pickup Isn't Enough\",\n",
       " 'RBS chairman admits surprise at size of regulatory penalties',\n",
       " 'Persimmon sells 17% more houses in 2014',\n",
       " \"CRH's concrete bid for Holcim Lafarge assets\",\n",
       " \"ITV strike: Broadcaster's revenue soars but staff walkout for a piece of the action\",\n",
       " 'McEwan will be nursing RBS through more struggles yet',\n",
       " 'Arm profits and sales up as shift away from mobile gains pace',\n",
       " 'Teva First-Quarter Net Rises 11% Amid Mylan Takeover Battle',\n",
       " 'Land Securities warns of rent rises',\n",
       " 'Glencore shares hit 3-month high after refinancing key credit line',\n",
       " 'RBS becomes a shadow of its former self',\n",
       " \"Sir Ken Morrison has taken a Â£6m stake in rival Sainsbury's\",\n",
       " 'Barclays Bonds Rise as Lender Cuts Dividends to Shore Up Capital',\n",
       " 'UPDATE 1-Pearson expects to grow this year after solid end to 2014',\n",
       " 'AstraZeneca Acquires ZS Pharma in $2.7 Billion Deal',\n",
       " 'Market Report: Aviva tops the market as traders approve of its choice of Friends',\n",
       " 'Admiral and Schroders lift FTSE with profits surge',\n",
       " \"Tesco closes in on new chairman with Dixons Carphone's John Allan in the frame\",\n",
       " \"UK's FTSE hits new record highs as CRH climbs\",\n",
       " 'GlaxoSmithKline set to complete $20 billion Novartis asset swap next week',\n",
       " 'Shell share price: Standard Life announce position against BG acquisition',\n",
       " \"GE to Sell Majority Stake in Bank BPH's Core Bank to Alior Bank\",\n",
       " 'U.K. Stocks Resume Gains to Rally to Record; CRH, Tullow Climb',\n",
       " 'MarketsMoneysupermarket slides 11% on Barclays Brexit warning',\n",
       " 'Can Standard Chartered PLC, BP plc & Burberry Group plc Keep Charging?',\n",
       " \"Can Christmas Save Sainsbury's plc And Tesco plc?\",\n",
       " 'HSBC Says Unit to Book $585 Million Charge on Settlement',\n",
       " 'FTSE boosted by Dixons Carphone with Fed in focus',\n",
       " 'Standard Life impresses as fee-based products offset annuities slump',\n",
       " \"CompaniesHome Retail trims gains but is considered 'in play'\",\n",
       " 'Intertek Group announces strategic update outlining its plan',\n",
       " \"Valeant CEO Pledges to Heed Critics After `Painful' Experience\",\n",
       " 'Industry NewsHammerson joint venture buys Dublin loan portfolio',\n",
       " 'AstraZeneca sells Caprelsa rights to Sanofi unit',\n",
       " 'Greenpeace Protest of BP Forces British Museum to Close',\n",
       " 'L&G fund arm, Nikko Asset Management sign bond fund distribution deal',\n",
       " \"UPDATE 2-Pricey beers lift SABMiller's quarterly underlying sales\",\n",
       " \"Insight - Britain's bank tax jump threatens to push HSBC, StanChart to new home\",\n",
       " 'Royal Mail chairman Donald Brydon set to step down',\n",
       " 'Teva: FDA Approves Generic Version of AstraZeneca Heartburn Drug',\n",
       " 'Prudential shares halted in Hong Kong pending announcement',\n",
       " 'CompaniesPound to boost ABF for now, but mixed impact ahead',\n",
       " 'EU drops Shell, BP, Statoil from ethanol benchmark investigation',\n",
       " 'AstraZeneca chases Acerta to secure next cancer drug winner',\n",
       " 'FDA panel backs safety updates for AstraZeneca, Takeda drugs',\n",
       " \"Barclays PLC & Lloyds Banking Group PLC Are The 2 Banks I'd Buy Today\",\n",
       " 'BBCN Bancorp to buy Wilshire Bancorp in $1 bln deal',\n",
       " 'Payout from BP oil spill settlement tops $5 billion',\n",
       " \"RSA Insurance Hires Towergate's Egan as Chief Financial Officer\",\n",
       " 'Berkshire Bought Apple Stake at $99.49 a Share, Filing Shows',\n",
       " \"Sainsbury's and Glencore give FTSE a three-digit lift - London Report\",\n",
       " 'BHP Billiton drags FTSE lower after slashing dividend',\n",
       " 'Glencore sees Tripoli-based NOC as sole legal seller of Libyan oil',\n",
       " 'Unilever returns to Cuba in joint venture with state',\n",
       " \"Deals Help Shrink Glencore's Mountain of Debt\",\n",
       " \"Aldi and Lidl expansion plans speed ahead as Tesco, Sainsbury's, Morrisons ...\",\n",
       " \"British taxpayers' stake in Lloyds falls below 22 percent\",\n",
       " 'Fears Primark growth is starting to falter',\n",
       " 'U.K. Stocks Resume Gains to Rally to Record; CRH, Tullow Climb',\n",
       " 'Royal Bank of Scotland becomes Facebook customer',\n",
       " 'MOVES-Ex-shadow minister McClymont joins Aberdeen Asset Management',\n",
       " 'Are Aviva plc, Direct Line Insurance Group PLC And Admiral Group plc Set To Soar?',\n",
       " 'Morrisons and Debenhams surprise City with Christmas bounce back',\n",
       " 'FTSE ends lower on weaker miners, Tesco outperforms',\n",
       " 'CompaniesCoutts raids JPMorgan Chase for new CEO',\n",
       " \"Philippines' San Miguel says to partner with Kirin if it bids for SABMiller's ...\",\n",
       " 'Tesco share price down as grocer faces SFO investigation outcome',\n",
       " 'FTSE rallies off three-month low, boosted by StanChart, Sainsbury',\n",
       " \"Are ARM Holdings plc, Domino's Pizza Group plc and ASOS plc 3 must-have growth stocks?\",\n",
       " 'AstraZeneca share price: Acerta deal pays off with orphan drug status',\n",
       " 'Cost savings help Robinsons maker Britvic to first-half profit',\n",
       " 'CompaniesTesco sends supermarket shares to top of FTSE',\n",
       " 'Diageo, Heineken Exchange Emerging-Market Brewing Assets',\n",
       " 'Protesters gather in Seattle to block access to Shell oil rig',\n",
       " 'Passengers rise at EasyJet and Aer Lingus',\n",
       " 'Intertek profit up 16.1%; expects to meet forecast',\n",
       " 'Oil majors like Royal Dutch Shell, Chevron, BP fail to find reserves to counter ...',\n",
       " \"Tesco's boss knows which side his bread is buttered\",\n",
       " 'UPDATE 3-Ex-Barclays director accused by US of illegal tips to plumber',\n",
       " 'GSK hopes big clinical trial can breath new life into lung drug',\n",
       " 'UPDATE: Peter Long To Be Chairman Of Both Royal Mail And TUI AG',\n",
       " 'Standard Chartered CEO Peter Sands to Resign After Unrest at Bank',\n",
       " 'Industry NewsStrong results at Travis Perkins marred by plumbing impairment',\n",
       " 'Mongolia and Rio Tinto agree $5bn Oyu Tolgoi mine expansion',\n",
       " 'AstraZeneca to Buy ZS Pharma for $2.7 Billion',\n",
       " 'Aviva plans to up pay-out ratio, says too soon to judge Brexit impact',\n",
       " 'Reluctant shareholder George Osborne loses patience with RBS',\n",
       " 'Cuadrilla and protesters await Lancashire fracking decision',\n",
       " 'Currency causes full-year headaches for SABMiller',\n",
       " 'Beach holiday demand helps lift clouds for easyJet',\n",
       " 'ARM Holdings plc Partners With International Business Machines Corp. To Drive ...',\n",
       " 'NYSE owner ICE may gatecrash Deutsche Boerse-LSE merger',\n",
       " 'StanChart announces $5.1 billion capital-raising plan, posts Q3 loss',\n",
       " \"BT Group's third quarter revenues rise as restructure unveiled\",\n",
       " 'SSE share price: Peterhead station to supply voltage support to National Grid',\n",
       " \"Insurer Old Mutual picks Standard Bank's Hemphill as new CEO\",\n",
       " 'Berkshire seeks to boost its Wells Fargo stake above 10 percent',\n",
       " \"AstraZeneca's patent on asthma drug invalidated by US court\",\n",
       " 'Lloyds Bank Is Said to Face Potential Fine Over Handling of Insurance Complaints',\n",
       " 'Goodwin not to face Scottish prosecution over RBS',\n",
       " 'TOP NEWS: Barclays Profit Depressed By Foreign Exchange Provisions',\n",
       " \"RBS Pays $1.7 Billion to Scrap U.K. Treasury's Dividend Rights\",\n",
       " 'Glencore 2014 profit in line, takes $1.1 billion charge on commodity prices',\n",
       " 'Morrisons share price: Group trading director departs as management cull ...',\n",
       " 'Lloyds returns Â£13bn to UK taxpayer',\n",
       " 'Weir leads FTSE lower after oil price profits warning',\n",
       " 'Retail focus helps to shield Lloyds from banking chill',\n",
       " 'UPDATE 1-RBS raising $3.1 billion through issue of CoCo bonds',\n",
       " \"Retailers Kingfisher and Sports Direct rise in Britain's share index\",\n",
       " 'UPDATE 1-Rio Tinto to sell aluminium assets in $1 bln deal -paper',\n",
       " 'EasyJet attracts more passengers in June but still lags Ryanair',\n",
       " 'FastJet slams EasyJet founder Stelios for going public, is \"taking legal advice\" over letter about contractual ...',\n",
       " 'Barclays fined for anti-money-laundering failings',\n",
       " 'CORRECTED-Shire to buy Dyax for about $5.9 bln',\n",
       " 'BP, Statoil, to Withdraw Staff From Algeria Following Rocket Attack',\n",
       " 'ITV shares dip after update',\n",
       " 'Centrica extends gas deals with Gazprom, Statoil',\n",
       " 'Glencore shares enjoy bounce-back after Hong Kong-led surge',\n",
       " 'Ruling sets lower limit on potential fine for BP',\n",
       " 'Sports Direct Shares Tumble as Founder Ashley Sells Shares',\n",
       " 'Shell challenges Exxon dominance with 47 billion-pound bid for BG',\n",
       " 'Diageo receives reports from United Spirits on financial irregularities involving ...',\n",
       " 'Credit checker Experian reports fall in full-year profit',\n",
       " \"Insurer Old Mutual picks Standard Bank's Hemphill as new CEO\",\n",
       " 'Barclays reports 8% fall in annual profits',\n",
       " 'Teva: FDA Approves Generic Version of AstraZeneca Heartburn Drug',\n",
       " 'Balfour Beatty plc Set To Reinstate Dividend (And Rival National Grid plc And Centrica PLC Once More?)',\n",
       " 'Chipotle Sales Plunge as Troubled Chain Gets Federal Subpoena',\n",
       " 'Shell offers 50 percent premium to buy BG for $70 billion',\n",
       " \"Morrisons share price: Founder's son to assist CEO with turnaround\",\n",
       " 'UPDATE 1-EU regulator backs approval for GSK injectable asthma drug',\n",
       " 'Sainsbury sells unit to LloydsPharmacy',\n",
       " 'Former Barclays traders stand trial in Libor case',\n",
       " 'Tesco share price jumps as Q3 sales top estimates',\n",
       " 'South Africa approves SABMiller, Coke bottling deal with conditions',\n",
       " 'CompaniesActelion shares hit record on Shire takeover talk',\n",
       " 'UPDATE: Aggreko Interim Profit Drops As It Undertakes Restructuring',\n",
       " \"HSBC, Standard Chartered Lead Asia Bank Rout as U.K. Votes 'Out'\",\n",
       " \"Standard Chartered's Shares Plunge 7% After Fitch Downgrade\",\n",
       " \"Standard Chartered Misses Estimates in Sands's Last Results\",\n",
       " 'HSBC shakes up board with two new business chiefs, three departures',\n",
       " \"Britain's FTSE slips from 2016 high as Sky falls\",\n",
       " 'BHP Billiton to lower copper production costs',\n",
       " 'Glencore Sells Shares to Raise $2.5 Billion and Reduce Debt',\n",
       " 'CompaniesSmith & Nephew flops 6.8% to foot of FTSE 100',\n",
       " 'Philip Morris, BAT Sue Over Law Taking Branding Off Packs',\n",
       " \"Asahi could be about to snap up more of SABMiller's beers ahead of AB InBev sale\",\n",
       " \"Buffett's Company Reports 37 Percent Drop in 2Q Earnings\",\n",
       " 'BP Judge Urged to Impose $11.7 Billion-Plus Spill Fine',\n",
       " 'RBI surprises Street; Sensex pares gains after hitting mount 30k',\n",
       " 'Royal Mail needs to deliver on modernisation plans, post haste',\n",
       " 'Barclays CEO poaches risk head from JP Morgan',\n",
       " \"Sainsbury's, Asda, Tesco and Morrisons will all cut petrol prices as oil falls ...\",\n",
       " 'Clydesdale Bank H1 profits weighed down by PPI charge',\n",
       " 'UPDATE 1-AstraZeneca sells rare cancer drug to Sanofi for up to $300 mln',\n",
       " 'CompaniesDeutsche taps ex-StanChart executive for audit role',\n",
       " 'Cuadrilla chief Francis Egan: Scaremongering fracking opponents make me angry',\n",
       " 'Investors Remain Skeptical About Shell-BG Deal',\n",
       " 'Amazon to attack UK grocery market with Morrisons deal',\n",
       " 'Glencore tells investors it is on track to reduce debt: Barclays',\n",
       " \"UPDATE 3-Barclays fined for lax crime checks in 'deal of century'\",\n",
       " 'Prudential hit by withdrawals from M&G investment arm',\n",
       " 'Old Mutual faces backlash over Â£9m chief exec payout plan',\n",
       " 'Barclays backs new iPhone and Android app that lets users send each other money using a bitcoin network',\n",
       " 'Diageo Sells Ryder Cup Venue Gleneagles Hotel to Ennismore Group',\n",
       " 'Lloyds to cut 945 jobs as part of three-year restructuring strategy',\n",
       " 'CommentOpening Quote: Tesco; Premier Foods jilted; FCA on IPOs',\n",
       " 'Investor Woodford calls for outsider to head GlaxoSmithKline',\n",
       " 'Randgold Resources third quarter profit slips despite record production',\n",
       " 'News FeedFTSE 100 movers: LSE surges as ICE says mulling offer; Ashtead and Barclays tank',\n",
       " 'Goldman Sachs, Barclays, HSBC downplay Brexit threat',\n",
       " 'UPDATE 1-UK to start selling remaining Royal Mail shares',\n",
       " 'Companies Thetrainline.com announces arrival of London IPO',\n",
       " 'Hargreaves weathers torrid ISA season and Brexit fears',\n",
       " 'PRESS: UK Government Would Oppose Any BP Takeover - FT',\n",
       " \"Britain's FTSE gains, Land Securities up after dividend hike\",\n",
       " \"AstraZeneca's MedImmune Inks Licensing Deal With Omnis Pharmaceuticals\",\n",
       " 'What It Takes for Royal Dutch Shell to Break Even',\n",
       " 'Industry NewsPetrofac secures $250m North Sea contract',\n",
       " 'Lloyds Will Cut 640 Jobs, Close 23 Branches as Part of 2014 Plan',\n",
       " 'Royal Mail turnaround proving expensive in tough UK market',\n",
       " 'IHG agrees $938 sale of InterContinental Hong Kong',\n",
       " 'Barclays Said to Shrink Bonus Pool to Less Than 2 Billion Pounds',\n",
       " 'Shire Offers to Buy Baxalta for $30 Billion',\n",
       " 'Crown Castle buys Tower Development Corp for $461 million',\n",
       " 'LONDON MORNING BRIEFING: HSBC And Standard Chartered Shares Rise',\n",
       " \"Norway's sovereign wealth fund says backed Shell CEO's pay\",\n",
       " 'MarketsProperty stocks under pressure after Standard Life fund move',\n",
       " \"UPDATE 5-SABMiller rejects AB InBev's $104 bln takeover approach\",\n",
       " \"BP's fine for 2010 oil spill capped at $13.7 billion\",\n",
       " \"Oilfield services firm Petrofac's debt shoots up 50 per cent\",\n",
       " 'Eli Lilly & Co. (LLY) Has Broken Out To A New High On AstraZeneca Collaboration',\n",
       " 'FTSE 100 movers: BG Group leads the charge as resource stocks jump',\n",
       " \"Spain's CaixaBank Expects To Close Deal For Banco BPI\",\n",
       " 'Royal Mail share price: Postal service issues trading update',\n",
       " 'Barclays Said to Cut 150 at Investment Bank as McCormick Departs',\n",
       " 'Glencore fight back over debt fears lifts shares',\n",
       " \"SAB's Chairman Digs In With Board Divided on InBev Offer\",\n",
       " 'Britain facing winter of blackouts as National Grid warns of tightest power ...',\n",
       " 'AB InBev approaches SABMiller to explore $250bn tie-up',\n",
       " 'Barclays launches first 100% mortgages since crisis',\n",
       " 'Germanwings disaster will not affect image of budget air travel - easyJet',\n",
       " 'Nine banks including Barclays, Citi, agree to pay $2 billion to settle forex ...',\n",
       " 'After Barclays and Bank of America, Citigroup has blockchain in sight',\n",
       " 'Early victory for new CEO as Morrisons beats forecasts',\n",
       " 'Barclays said to be cutting 150 investment bank jobs',\n",
       " 'Shell challenges Exxon dominance with 47 billion-pound bid for BG',\n",
       " 'Should You Buy Jumbo Yielders British American Tobacco plc, Centrica PLC & John Wood Group PLC?',\n",
       " \"London Stock Exchange seals Â£22 billion merger with Germany's Deutsche BÃ¶rse\",\n",
       " 'Unilever Finds Growth More Elusive as Sales Meet Estimates',\n",
       " 'Primark racks up a happy Christmas after strong sales',\n",
       " \"New York says Barclays not cooperating in 'dark pool' probe\",\n",
       " 'FDA approves NPS drug, in move validating Shire takeover deal',\n",
       " 'Royal Mail share price edges lower as group raises stamp price',\n",
       " \"Sainsbury's and Glencore give FTSE a three-digit lift - London Report\",\n",
       " \"Tesco share price dips as Blinkbox Books closes ending supermarket's digital ...\",\n",
       " 'Tata Steel working with StanChart for UK unit sale - source',\n",
       " 'Diageo offloads major wine interests',\n",
       " 'Glencore Agrees to Sell Minority Stake in Agriculture Business',\n",
       " 'Diageo sells wine businesses for 320m pounds',\n",
       " 'Breakingviews: IAG can pay more for Aer Lingus',\n",
       " 'UPDATE 1-UK government would oppose any takeover of BP -FT',\n",
       " 'Australian mining slowdown hits Aggreko',\n",
       " \"The sustainability of Royal Dutch Shell's dividend\",\n",
       " 'CompaniesCoutts raids JPMorgan Chase for new CEO',\n",
       " 'Easyjet traffic hit by air traffic controller strikes and terrorism',\n",
       " \"Dixons Carphone says cyber attack may have exposed customers' data\",\n",
       " \"Stars aligned' for AB InBev's megabrew merger plan\",\n",
       " \"AstraZeneca's Good Deal Turns Bad\",\n",
       " \"Tesco share price dips as Blinkbox Books closes ending supermarket's digital ...\",\n",
       " \"Aldi and Lidl expansion plans speed ahead as Tesco, Sainsbury's, Morrisons ...\",\n",
       " 'Primark plots expansion in US and Europe',\n",
       " 'BP shares tumble after $2.2bn fourth-quarter loss',\n",
       " 'Is Trouble Brewing At Legal & General Group Plc And Aviva plc?',\n",
       " \"Berkshire Hathaway's 4Q profit declines 17 percent\",\n",
       " \"Ex-Barclays traders sentenced to up to six years' jail in Libor case\",\n",
       " 'BP slashes capital spending by 20%',\n",
       " \"Shell's profits hit by further slide in oil prices\",\n",
       " 'The Coca-Cola Company and Coca-Cola FEMSA to Acquire AdeS Soy-Based Beverage Business From Unilever',\n",
       " \"Stars aligned' for AB InBev's megabrew merger plan\",\n",
       " 'Tesco sells half of stake in ecommerce site Lazada to Alibaba for Â£90m',\n",
       " 'Lloyds is cutting more than 600 jobs and shutting 21 branches',\n",
       " 'Can BP Restore Its Lost Luster?',\n",
       " \"Britain's FTSE steadies below record high, BHP gains\",\n",
       " \"Insight - Britain's bank tax jump threatens to push HSBC, StanChart to new home\",\n",
       " 'Can Standard Chartered PLC, BP plc & Burberry Group plc Keep Charging?',\n",
       " 'Tesco Versus Sainsbury: Weight-Watcher vs. Bodybuilder',\n",
       " 'Stakes High for AstraZeneca Heart Drug Facing Tough Competition',\n",
       " 'UPDATE 1-Cypress Semiconductor offers to buy Integrated Silicon Solution',\n",
       " 'Breakingviews: IAG can pay more for Aer Lingus',\n",
       " 'InterContinental Hotels denies exploring sale or merger',\n",
       " 'Peroni and Grolsch put up for sale as AB InBev plans acquisition of SABMiller',\n",
       " 'Hargreaves Lansdown says first-quarter assets hit by stock market flux',\n",
       " 'Aviva Expects 1500 Jobs Cuts from Friends Life Deal',\n",
       " 'CompaniesThiam received Â£5m pay packet for final months at Prudential',\n",
       " \"UPDATE 1-BHP Billiton's credit ratings fragile in FY16, agencies warn\",\n",
       " 'Royal Dutch Shell Posts Rise in Earnings Despite Lower Oil Prices',\n",
       " 'Shell to Go Ahead With Petrochemical Plant in Pennsylvania',\n",
       " 'AB InBev approaches SABMiller to explore $250bn tie-up',\n",
       " 'Sugar tax spurs Pepsi owner Britvic to change drinks recipes by 2020',\n",
       " 'Barclays poaches new chief operating officer Paul Compton from JP Morgan Chase',\n",
       " 'CompaniesPhilips transfers $900m of pension obligations',\n",
       " 'Barclays in $13.75 million US settlement over mutual funds',\n",
       " 'Standard Life stands tall amid pension reform',\n",
       " 'AstraZeneca to Pay Inovio Up to $700 Million for Cancer Drug',\n",
       " 'Shire to buy NPS for $5.2 billion to boost rare disease drugs',\n",
       " 'Shell profit rises as company resist oil slump',\n",
       " 'FTSE ends higher; 3i Group leads after strong earnings',\n",
       " 'FTSE falls to 3-month low on Greek debt concerns, easyJet skids',\n",
       " 'Companies Severn Trent expects costs hit from inflation',\n",
       " 'Glencore blames rivals for creating metals glut',\n",
       " 'U.K. Shares Extend Rebound for Second Day as EasyJet Surges',\n",
       " 'PRESS: Pearson Set To Announce Sale Of Financial Times - Reuters',\n",
       " 'Tesco shares jump 6% after Christmas sales beat expectations',\n",
       " 'CompaniesNew Aggreko CEO to reshape business, strip costs',\n",
       " 'Verizon and AT&T accused of hurting rivals',\n",
       " 'Exclusive - Britain targets sale of half its RBS stake in two years: sources',\n",
       " 'U.S. Debt Lures Schroders as ECB Depresses Rates',\n",
       " 'Saudi Aramco, Shell plan to break up Motiva, divide up assets',\n",
       " 'InterContinental Hotels Denies Reports of Starwood Merger Talks',\n",
       " 'Standard Chartered faces fresh claims of Iran sanctions violations',\n",
       " 'Shire in talks with Baxalta shareholders',\n",
       " 'SSE to Shut Coal-Fired Plant Amid Shift to Gas, Renewable Energy',\n",
       " \"Sharm el Sheikh: EasyJet axes all flights to Egypt's leading holiday resort\",\n",
       " \"UPDATE 1-Norway's Statoil shakes up top management, replaces CFO\",\n",
       " 'Relief for Lewis as Tesco sees sales grow for first time in a year',\n",
       " 'Clydesdale and Yorkshire moves closer to independence',\n",
       " 'European stocks hover near 3-week low, Dialog and BHP slump',\n",
       " 'Dave Lewis admits long road ahead for Tesco recovery',\n",
       " 'Tesco leads FTSE higher on Clubcard bid reports',\n",
       " \"Why I'd Buy ARM Holdings plc And BHP Billiton plc Today\",\n",
       " 'Admiral Group posts decline in 2014 earnings',\n",
       " \"Britain's FTSE bounces back, Mondi and Barratt lead\",\n",
       " 'UPDATE 3-Barclays sells Italian branches to Mediobanca at a loss',\n",
       " 'Morrisons finance chief to fill gap as CEO leaves early',\n",
       " 'Sophos aims to raise $100m in London IPO',\n",
       " 'UK chip designer ARM hits a high after iPhone 6 boost',\n",
       " 'Wolseley share price: Group updates on quarterly performance',\n",
       " 'Rio Tinto announces long-delayed expansion of Mongolia mine',\n",
       " 'Shire rises as dry eye treatment sails through trial',\n",
       " \"Doubts grow over GlaxoSmithKline's $6 bln capital return plan\",\n",
       " 'Aviva weighs cash handout after beating profit forecast',\n",
       " 'Shropshire and Mid Wales trains to be hit again in new strike by Arriva drivers',\n",
       " \"Greene King's third quarter sales boosted by festive season\",\n",
       " 'Big account wins keep ad group WPP at front of pack',\n",
       " 'Worldpay readies for Â£6bn London float',\n",
       " 'CEOs of BPM, UBI meet Italy econ minister as M&A talk heats up',\n",
       " 'Should You Buy Jumbo Yielders British American Tobacco plc, Centrica PLC & John Wood Group PLC?',\n",
       " 'Dyson Wants to Create a Hair Dryer Revolution',\n",
       " 'Royal Dutch Shell to Buy BG Group for Nearly $70 Billion',\n",
       " \"EXCLUSIVE-BP, China's CNPC to unveil oil alliance - sources\",\n",
       " 'CORRECTED-Shire to buy Dyax for about $5.9 bln',\n",
       " 'BP set to cut hundreds of jobs at North Sea operations',\n",
       " \"BP's head of exploration Richard Herbert departs\",\n",
       " 'UPDATE 1-Nomura, RBS must pay $806 mln in mortgage bond case-US judge',\n",
       " \"BRIEF-Legal & General's retirement business books 4 billion stg H1 sales\",\n",
       " 'CompaniesRoyal Mail swerves new pricing regulations',\n",
       " 'JC Penney Cuts Pension Plan Obligation',\n",
       " \"Domino's Pizza worker sacked after crude slur aimed at customer on order screen\",\n",
       " 'UPDATE 2-AB InBev launches SAB bid, to sell MillerCoors stake',\n",
       " 'Sales boost for new Morrisons chief David Potts as Tesco turnaround stalls',\n",
       " 'France raises concerns over proposed LSE-Deutsche Boerse deal',\n",
       " \"Genel Shares Plunge After Tony Hayward's Oil Explorer Cuts Crude Reserves at Core Field\",\n",
       " 'LSE-Deutsche Boerse merger would signal end to exchange mega-deals',\n",
       " 'Sports Direct boss Mike Ashley summoned to Westminster for questioning over the treatment of workers',\n",
       " ...]"
      ]
     },
     "execution_count": 14,
     "metadata": {},
     "output_type": "execute_result"
    }
   ],
   "source": [
    "train_title"
   ]
  },
  {
   "cell_type": "markdown",
   "metadata": {
    "colab_type": "text",
    "id": "ice-56oL7kUk"
   },
   "source": [
    "### 4) Text Preprocessing"
   ]
  },
  {
   "cell_type": "code",
   "execution_count": 15,
   "metadata": {
    "colab": {},
    "colab_type": "code",
    "id": "naz2XtV-7kUl"
   },
   "outputs": [],
   "source": [
    "# Applying the NLP_pre_processing function \n",
    "\n",
    "#Train\n",
    "documents_train = NLP_pre_processing(train_title)\n",
    "#Test\n",
    "documents_test = NLP_pre_processing(test_title)"
   ]
  },
  {
   "cell_type": "code",
   "execution_count": 24,
   "metadata": {},
   "outputs": [
    {
     "data": {
      "text/plain": [
       "1142"
      ]
     },
     "execution_count": 24,
     "metadata": {},
     "output_type": "execute_result"
    }
   ],
   "source": [
    "len(documents_train)"
   ]
  },
  {
   "cell_type": "code",
   "execution_count": 23,
   "metadata": {},
   "outputs": [
    {
     "data": {
      "text/plain": [
       "491"
      ]
     },
     "execution_count": 23,
     "metadata": {},
     "output_type": "execute_result"
    }
   ],
   "source": [
    "len(documents_test)"
   ]
  },
  {
   "cell_type": "markdown",
   "metadata": {
    "colab_type": "text",
    "id": "XRDZ5kmo7kUt"
   },
   "source": [
    "### 5) Converting Text to Numbers "
   ]
  },
  {
   "cell_type": "markdown",
   "metadata": {
    "colab_type": "text",
    "id": "brjphp-67kUw"
   },
   "source": [
    "#### Dictionary Preparation"
   ]
  },
  {
   "cell_type": "code",
   "execution_count": 18,
   "metadata": {
    "colab": {},
    "colab_type": "code",
    "id": "ZHUtQz0n7kUz"
   },
   "outputs": [],
   "source": [
    "# Import dictionary WORDS from nltk\n",
    "from nltk.corpus import words"
   ]
  },
  {
   "cell_type": "code",
   "execution_count": 19,
   "metadata": {
    "colab": {},
    "colab_type": "code",
    "id": "YpMWgF227kU7"
   },
   "outputs": [],
   "source": [
    "# Convert dictionary to set and add it into\" vocab \"\n",
    "vocab = set(words.words())"
   ]
  },
  {
   "cell_type": "markdown",
   "metadata": {
    "colab_type": "text",
    "id": "xQ8HOJtS7kVD"
   },
   "source": [
    "#### Bag of Words"
   ]
  },
  {
   "cell_type": "code",
   "execution_count": 20,
   "metadata": {
    "colab": {},
    "colab_type": "code",
    "id": "cJTwKRpG7kVF"
   },
   "outputs": [],
   "source": [
    "# Import CountVectorizer\n",
    "from sklearn.feature_extraction.text import CountVectorizer"
   ]
  },
  {
   "cell_type": "code",
   "execution_count": 21,
   "metadata": {
    "colab": {},
    "colab_type": "code",
    "id": "lZgocyyR7kVL"
   },
   "outputs": [],
   "source": [
    "#Train\n",
    "vectorizer_train = CountVectorizer(max_features=1500, vocabulary=test_dict, min_df=5, max_df=0.7, stop_words=stopwords.words('english'))  \n",
    "train_title = vectorizer_train.fit_transform(documents_train).toarray()\n",
    "\n",
    "#vocabulary= full_dict"
   ]
  },
  {
   "cell_type": "code",
   "execution_count": 22,
   "metadata": {
    "colab": {},
    "colab_type": "code",
    "id": "5Sot0AKR7kVU"
   },
   "outputs": [],
   "source": [
    "#Test\n",
    "vectorizer_test = CountVectorizer(max_features=1500, vocabulary=test_dict, min_df=5, max_df=0.7, stop_words=stopwords.words('english'))  \n",
    "test_title = vectorizer_test.fit_transform(documents_test).toarray()\n",
    "\n",
    "#documents_test"
   ]
  },
  {
   "cell_type": "code",
   "execution_count": null,
   "metadata": {},
   "outputs": [],
   "source": [
    "train_title"
   ]
  },
  {
   "cell_type": "code",
   "execution_count": null,
   "metadata": {},
   "outputs": [],
   "source": []
  },
  {
   "cell_type": "markdown",
   "metadata": {
    "colab_type": "text",
    "id": "9qGdoGj07kVc"
   },
   "source": [
    "#### Finding TFIDF"
   ]
  },
  {
   "cell_type": "code",
   "execution_count": 64,
   "metadata": {
    "colab": {},
    "colab_type": "code",
    "id": "Os7b1tIl7kVf"
   },
   "outputs": [],
   "source": [
    "# Import TfidfTransformer\n",
    "from sklearn.feature_extraction.text import TfidfTransformer"
   ]
  },
  {
   "cell_type": "code",
   "execution_count": 65,
   "metadata": {
    "colab": {},
    "colab_type": "code",
    "id": "fOTq3dcG7kVj"
   },
   "outputs": [],
   "source": [
    "#Train\n",
    "tfidfconverter_train = TfidfTransformer()\n",
    "train_title = tfidfconverter_train.fit_transform(train_title).toarray()"
   ]
  },
  {
   "cell_type": "code",
   "execution_count": 66,
   "metadata": {
    "colab": {},
    "colab_type": "code",
    "id": "KblrVRqv7kVp"
   },
   "outputs": [],
   "source": [
    "#Test\n",
    "tfidfconverter_test = TfidfTransformer()\n",
    "test_title = tfidfconverter_test.fit_transform(test_title).toarray()"
   ]
  },
  {
   "cell_type": "markdown",
   "metadata": {
    "colab_type": "text",
    "id": "-JrWHcbM7kVt"
   },
   "source": [
    "### 6) Training and Testing Sets"
   ]
  },
  {
   "cell_type": "code",
   "execution_count": 67,
   "metadata": {
    "colab": {},
    "colab_type": "code",
    "id": "rINQuLGD7kVv"
   },
   "outputs": [],
   "source": [
    "# Import train_test_split\n",
    "from sklearn.model_selection import train_test_split  "
   ]
  },
  {
   "cell_type": "code",
   "execution_count": 68,
   "metadata": {
    "colab": {},
    "colab_type": "code",
    "id": "-yLvVYyH7kV2"
   },
   "outputs": [],
   "source": [
    "#Train and Validation\n",
    "X_train, X_validation, y_train, y_validation = train_test_split(train_title, train_label, test_size=0.20, random_state=0) "
   ]
  },
  {
   "cell_type": "code",
   "execution_count": 69,
   "metadata": {
    "colab": {},
    "colab_type": "code",
    "id": "qFzlI16q7kV-"
   },
   "outputs": [],
   "source": [
    "#Test\n",
    "#X_test, X, y_test, y = train_test_split(test_title, test_label, test_size=0, shuffle=False)\n",
    "X_test = test_title\n",
    "y_test = test_label"
   ]
  },
  {
   "cell_type": "markdown",
   "metadata": {
    "colab_type": "text",
    "id": "3xOxR90d7kWF"
   },
   "source": [
    "### 7) Grid Search for Parameter Selection"
   ]
  },
  {
   "cell_type": "markdown",
   "metadata": {
    "colab_type": "text",
    "id": "NP5-bL0c7kWG"
   },
   "source": [
    "#### SVM algorithm "
   ]
  },
  {
   "cell_type": "code",
   "execution_count": 70,
   "metadata": {
    "colab": {},
    "colab_type": "code",
    "id": "s6u0p0o_7kWM"
   },
   "outputs": [],
   "source": [
    "# Set the classifier_1\n",
    "classifier_1 = SVR() "
   ]
  },
  {
   "cell_type": "markdown",
   "metadata": {
    "colab_type": "text",
    "id": "wjTvBN_07kWQ"
   },
   "source": [
    "#### Specify Grid Search"
   ]
  },
  {
   "cell_type": "code",
   "execution_count": 0,
   "metadata": {
    "colab": {},
    "colab_type": "code",
    "id": "j5WHbBiz7kWT"
   },
   "outputs": [],
   "source": [
    "# Import the Grid Search algorithm \n",
    "from sklearn.model_selection import GridSearchCV"
   ]
  },
  {
   "cell_type": "code",
   "execution_count": 0,
   "metadata": {
    "colab": {},
    "colab_type": "code",
    "id": "qEckUDgZ7kWb"
   },
   "outputs": [],
   "source": [
    "#Grid Search parameters\n",
    "C_range = np.logspace(-2, 5, 13)\n",
    "gamma_range = np.logspace(-9, 3, 13)\n",
    "degree_range = np.arange(2,8,1)\n",
    "\n",
    "# C_range = np.logspace(-2, 5, 1)\n",
    "# gamma_range = np.logspace(-9, 3, 13)\n",
    "# degree_range = np.arange(2,3,1)"
   ]
  },
  {
   "cell_type": "code",
   "execution_count": 0,
   "metadata": {
    "colab": {},
    "colab_type": "code",
    "id": "gZrKsOHE7kWh"
   },
   "outputs": [],
   "source": [
    "## Create a dictionary of parameters and their corresponding values for Random Forest algorithm\n",
    "# grid_param = {\n",
    "#    'kernel':['linear','poly', 'rbf', 'sigmoid'],\n",
    "#    'degree':degree_range,\n",
    "#    'gamma':gamma_range ,\n",
    "#    'C':C_range\n",
    "# }\n",
    "\n",
    "#Create a dictionary of parameters and their corresponding values for Random Forest algorithm\n",
    "grid_param = {\n",
    "    'kernel': ['linear', 'rbf', 'sigmoid'],\n",
    "    'C': C_range,\n",
    "    'gamma': gamma_range\n",
    "}\n",
    "#    'degree': degree_range\n"
   ]
  },
  {
   "cell_type": "code",
   "execution_count": 0,
   "metadata": {
    "colab": {},
    "colab_type": "code",
    "id": "Q8V9pezy7kWk"
   },
   "outputs": [],
   "source": [
    "#Create an instance of the GridSearchCV class \n",
    "\n",
    "# Apply in the real train !!!\n",
    "# gd_sr = GridSearchCV(estimator=classifier_1,  \n",
    "#                     param_grid=grid_param,\n",
    "#                     scoring= neg_mean_squared_error',\n",
    "#                     cv=10,\n",
    "#                     n_jobs=-1)\n",
    "\n",
    "gd_sr = GridSearchCV(estimator=classifier_1,  \n",
    "                     param_grid=grid_param,\n",
    "                     scoring='neg_mean_squared_error',\n",
    "                     cv=10,\n",
    "                     n_jobs=-1,\n",
    "                     verbose=1)"
   ]
  },
  {
   "cell_type": "code",
   "execution_count": 0,
   "metadata": {
    "colab": {
     "base_uri": "https://localhost:8080/",
     "height": 425
    },
    "colab_type": "code",
    "executionInfo": {
     "elapsed": 3558119,
     "status": "ok",
     "timestamp": 1555965714532,
     "user": {
      "displayName": "Francisco Caio Lima Paiva",
      "photoUrl": "https://lh6.googleusercontent.com/-rObDy5lU2zU/AAAAAAAAAAI/AAAAAAAAAAs/BoY-YI-rQ1A/s64/photo.jpg",
      "userId": "17697619239460268820"
     },
     "user_tz": 180
    },
    "id": "6FCaKqqE7kWp",
    "outputId": "18f36444-eb77-41e2-937f-ec99b6697ffb"
   },
   "outputs": [
    {
     "name": "stdout",
     "output_type": "stream",
     "text": [
      "Fitting 10 folds for each of 3042 candidates, totalling 30420 fits\n"
     ]
    },
    {
     "name": "stderr",
     "output_type": "stream",
     "text": [
      "[Parallel(n_jobs=-1)]: Using backend LokyBackend with 12 concurrent workers.\n",
      "[Parallel(n_jobs=-1)]: Done  26 tasks      | elapsed:   44.3s\n",
      "[Parallel(n_jobs=-1)]: Done 176 tasks      | elapsed:  3.7min\n",
      "[Parallel(n_jobs=-1)]: Done 426 tasks      | elapsed:  9.0min\n",
      "[Parallel(n_jobs=-1)]: Done 776 tasks      | elapsed: 16.2min\n",
      "[Parallel(n_jobs=-1)]: Done 1226 tasks      | elapsed: 25.5min\n",
      "[Parallel(n_jobs=-1)]: Done 1776 tasks      | elapsed: 36.8min\n",
      "[Parallel(n_jobs=-1)]: Done 2426 tasks      | elapsed: 50.2min\n",
      "[Parallel(n_jobs=-1)]: Done 3176 tasks      | elapsed: 65.5min\n",
      "[Parallel(n_jobs=-1)]: Done 4026 tasks      | elapsed: 82.8min\n",
      "[Parallel(n_jobs=-1)]: Done 4976 tasks      | elapsed: 102.1min\n",
      "[Parallel(n_jobs=-1)]: Done 6026 tasks      | elapsed: 123.5min\n",
      "[Parallel(n_jobs=-1)]: Done 7176 tasks      | elapsed: 146.8min\n",
      "[Parallel(n_jobs=-1)]: Done 8426 tasks      | elapsed: 171.9min\n",
      "[Parallel(n_jobs=-1)]: Done 9776 tasks      | elapsed: 199.1min\n",
      "[Parallel(n_jobs=-1)]: Done 11226 tasks      | elapsed: 228.3min\n",
      "[Parallel(n_jobs=-1)]: Done 12776 tasks      | elapsed: 259.9min\n",
      "[Parallel(n_jobs=-1)]: Done 14426 tasks      | elapsed: 293.8min\n",
      "[Parallel(n_jobs=-1)]: Done 16176 tasks      | elapsed: 329.9min\n",
      "[Parallel(n_jobs=-1)]: Done 18026 tasks      | elapsed: 368.3min\n",
      "[Parallel(n_jobs=-1)]: Done 19976 tasks      | elapsed: 409.3min\n",
      "[Parallel(n_jobs=-1)]: Done 22026 tasks      | elapsed: 452.8min\n",
      "[Parallel(n_jobs=-1)]: Done 24176 tasks      | elapsed: 500.4min\n"
     ]
    }
   ],
   "source": [
    "#Fit method of the class and pass it the training and test set\n",
    "gd_sr.fit(X_train, y_train)"
   ]
  },
  {
   "cell_type": "markdown",
   "metadata": {
    "colab_type": "text",
    "id": "Y-YPXV8C7kWx"
   },
   "source": [
    "#### Check the parameters that return the lowest Mean squared errer MSE"
   ]
  },
  {
   "cell_type": "code",
   "execution_count": 42,
   "metadata": {
    "colab": {
     "base_uri": "https://localhost:8080/",
     "height": 34
    },
    "colab_type": "code",
    "executionInfo": {
     "elapsed": 25,
     "status": "ok",
     "timestamp": 1556011456299,
     "user": {
      "displayName": "Francisco Caio Lima Paiva",
      "photoUrl": "https://lh6.googleusercontent.com/-rObDy5lU2zU/AAAAAAAAAAI/AAAAAAAAAAs/BoY-YI-rQ1A/s64/photo.jpg",
      "userId": "17697619239460268820"
     },
     "user_tz": 180
    },
    "id": "tXrQjOjv7kWx",
    "outputId": "e620bc1f-e738-4a72-ee66-4cb6159aeda8"
   },
   "outputs": [
    {
     "name": "stdout",
     "output_type": "stream",
     "text": [
      "{'kernel': 'rbf', 'C': 2.1544346900318843, 'gamma': 0.1, 'degree': 2}\n"
     ]
    }
   ],
   "source": [
    "best_parameters = gd_sr.best_params_\n",
    "print(best_parameters)"
   ]
  },
  {
   "cell_type": "markdown",
   "metadata": {
    "colab_type": "text",
    "id": "7XS2DlIW7kW7"
   },
   "source": [
    "#### Find the Mean squared errer (MSE) obtained using the best parameters."
   ]
  },
  {
   "cell_type": "code",
   "execution_count": 43,
   "metadata": {
    "colab": {
     "base_uri": "https://localhost:8080/",
     "height": 34
    },
    "colab_type": "code",
    "executionInfo": {
     "elapsed": 25,
     "status": "ok",
     "timestamp": 1556011489161,
     "user": {
      "displayName": "Francisco Caio Lima Paiva",
      "photoUrl": "https://lh6.googleusercontent.com/-rObDy5lU2zU/AAAAAAAAAAI/AAAAAAAAAAs/BoY-YI-rQ1A/s64/photo.jpg",
      "userId": "17697619239460268820"
     },
     "user_tz": 180
    },
    "id": "C8ZmTDy_7kW8",
    "outputId": "bf0a0fa7-66c6-49a0-a30b-ff6f4fd377fc"
   },
   "outputs": [
    {
     "name": "stdout",
     "output_type": "stream",
     "text": [
      "0.11931064107339148\n"
     ]
    }
   ],
   "source": [
    "best_result = -gd_sr.best_score_\n",
    "print(best_result)"
   ]
  },
  {
   "cell_type": "markdown",
   "metadata": {
    "colab_type": "text",
    "id": "1nqWxrdDhAbr"
   },
   "source": [
    "#### Specify Grid Search 2"
   ]
  },
  {
   "cell_type": "code",
   "execution_count": 0,
   "metadata": {
    "colab": {},
    "colab_type": "code",
    "id": "n2CaR8wLg5MZ"
   },
   "outputs": [],
   "source": [
    "#Grid Search parameters\n",
    "C_range = np.logspace(-2, 5, 13)\n",
    "gamma_range = np.logspace(-9, 1, 13)\n",
    "degree_range = np.arange(2,8,1)\n"
   ]
  },
  {
   "cell_type": "code",
   "execution_count": 0,
   "metadata": {
    "colab": {},
    "colab_type": "code",
    "id": "s88StYO580Ib"
   },
   "outputs": [],
   "source": [
    "#Create a dictionary of parameters and their corresponding values for Random Forest algorithm\n",
    "grid_param = {\n",
    "    'kernel': ['linear', 'rbf', 'sigmoid'],\n",
    "    'C': C_range,\n",
    "    'gamma': gamma_range,\n",
    "    'degree': degree_range\n",
    "}"
   ]
  },
  {
   "cell_type": "markdown",
   "metadata": {
    "colab_type": "text",
    "id": "qXX8_mH77kXD"
   },
   "source": [
    "### 9) Predicting Sentiment"
   ]
  },
  {
   "cell_type": "markdown",
   "metadata": {
    "colab_type": "text",
    "id": "WvhvemsD7kXF"
   },
   "source": [
    "#### Bag of Words"
   ]
  },
  {
   "cell_type": "code",
   "execution_count": 0,
   "metadata": {
    "colab": {},
    "colab_type": "code",
    "id": "s5QoWd8P7kXG"
   },
   "outputs": [],
   "source": [
    "#Train\n",
    "vectorizer_train = CountVectorizer(max_features=1500, vocabulary= vocab, min_df=5, max_df=0.7, stop_words=stopwords.words('english'))  \n",
    "train_title = vectorizer_train.fit_transform(documents_train).toarray()"
   ]
  },
  {
   "cell_type": "code",
   "execution_count": 0,
   "metadata": {
    "colab": {},
    "colab_type": "code",
    "id": "M2qOhZp27kXK"
   },
   "outputs": [],
   "source": [
    "#Test\n",
    "vectorizer_test = CountVectorizer(max_features=1500, vocabulary= vocab, min_df=5, max_df=0.7, stop_words=stopwords.words('english'))  \n",
    "test_title = vectorizer_test.fit_transform(documents_test).toarray()"
   ]
  },
  {
   "cell_type": "markdown",
   "metadata": {
    "colab_type": "text",
    "id": "PdI_Dd1h7kXN"
   },
   "source": [
    "#### Finding TFIDF"
   ]
  },
  {
   "cell_type": "code",
   "execution_count": 0,
   "metadata": {
    "colab": {},
    "colab_type": "code",
    "id": "TM0GlCzV7kXR"
   },
   "outputs": [],
   "source": [
    "#Train\n",
    "tfidfconverter_train = TfidfTransformer()\n",
    "train_title = tfidfconverter_train.fit_transform(train_title).toarray()"
   ]
  },
  {
   "cell_type": "code",
   "execution_count": 0,
   "metadata": {
    "colab": {},
    "colab_type": "code",
    "id": "spwEmtU77kXU"
   },
   "outputs": [],
   "source": [
    "#Test\n",
    "tfidfconverter_test = TfidfTransformer()\n",
    "test_title = tfidfconverter_test.fit_transform(test_title).toarray()"
   ]
  },
  {
   "cell_type": "markdown",
   "metadata": {
    "colab_type": "text",
    "id": "lE2DHede7kXZ"
   },
   "source": [
    "#### Training Using the full \" train dataset \" "
   ]
  },
  {
   "cell_type": "code",
   "execution_count": 71,
   "metadata": {
    "colab": {},
    "colab_type": "code",
    "id": "Q5aYMHdB7kXc"
   },
   "outputs": [],
   "source": [
    "#Test\n",
    "X_train_full = train_title\n",
    "y_train_full = train_label"
   ]
  },
  {
   "cell_type": "code",
   "execution_count": 72,
   "metadata": {
    "colab": {
     "base_uri": "https://localhost:8080/",
     "height": 51
    },
    "colab_type": "code",
    "executionInfo": {
     "elapsed": 3558134,
     "status": "ok",
     "timestamp": 1555965714586,
     "user": {
      "displayName": "Francisco Caio Lima Paiva",
      "photoUrl": "https://lh6.googleusercontent.com/-rObDy5lU2zU/AAAAAAAAAAI/AAAAAAAAAAs/BoY-YI-rQ1A/s64/photo.jpg",
      "userId": "17697619239460268820"
     },
     "user_tz": 180
    },
    "id": "7XZWysMx7kXi",
    "outputId": "e3f35548-4b2e-40de-df66-0e2338365fa4"
   },
   "outputs": [
    {
     "data": {
      "text/plain": [
       "SVR(C=1, cache_size=200, coef0=0.0, degree=3, epsilon=0.1, gamma=10,\n",
       "  kernel='poly', max_iter=-1, shrinking=True, tol=0.001, verbose=False)"
      ]
     },
     "execution_count": 72,
     "metadata": {},
     "output_type": "execute_result"
    }
   ],
   "source": [
    "# Set the classifier_2\n",
    "classifier_2 = SVR(kernel='poly', degree= 3, gamma= 10, C= 1)\n",
    "classifier_2.fit(X_train_full, y_train_full)\n"
   ]
  },
  {
   "cell_type": "code",
   "execution_count": 73,
   "metadata": {},
   "outputs": [
    {
     "data": {
      "text/plain": [
       "(1142, 3501)"
      ]
     },
     "execution_count": 73,
     "metadata": {},
     "output_type": "execute_result"
    }
   ],
   "source": [
    "X_train_full.shape"
   ]
  },
  {
   "cell_type": "code",
   "execution_count": 74,
   "metadata": {},
   "outputs": [
    {
     "data": {
      "text/plain": [
       "(1142,)"
      ]
     },
     "execution_count": 74,
     "metadata": {},
     "output_type": "execute_result"
    }
   ],
   "source": [
    "y_train_full.shape"
   ]
  },
  {
   "cell_type": "code",
   "execution_count": 75,
   "metadata": {},
   "outputs": [
    {
     "data": {
      "text/plain": [
       "(491, 3501)"
      ]
     },
     "execution_count": 75,
     "metadata": {},
     "output_type": "execute_result"
    }
   ],
   "source": [
    "X_test.shape"
   ]
  },
  {
   "cell_type": "markdown",
   "metadata": {
    "colab_type": "text",
    "id": "h4Exf16g7kXp"
   },
   "source": [
    "#### Prediction"
   ]
  },
  {
   "cell_type": "code",
   "execution_count": 76,
   "metadata": {
    "colab": {
     "base_uri": "https://localhost:8080/",
     "height": 401
    },
    "colab_type": "code",
    "executionInfo": {
     "elapsed": 3558135,
     "status": "error",
     "timestamp": 1555965714591,
     "user": {
      "displayName": "Francisco Caio Lima Paiva",
      "photoUrl": "https://lh6.googleusercontent.com/-rObDy5lU2zU/AAAAAAAAAAI/AAAAAAAAAAs/BoY-YI-rQ1A/s64/photo.jpg",
      "userId": "17697619239460268820"
     },
     "user_tz": 180
    },
    "id": "sPIUKz527kXq",
    "outputId": "c0201e51-287b-4f45-98ee-bb10be81dd77"
   },
   "outputs": [],
   "source": [
    "y_pred = classifier_2.predict(X_test)"
   ]
  },
  {
   "cell_type": "code",
   "execution_count": 77,
   "metadata": {},
   "outputs": [
    {
     "data": {
      "text/plain": [
       "(491,)"
      ]
     },
     "execution_count": 77,
     "metadata": {},
     "output_type": "execute_result"
    }
   ],
   "source": [
    "y_pred.shape"
   ]
  },
  {
   "cell_type": "markdown",
   "metadata": {
    "colab_type": "text",
    "id": "wueWLcW37kXu"
   },
   "source": [
    "### 10) Evaluating the Model"
   ]
  },
  {
   "cell_type": "markdown",
   "metadata": {
    "colab_type": "text",
    "id": "-f4LWLpz7kXw"
   },
   "source": [
    "#### Ordinary metrics"
   ]
  },
  {
   "cell_type": "code",
   "execution_count": 78,
   "metadata": {
    "colab": {},
    "colab_type": "code",
    "id": "pIaIXZxv7kXx",
    "scrolled": true
   },
   "outputs": [
    {
     "name": "stdout",
     "output_type": "stream",
     "text": [
      "Mean Absolute Error: 0.27468937822311834\n",
      "Mean Squred Error: 0.13184139605605255\n",
      "Root Mean Squared Error: 0.3630997053924067\n"
     ]
    }
   ],
   "source": [
    "# Import Import classification_report, confusion_matrix, accuracy_score\n",
    "from sklearn.metrics import mean_absolute_error, mean_squared_error\n",
    "\n",
    "print('Mean Absolute Error:', mean_absolute_error(y_test,y_pred))  \n",
    "print('Mean Squred Error:', mean_squared_error(y_test,y_pred))  \n",
    "print('Root Mean Squared Error:', np.sqrt(mean_squared_error(y_test, y_pred)))  "
   ]
  },
  {
   "cell_type": "markdown",
   "metadata": {
    "colab_type": "text",
    "id": "UOMY4eEd7kX6"
   },
   "source": [
    "#### SanVal metric"
   ]
  },
  {
   "cell_type": "code",
   "execution_count": 80,
   "metadata": {
    "colab": {},
    "colab_type": "code",
    "id": "jSP6PyXW7kX7"
   },
   "outputs": [],
   "source": [
    "#Reshape matrix\n",
    "#Predict\n",
    "y_pred=y_pred.reshape(1,-1)\n",
    "#Label\n",
    "y_test=y_test.reshape(1,-1)"
   ]
  },
  {
   "cell_type": "code",
   "execution_count": 81,
   "metadata": {
    "colab": {},
    "colab_type": "code",
    "id": "sCZL6OUU7kYA"
   },
   "outputs": [
    {
     "data": {
      "text/plain": [
       "array([[0.48119631]])"
      ]
     },
     "execution_count": 81,
     "metadata": {},
     "output_type": "execute_result"
    }
   ],
   "source": [
    "SenVal_metric(y_test, y_pred)"
   ]
  },
  {
   "cell_type": "markdown",
   "metadata": {
    "colab_type": "text",
    "id": "-s73vrOF7kYJ"
   },
   "source": [
    "### Graphics\n"
   ]
  },
  {
   "cell_type": "markdown",
   "metadata": {
    "colab_type": "text",
    "id": "cL-_oh_Z7kYL"
   },
   "source": [
    "### Validatio Curve"
   ]
  },
  {
   "cell_type": "markdown",
   "metadata": {
    "colab_type": "text",
    "id": "fJWMlUCE7kYM"
   },
   "source": [
    "#### GAMA"
   ]
  },
  {
   "cell_type": "code",
   "execution_count": 0,
   "metadata": {
    "colab": {},
    "colab_type": "code",
    "id": "W_nkOQ0c7kYN"
   },
   "outputs": [],
   "source": [
    "#Import Validation Curve\n",
    "from SenVal_Functions import plot_validation_curve"
   ]
  },
  {
   "cell_type": "code",
   "execution_count": 0,
   "metadata": {
    "colab": {},
    "colab_type": "code",
    "id": "qaT_Ymet7kYS"
   },
   "outputs": [],
   "source": [
    "#Set parameters range\n",
    "#estimator = SVR()\n",
    "estimator = classifier_2\n",
    "title = \"Validation Curve with SVR\"\n",
    "x_label = r\"$\\gamma$\"\n",
    "param_name='gamma'\n",
    "ylim = (0,1)\n",
    "gamma_range = np.logspace(-9, 3, 13)\n",
    "cv=2\n",
    "n_jobs=-1"
   ]
  },
  {
   "cell_type": "code",
   "execution_count": 0,
   "metadata": {
    "colab": {},
    "colab_type": "code",
    "id": "EArZTKys7kYZ"
   },
   "outputs": [],
   "source": [
    "#Apply Validation Curve\n",
    "plot_validation_curve(estimator, title, x_label, X_train_full, y_train_full, param_name, gamma_range, ylim, cv, n_jobs)"
   ]
  },
  {
   "cell_type": "markdown",
   "metadata": {
    "colab_type": "text",
    "id": "oRMKX_-_7kYg"
   },
   "source": [
    "#### C"
   ]
  },
  {
   "cell_type": "code",
   "execution_count": 0,
   "metadata": {
    "colab": {},
    "colab_type": "code",
    "id": "EENjQCxb7kYj"
   },
   "outputs": [],
   "source": [
    "#Set parameters range\n",
    "#estimator = SVR()\n",
    "estimator = classifier_2\n",
    "title = \"Validation Curve with SVR\"\n",
    "x_label = r\"C\"\n",
    "param_name='C'\n",
    "ylim = (0,1)\n",
    "C_range = np.logspace(-2, 5, 13)\n",
    "cv=2\n",
    "n_jobs=-1"
   ]
  },
  {
   "cell_type": "code",
   "execution_count": 0,
   "metadata": {
    "colab": {},
    "colab_type": "code",
    "id": "smJ8fIVS7kYo"
   },
   "outputs": [],
   "source": [
    "#Apply Validation Curve\n",
    "plot_validation_curve(estimator, title, x_label, X_train_full, y_train_full, param_name, C_range, ylim, cv, n_jobs)"
   ]
  },
  {
   "cell_type": "markdown",
   "metadata": {
    "colab_type": "text",
    "id": "FWE8Cdw97kYx"
   },
   "source": [
    "#### Degree"
   ]
  },
  {
   "cell_type": "code",
   "execution_count": 0,
   "metadata": {
    "colab": {},
    "colab_type": "code",
    "id": "xQt1reHe7kYy"
   },
   "outputs": [],
   "source": [
    "#Set parameters range\n",
    "#estimator = SVR()\n",
    "estimator = classifier_2\n",
    "title = \"Validation Curve with SVR\"\n",
    "x_label = r\"degree\"\n",
    "param_name='degree'\n",
    "ylim = (0.1,0.5)\n",
    "degree_range = np.arange(2,8,1)\n",
    "cv=2\n",
    "n_jobs=-1"
   ]
  },
  {
   "cell_type": "code",
   "execution_count": 0,
   "metadata": {
    "colab": {},
    "colab_type": "code",
    "id": "ZPlU7qFl7kY2"
   },
   "outputs": [],
   "source": [
    "#Apply Validation Curve\n",
    "plot_validation_curve(estimator, title, x_label, X_train_full, y_train_full, param_name, degree_range, ylim, cv, n_jobs)"
   ]
  },
  {
   "cell_type": "markdown",
   "metadata": {
    "colab_type": "text",
    "id": "lK8a_sIA7kZA"
   },
   "source": [
    "### Learning Curve"
   ]
  },
  {
   "cell_type": "code",
   "execution_count": 0,
   "metadata": {
    "colab": {},
    "colab_type": "code",
    "id": "cLvOk0wA7kZB"
   },
   "outputs": [],
   "source": [
    "# Import curve/plot\n",
    "from SenVal_Functions import plot_learning_curve"
   ]
  },
  {
   "cell_type": "code",
   "execution_count": 0,
   "metadata": {
    "colab": {},
    "colab_type": "code",
    "id": "s6dBNEsn7kZF"
   },
   "outputs": [],
   "source": [
    "# Set the of learn curve plot\n",
    "estimator = SVR(kernel='linear')\n",
    "title = r\"Learning Curves (SVR, Linear kernel, $\\gamma=0.001$)\"\n",
    "ylim=(0,0.2)\n",
    "cv=2\n",
    "n_jobs=-1\n"
   ]
  },
  {
   "cell_type": "code",
   "execution_count": 0,
   "metadata": {
    "colab": {},
    "colab_type": "code",
    "id": "q188jmdi7kZI"
   },
   "outputs": [],
   "source": [
    "#Apply learning Curve\n",
    "plot_learning_curve(estimator, title, X_train_full, y_train_full, ylim, cv, n_jobs)"
   ]
  },
  {
   "cell_type": "markdown",
   "metadata": {
    "colab_type": "text",
    "id": "K-xYW3lf7kZQ"
   },
   "source": [
    "### 13) Saving and Loading the Model"
   ]
  },
  {
   "cell_type": "code",
   "execution_count": 0,
   "metadata": {
    "colab": {},
    "colab_type": "code",
    "id": "TkoNb28C7kZR"
   },
   "outputs": [],
   "source": [
    "with open('SVM_Regrassion_2', 'wb') as picklefile:\n",
    "    pickle.dump(classifier_2,picklefile)"
   ]
  },
  {
   "cell_type": "code",
   "execution_count": 0,
   "metadata": {
    "colab": {},
    "colab_type": "code",
    "id": "Mv0HAeI87kZV"
   },
   "outputs": [],
   "source": [
    "    #Load Model\n",
    "#with open('text_classifier', 'rb') as training_model:  \n",
    "    #model = pickle.load(training_model)"
   ]
  }
 ],
 "metadata": {
  "colab": {
   "collapsed_sections": [
    "brjphp-67kUw",
    "xQ8HOJtS7kVD",
    "9qGdoGj07kVc",
    "Y-YPXV8C7kWx",
    "7XS2DlIW7kW7",
    "WvhvemsD7kXF",
    "PdI_Dd1h7kXN",
    "lE2DHede7kXZ",
    "h4Exf16g7kXp",
    "-f4LWLpz7kXw",
    "UOMY4eEd7kX6",
    "fJWMlUCE7kYM",
    "oRMKX_-_7kYg",
    "FWE8Cdw97kYx"
   ],
   "name": "(Regression) SVR.ipynb",
   "provenance": [],
   "toc_visible": true,
   "version": "0.3.2"
  },
  "kernelspec": {
   "display_name": "Python 3",
   "language": "python",
   "name": "python3"
  },
  "language_info": {
   "codemirror_mode": {
    "name": "ipython",
    "version": 3
   },
   "file_extension": ".py",
   "mimetype": "text/x-python",
   "name": "python",
   "nbconvert_exporter": "python",
   "pygments_lexer": "ipython3",
   "version": "3.6.8"
  }
 },
 "nbformat": 4,
 "nbformat_minor": 1
}
