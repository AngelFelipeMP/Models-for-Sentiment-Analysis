{
 "cells": [
  {
   "cell_type": "markdown",
   "metadata": {},
   "source": [
    "### 1) Load Libries"
   ]
  },
  {
   "cell_type": "code",
   "execution_count": 1,
   "metadata": {},
   "outputs": [],
   "source": [
    "import numpy as np\n",
    "import matplotlib.pyplot as plt\n",
    "import pandas as pd\n",
    "import pickle"
   ]
  },
  {
   "cell_type": "markdown",
   "metadata": {},
   "source": [
    "### 2) Load files"
   ]
  },
  {
   "cell_type": "code",
   "execution_count": 4,
   "metadata": {},
   "outputs": [],
   "source": [
    "#train\n",
    "df_train = pd.read_csv('train.csv', index_col='id')"
   ]
  },
  {
   "cell_type": "code",
   "execution_count": 5,
   "metadata": {},
   "outputs": [
    {
     "data": {
      "text/html": [
       "<div>\n",
       "<style scoped>\n",
       "    .dataframe tbody tr th:only-of-type {\n",
       "        vertical-align: middle;\n",
       "    }\n",
       "\n",
       "    .dataframe tbody tr th {\n",
       "        vertical-align: top;\n",
       "    }\n",
       "\n",
       "    .dataframe thead th {\n",
       "        text-align: right;\n",
       "    }\n",
       "</style>\n",
       "<table border=\"1\" class=\"dataframe\">\n",
       "  <thead>\n",
       "    <tr style=\"text-align: right;\">\n",
       "      <th></th>\n",
       "      <th>company</th>\n",
       "      <th>sentiment_range</th>\n",
       "      <th>title</th>\n",
       "      <th>setiment_label</th>\n",
       "      <th>setiment_score</th>\n",
       "      <th>sentiment_NB</th>\n",
       "    </tr>\n",
       "    <tr>\n",
       "      <th>id</th>\n",
       "      <th></th>\n",
       "      <th></th>\n",
       "      <th></th>\n",
       "      <th></th>\n",
       "      <th></th>\n",
       "      <th></th>\n",
       "    </tr>\n",
       "  </thead>\n",
       "  <tbody>\n",
       "    <tr>\n",
       "      <th>2</th>\n",
       "      <td>Morrisons</td>\n",
       "      <td>0.430</td>\n",
       "      <td>Morrisons book second consecutive quarter of s...</td>\n",
       "      <td>pos</td>\n",
       "      <td>1</td>\n",
       "      <td>14.0</td>\n",
       "    </tr>\n",
       "    <tr>\n",
       "      <th>3</th>\n",
       "      <td>IMI</td>\n",
       "      <td>-0.344</td>\n",
       "      <td>IMI posts drop in first-quarter organic revenu...</td>\n",
       "      <td>neg</td>\n",
       "      <td>0</td>\n",
       "      <td>7.0</td>\n",
       "    </tr>\n",
       "    <tr>\n",
       "      <th>4</th>\n",
       "      <td>Glencore</td>\n",
       "      <td>0.340</td>\n",
       "      <td>Glencore to refinance its short-term debt earl...</td>\n",
       "      <td>pos</td>\n",
       "      <td>1</td>\n",
       "      <td>13.0</td>\n",
       "    </tr>\n",
       "    <tr>\n",
       "      <th>5</th>\n",
       "      <td>Ryanair</td>\n",
       "      <td>0.259</td>\n",
       "      <td>EasyJet attracts more passengers in June but s...</td>\n",
       "      <td>pos</td>\n",
       "      <td>1</td>\n",
       "      <td>13.0</td>\n",
       "    </tr>\n",
       "    <tr>\n",
       "      <th>6</th>\n",
       "      <td>Barclays</td>\n",
       "      <td>-0.231</td>\n",
       "      <td>Barclays 'bad bank' chief to step down</td>\n",
       "      <td>neg</td>\n",
       "      <td>0</td>\n",
       "      <td>8.0</td>\n",
       "    </tr>\n",
       "  </tbody>\n",
       "</table>\n",
       "</div>"
      ],
      "text/plain": [
       "      company  sentiment_range  \\\n",
       "id                               \n",
       "2   Morrisons            0.430   \n",
       "3         IMI           -0.344   \n",
       "4    Glencore            0.340   \n",
       "5     Ryanair            0.259   \n",
       "6    Barclays           -0.231   \n",
       "\n",
       "                                                title setiment_label  \\\n",
       "id                                                                     \n",
       "2   Morrisons book second consecutive quarter of s...            pos   \n",
       "3   IMI posts drop in first-quarter organic revenu...            neg   \n",
       "4   Glencore to refinance its short-term debt earl...            pos   \n",
       "5   EasyJet attracts more passengers in June but s...            pos   \n",
       "6              Barclays 'bad bank' chief to step down            neg   \n",
       "\n",
       "    setiment_score  sentiment_NB  \n",
       "id                                \n",
       "2                1          14.0  \n",
       "3                0           7.0  \n",
       "4                1          13.0  \n",
       "5                1          13.0  \n",
       "6                0           8.0  "
      ]
     },
     "execution_count": 5,
     "metadata": {},
     "output_type": "execute_result"
    }
   ],
   "source": [
    "df_train.head()"
   ]
  },
  {
   "cell_type": "markdown",
   "metadata": {},
   "source": [
    "### 5) Split dataset in \"title\" and \"label\""
   ]
  },
  {
   "cell_type": "code",
   "execution_count": 6,
   "metadata": {},
   "outputs": [],
   "source": [
    "#Train\n",
    "train_title = df_train['title']\n",
    "\n",
    "#Test\n",
    "test_title = df_test['title']"
   ]
  },
  {
   "cell_type": "code",
   "execution_count": 7,
   "metadata": {},
   "outputs": [
    {
     "data": {
      "text/plain": [
       "id\n",
       "2    Morrisons book second consecutive quarter of s...\n",
       "3    IMI posts drop in first-quarter organic revenu...\n",
       "4    Glencore to refinance its short-term debt earl...\n",
       "5    EasyJet attracts more passengers in June but s...\n",
       "6               Barclays 'bad bank' chief to step down\n",
       "Name: title, dtype: object"
      ]
     },
     "execution_count": 7,
     "metadata": {},
     "output_type": "execute_result"
    }
   ],
   "source": [
    "#Train\n",
    "train_title.head()"
   ]
  },
  {
   "cell_type": "markdown",
   "metadata": {},
   "source": [
    "### 6) Split each title in word"
   ]
  },
  {
   "cell_type": "code",
   "execution_count": 9,
   "metadata": {},
   "outputs": [],
   "source": [
    "title_tokens_train = [title.split() for title in train_title]"
   ]
  },
  {
   "cell_type": "code",
   "execution_count": 10,
   "metadata": {},
   "outputs": [],
   "source": [
    "def token_list(list_):\n",
    "    full_words = []\n",
    "\n",
    "    for phrase in list_:\n",
    "        for word in phrase:\n",
    "            full_words.append(word)\n",
    "    return full_words"
   ]
  },
  {
   "cell_type": "code",
   "execution_count": 11,
   "metadata": {},
   "outputs": [],
   "source": [
    "word_list_train = token_list(title_tokens_train)"
   ]
  },
  {
   "cell_type": "code",
   "execution_count": 12,
   "metadata": {},
   "outputs": [
    {
     "data": {
      "text/plain": [
       "10969"
      ]
     },
     "execution_count": 12,
     "metadata": {},
     "output_type": "execute_result"
    }
   ],
   "source": [
    "len(word_list_train)"
   ]
  },
  {
   "cell_type": "code",
   "execution_count": 14,
   "metadata": {},
   "outputs": [
    {
     "name": "stdout",
     "output_type": "stream",
     "text": [
      "['Morrisons', 'book', 'second', 'consecutive', 'quarter', 'of', 'sales', 'growth', 'IMI', 'posts', 'drop', 'in', 'first-quarter', 'organic', 'revenue;', 'warns', 'on', 'full', 'year', 'Glencore', 'to', 'refinance', 'its', 'short-term', 'debt', 'early,', 'shares', 'rise', 'EasyJet', 'attracts', 'more', 'passengers', 'June', 'but', 'still', 'lags', 'Ryanair', 'Barclays', \"'bad\", \"bank'\", 'chief', 'step', 'down', 'Bilfinger', 'Industrial', 'Services', 'win', 'Â£100m', 'BP', 'contract', 'extension', 'share', 'price', 'subdued', 'as', 'bank', 'faces', 'fresh', 'forex', 'probe', 'Centrica', 'prepared', 'for', 'takeover', 'approach', '-', 'chairman', 'Jim', 'Armitage:', 'Spare', 'no', 'tears', \"Glencore's\", 'bosses', 'are', 'paying', 'such', 'a', 'small', 'Barclays,', 'Deutsche', 'Bank', 'Fight', 'Lift', 'Profit', 'Just', 'Got', 'Harder', 'Kingfisher', 'set', 'open', 'another', '200', 'Screwfix', 'stores', 'Diageo', 'disappoint', 'currency', 'and', 'comparatives', 'leave', 'bitter', 'taste', 'Smith', '&', 'Nephew', 'recalls', 'hip-replacement', 'components', 'Tesco', 'is', 'torn', 'apart', 'watchdog', 'finds', 'supermarket', 'repeatedly', 'withheld', 'payments', 'from', 'suppliers', 'Is', 'Trouble', 'Brewing', 'At', 'Legal', 'General', 'Group', 'Plc', 'And', 'Aviva', 'plc?', \"Here's\", 'my', '10-point', 'plan', 'make', 'great', 'again', 'Schroders', 'FY', 'profit', 'beat,', 'replaces', 'CEO', 'board', 'shake-up', 'Seeks', 'Get', 'Back', 'Some', 'Gulf', 'Oil', 'Spill', 'Business', 'Payouts', 'Can', 'Standard', 'Chartered', 'PLC,', 'plc', 'Burberry', 'Keep', 'Charging?', 'UPDATE', '1-BP', 'reports', 'worst', 'annual', 'loss', 'at', 'least', '20', 'years,', 'cuts', 'jobs', 'Insurers:', 'Admiral', 'blows', 'hot', 'cold', 'soars', 'pre-Friends', 'Life', 'merger', 'L&G', 'dividend', 'cut', 'during', 'crisis,', 'says', 'Whitbread', 'eyes', 'savings,', 'rises', 'offset', 'wage', \"Britain's\", 'FTSE', 'lifted', 'by', 'solid', 'Novo', 'Nordisk', 'AstraZeneca', 'seek', 'tonic', 'key', 'drug', 'trials', 'Mr', 'Bricolage', 'could', 'hit', 'brick', 'wall', 'wins', 'right', 'appeal', 'some', 'spill', 'damages', 'claims', 'Dixons', 'Carphone', 'boost', 'strong', 'UK', 'MORNING', 'BRIEFING:', 'Sky', 'Hargreaves', 'Lansdown', 'Bookend', '100', 'Johnson', 'Matthey', 'metals', 'unit', 'sale', 'Credit', 'Suisse', 'strike', 'record', 'deals', 'with', 'SEC,', 'NY', 'over', 'dark', 'pools', '1-Shire', 'takes', 'Q2', 'earnings', 'pain', 'long-term', 'gain', 'Drugmaker', 'Shire', 'buy', 'Baxalta', '$32', 'billion', 'after', '6-month', 'pursuit', 'considering', 'move', \"Philippines'\", 'San', 'Miguel', 'partner', 'Kirin', 'if', 'it', 'bids', \"SABMiller's\", '...', 'US', 'cancels', 'Arctic', 'offshore', 'lease', 'Shell', 'drops', 'interest', 'steps', 'up', 'drive', 'get', 'talking', '1-Oil', 'major', 'freezes', 'pay', '2015', 'costs', 'Brazil', 'Vale', 'will', 'ruling', 'block', 'assets', 'dam', 'burst', 'BHP', 'Billiton', 'big', 'loss,', 'slashes', 'Reaching', 'New', 'Depths:', '$5bn', 'Loss', '2-EasyJet', 'sees', 'better', 'first', 'half', 'lower', 'fuel', 'bill', 'advances', 'Royal', 'Mail', 'CompaniesTesco', 'sheds', 'Harris', 'Hoole', 'coffee', 'shops', 'News', 'FeedFTSE', 'movers:', 'while', 'sinks', 'Fitch:', \"Citi's\", \"1Q'15\", 'Reports', 'Much', 'Improved', 'Results', 'Landlord', \"Hammerson's\", 'NAV', 'increased', 'leasing', 'activity', 'CompaniesMetro', 'raises', 'Â£400m', 'ahead', 'London', 'listing', 'duo', 'former', \"boss's\", 'support', 'diffuse', 'investor', 'tension', 'WPP', 'Q1', 'Revenue', 'Rises', 'Over', '8%', 'Quick', 'Facts', '603', 'million', 'pounds', 'African', 'business', 'REFILE-Aviva', 'Investors', '34', 'bln', 'euros', 'AXA', 'fund', 'arm', 'Dividends', 'Unleashed', 'Scotland', 'Irish', 'Said', 'Chasing', 'Chartered,', 'RBS', 'Brexit', 'Vote', 'Nears', 'EXCLUSIVE-BP,', \"China's\", 'CNPC', 'unveil', 'oil', 'alliance', 'sources', 'temporarily', 'suspended', 'amid', 'heavily', 'losses', 'slide', 'low', 'prices', 'take', 'their', 'toll', 'revs', 'clean', 'air', 'boss', 'urges', 'rethink', 'minimum', 'rates', 'It', 'Worth', 'Investing', 'In', 'PLC', 'Prudential', 'Now?', 'reportedly', 'appoint', 'Howard', 'Davies', 'next', '1-Seattle', 'flotilla', 'protests', \"Shell's\", 'drilling', 'plans', 'Petrofac', 'books', 'further', 'Â£30m', 'cost', 'Shetland', 'gas', 'terminal', 'delays', 'G4S', 'suspends', 'workers', 'youth', 'centre', 'allegations', 'unnecessary', 'force', 'TalkTalk', 'hires', 'BAE', 'Systems', 'investigate', 'cyber', 'attack', 'Osborne', 'extends', 'Lloyds', 'sell-off', '1-Dairy', 'Crest', 'loses', 'third', 'milk', 'CompaniesLord', 'Livingston', 'joins', 'names', 'Deloitte', 'new', 'auditor', 'accounting', 'scandal', \"World's\", 'banks', 'may', 'halve', 'branches', 'within', '10', 'years', 'ex-boss', 'Severn', 'Trent', 'inches', 'customer', 'Clinigen', 'chosen', 'manage', 'access', 'programme', \"Valeant's\", 'Pearson', 'timing', 'return', 'uncertain', 'trading', 'Â£1.8bn', 'property', 'Horizonte', 'acquires', 'neighbouring', 'nickel', 'Indy', 'future', 'doubt', 'Johnston', 'Press', 'lines', 'deal', \"'i'\", \"Glaxo's\", 'ViiV', 'Healthcare', 'Signs', 'China', 'Manufacturing', 'Deal', 'With', 'Desano', 'half-year', 'falls,', 'beats', 'forecasts', 'Dutch', 'Buy', 'BG', 'Nearly', '$70', 'Billion', 'speed', 'cost-cuts', 'mis-selling', 'CEOs', 'BPM,', 'UBI', 'meet', 'Italy', 'econ', 'minister', 'M&A', 'talk', 'heats', 'HSBC', 'Hit', 'Fresh', 'Details', 'Tax', 'Evasion', 'Claims', 'CaixaBank,', 'dos', 'Santos', 'Agree', 'Plan', 'BPI', 'Angola', 'Exposure', 'Says', 'Caixabank,', 'Isabel', 'Reach', 'Agreement', 'Wolseley', 'Nicholls', \"won't\", 'join', 'finance', 'lawmakers', 'warn', 'against', 'hikes', 'StanChart', 'struggle', 'England', 'stress', 'tests', 'see', 'white', 'knight', 'painful', 'recovery', 'CLSA', 'suffers', 'setback', 'fails', 'treat', 'eye', 'cancer', 'Retail', 'giant', \"'solid'\", 'start', 'the', 'Unilever', 'Continues', 'Battle', 'Soft', 'Demand', 'Fresnillo', 'Production', 'Surges', 'But', 'By', 'Lower', 'Prices', 'Helge', 'Lund', 'moves', 'month', 'early', 'sell', 'Kipa,', 'Giraffe', 'businesses', 'higher', 'misconduct', 'charges,', 'obstacles', 'DBS,', 'Julius', 'Baer', 'emerge', 'potential', 'bidders', 'Asia', 'wealth', 'slips', 'Greek', 'worries', 'peg', 'back', 'sells', 'agri', 'stake', '$2.5', 'Canadian', 'pension', 'FCA', 'bans', 'Libor', 'submitter', 'AB', \"InBev's\", 'Latest', 'Bid', 'Unlikely', 'Win', 'Approval', 'Not', 'Raising', 'Capital', 'Yet', 'As', 'Dividend', 'Cut', 'United', 'Utilities', '3.5%;', 'capex', 'Sale', \"Tesco's\", 'Clubcard', 'verge', 'collapse', \"UK's\", 'state-owned', '-paper', \"Asia's\", 'Biggest', 'Private-Equity', 'Industry', 'NewsWolseley', 'confident', 'reslilience', 'mixed', 'markets', \"Japan's\", 'Nikkei', 'lands', 'Financial', 'Times', '$1.3', 'UPDATE:', 'Peter', 'Long', 'To', 'Be', 'Chairman', 'Of', 'Both', 'TUI', 'AG', 'regulators', 'license', 'BAT', 'e-cigarette', 'quit-smoking', 'medicine', 'Aviva,', 'M&G', 'suspend', 'funds', 'investors', 'panic', 'British', 'American', 'Tobacco', 'sues', 'PwC', 'pollution', \"Aberdeen's\", 'net', 'outflows', 'accelerate', 'REFILE-Hikma', 'help', 'climb', 'Kraft,', \"Cadbury's\", 'Britvic', 'Total', 'Recall:', 'how', 'pulling', 'product', 'affects', 'price:', 'Aberdeen', 'would', 'capital', 'increase', 'jumps', 'renews', 'utility', 'France', 'concerns', 'proposed', 'LSE-Deutsche', 'Boerse', 'Bunzl', 'blames', 'weakness', 'States', 'first-half', 'revenue', 'slowdown', 'criticised', \"'disgraceful'\", 'advert', 'showing', 'domestic', 'worker', 'being', 'slapped', 'Tushar', 'Morzaria', \"bookies'\", 'favourite', 'be', 'executive', 'CompaniesG4S', \"'positive'\", '3-BP', 'settles', 'spill-related', 'Halliburton,', 'Transocean', 'Shares', '10-month', 'high', 'rating', 'upgrade', 'GE', 'Sell', 'Majority', 'Stake', \"BPH's\", 'Core', 'Alior', 'plc:', 'Updates', 'Alaska', 'Exploration', 'City', 'spirits', 'sink', 'comes', 'short', 'recover', 'focus', 'returns', 'core', 'Stock', 'Exchange', 'talks', 'operate', 'Plato', 'venue', 'ARM', 'Holdings', 'Partners', 'International', 'Machines', 'Corp.', 'Drive', 'GSK', 'trade', 'push', 'trumpets', 'healthcare', 'Goldman', 'Sachs,', 'downplay', 'threat', 'marks', 'muted', '150th', 'birthday', 'party', 'grain', 'rice', 'sculptures', 'appoints', \"JPMorgan's\", 'Paul', 'Compton', 'COO', 'Jump', 'Most', 'Since', \"'12\", 'After', 'Upgrades', 'Probes', 'Role', 'Purchase', 'Nigerian', 'Block', 'Shropshire', 'Mid', 'Wales', 'trains', 'Arriva', 'drivers', 'Friends', 'lifts', 'profits', '38%', 'divi', 'Randgold', 'poor', 'gold', 'increases', 'does', 'US$770mln', 'anaesthetic', 'ITV', 'report', \"Comcast's\", 'NBCUniversal', 'bidding', 'Sells', 'Ryder', 'Cup', 'Venue', 'Gleneagles', 'Hotel', 'Ennismore', '4000', 'FDA', 'panel', 'backs', 'safety', 'updates', 'AstraZeneca,', 'Takeda', 'drugs', 'signal', 'end', 'exchange', 'mega-deals', 'Intertek', 'Pound', 'Strength,', 'Gas', 'Slowdown;', 'Still', 'Ups', 'working', 'Kinder', 'Morgan', 'Form', 'Joint', 'Venture', 'Limited', 'Liability', 'Company', 'Shareholders', 'End', 'January', 'Intercontinental', 'Hotels,', 'Starwood', 'held', 'FT', 'Warren', \"Buffett's\", 'Berkshire', 'Hathaway', 'buys', 'Apple', 'Sunday', 'Papers:', 'told', 'raise', 'offer', 'bounces', 'back,', 'Mondi', 'Barratt', 'lead', 'budget', 'slip', '2%', 'Anheuser-Busch', 'InBev', 'Increases', 'Offer', 'Rival', 'SABMiller', 'Sainsbury', 'CFO', 'Rogers', 'Replace', 'Home', 'Walden', '2-Exchanges,', 'dismissal', 'high-frequency', 'case', 'MarketsUS', 'industrials', 'lag', 'dims', 'view', 'Zurich', 'Insurance', 'Considering', 'RSA', 'DOJ', 'antitrust', 'subpoenas', 'Mylan', 'pricing', 'doxycycline', 'gout', 'rights', 'Ironwood', '$265', 'Shell,', 'Chevron', 'Await', \"LNG's\", 'Return', 'From', '`Pause', \"Mode'\", 'Companies', 'less', 'money', 'rally', 'miner', 'hits', 'ABN', 'Amro:', 'that', 'brought', 'poised', 'market', 'Verizon', 'AT&T', 'accused', 'hurting', 'rivals', 'swings', 'fourth', 'falls', 'Auto', 'Trader', 'surges', 'company', 'floats', 'LSE', 'ConAgra', 'Names', 'Former', 'Hillshire', 'Farms', 'Connolly', 'Top', 'Post', 'Landown', 'slides', 'update', \"Sainsbury's,\", 'Asda,', 'all', 'petrol', 'WPP,', 'Largest', 'Ad', 'Agency,', 'Strong', 'Growth', 'Targets', 'Gains', 'LNG', 'Takeover', 'Four', 'bankers', 'jailed', 'Junk', \"Moody's\", 'Concern', 'Revival', 'Take', 'Time', 'LPC-Glencore', 'launches', 'refinancing', '$8.45billion', 'loan', 'open:', 'Taylor', 'Wimpey', 'Ashtead', 'higher,', 'Easyjet', 'targets', 'travellers', 'perks', 'forces', 'Det', 'Norske', 'Norway', 'proposes', '$30', 'all-share', 'tie-up', 'shows', 'tentative', 'continues', 'Valeant', 'Interim', 'Leader', 'Remains', 'Hospitalized', 'weighing', 'Acerta', 'bid', 'secure', 'blood', 'asks', 'fine', 'penalty', 'phase', 'trial', 'MarketsShire', '2.5%', '6%', '$32bn', 'Awesome', 'Feat', 'Hathaway,', 'Revisited', 'Banking', \"Group's\", 'axe', 'hundreds', 'SSE', '4.1%', 'become', 'fifth', \"'Big\", \"Six'\", 'providers', 'slash', 'energy', 'Silicon', \"Fen'\", 'champion', 'brings', 'exacting', 'Rolls-Royce', 'Discuss', 'Central', 'Eastern', 'European', 'Unit', 'credit', 'line', 'Should', 'You', 'Follow', 'Into', 'Stock?', 'WINNERS', 'LOSERS:', 'Lead', 'Gainers', 'approves', \"Shire's\", 'Vyvanse', 'binge-eating', 'disorder', 'Entertainment', 'One', 'dispels', 'rumours', 'Despite', 'growth,', 'cautions', 'bumpy', 'Giant', 'Around', '2800', 'Jobs', 'Amid', 'defence', 'spending', 'fix', 'Christmas', 'power', 'demand', 'lowest', '16', 'â€“', 'National', 'Grid', 'CompaniesCompass', 'serves', 'InterContinental', 'Hotels', 'climbs', '$1.5bn', 'special', 'Talks', 'Cancer', 'Drug', 'Developer', 'Pharma', 'Amazon', 'grocery', 'made', 'bit', 'crucial', 'error', 'this', 'promotion', 'Ramadan...', 'Falling', 'hurt', 'Hunting,', 'Weir', 'Morning', 'Agenda:', 'NPS', 'approval', 'lung', 'pill', 'PPI', \"Barclays's\", 'Next', 'Investment', 'Banker,', '$5.2', 'rare', 'disease', 'boardroom', 'clearout', 'settlement', 'yet', 'disaster', 'Arm', 'buoyed', 'race', 'build', 'internet', 'things', 'diabetes', 'combination', 'delay', 'rebuff', \"Amazon's\", 'only', 'beginning', \"Systems's\", 'boosted', 'Typhoon', 'currencies', 'CompaniesAberdeen', 'Asset', 'Mgt', '10th', 'quarterly', 'poaches', 'risk', 'head', 'JP', 'signs', '$12', 'Egypt', 'internal', 'synergy', 'goals', \"'programmatic\", \"buying'\", 'agency', 'Essence', 'Digital', 'investment', 'eats', 'into', 'bags', 'deal,', 'time', 'Inovio', 'CompaniesCentrica', '7%', 'Miners', 'Meltdown', 'Rio', 'Tinto', 'Sink', 'Commodities', 'Rout', \"1-Britain's\", 'Tullow', 'makes', 'find', 'Kenya', 'supplies', 'enough', 'winter', 'Are', 'The', '2', 'Banks', \"I'd\", 'Today', \"3-Buffett's\", 'bet', 'Passenger', 'Numbers,', 'Aer', 'Lingus', 'Traffic', 'Up', 'February', 'PRESS:', 'High-Frequency', 'Lawsuit', 'Against', 'Dismissed', 'Reuters', 'van', \"Beurden's\", 'remuneration', 'fell', 'AM', 'H1', 'outflows,', 'conditions', 'remain', 'challenging', 'seeks', 'remove', 'Greenpeace', 'activists', 'rig', 'Forecasts', 'Rising', 'Earnings', 'Reorganization', 'Pays', 'Off', 'festive', 'test', 'shuts', 'office', 'rapid', 'integration', 'Â£8m', 'settle', 'class-action', 'lawsuit', '3-Stifel', 'Lehman', 'brokerage', 'CompaniesRoyal', 'delivers', 'Â£750m', 'taxpayer', 'NYSE', 'owner', 'ICE', 'gatecrash', 'Boerse-LSE', \"Spain's\", 'Caixabank', 'Banco', 'analyst', 'Mothahir', 'Miah', 'banned', 'fined', 'Â£139000', 'shrugs', 'off', 'smartphone', 'newer', 'designs', '1-Petrofac', 'Islands', 'project', 'Do', \"me'\", 'trend', 'underpins', 'invites', 'pitches', 'broker', 'role', 'privatisation', '2014', 'Holds', 'Regulators', 'About', 'California', 'Deals', 'CompaniesMorrison', 'evicted', 'Worldpay', 'denies', 'deferred', 'prosecution', 'SFO', 'LONDON', 'MIDDAY', \"Kingfisher's\", 'French', 'Expansion', 'Hits', 'Rocks', 'Serco', 'Set', 'Appoint', 'Roy', 'Gardner,', 'Ex-Centrica,', 'excutive', 'Dave', 'Lewis', \"'encouraging\", \"signs'\", 'despite', 'tumble', '\"Sneakairs\":', 'Airline', 'testing', 'smart', 'shoes', 'customers', 'explore', 'destinations', 'Coca-Cola', 'FEMSA', 'Acquire', 'AdeS', 'Soy-Based', 'Beverage', 'profiteering', 'accusations', '5.3%', 'charges', 'CompaniesRBS', 'pulls', 'surprise:', '27%', 'jump', 'manipulation', 'track,', 'patient', 'you', 'Associated', 'Foods', 'plc,', 'Great', 'Portland', 'Estates', 'Dunelm', 'following', \"today's\", 'news?', '1-Nomura,', 'must', '$806', 'mln', 'mortgage', 'bond', 'case-US', 'judge', '15%;', 'track', 'chases', 'winner', 'ratio', 'forecasts,', 'confirms', 'CompaniesEx-City', 'Turner', 'Militants', 'fire', 'rockets', 'Algerian', 'BP/Statoil', 'plant,', 'casualties', 'Happy', 'CompaniesAstraZeneca', 'nod', \"'blockbuster'\", 'hopeful', 'Lay', 'Another', '2200', 'Staff', 'Carnival', 'Corporation', 'Merchants', 'Sign', 'Memo', 'Understanding', 'CompaniesDiageo', 'stays', 'neutral', 'India', 'turmoil', \"'axe\", '10000', \"jobs'\", \"'simplification'\", '30', 'per', 'cent', 'replace', 'Sir', 'Mike', 'Rake', 'he', 'heads', 'exit', 'sugary', 'drinks', 'â€œchildhood', 'obesity', 'driveâ€퀀', 'Tata', 'Steel', 'source', \"Sainsbury's\", 'Grocer', 'click-and-collect', 'AO', 'World', 'warning', 'tells', 'reduce', 'debt:', 'Andy', 'Harrison', 'defends', 'fall', \"'just\", \"blip'\", 'Borealis', 'Infrastructure', 'putting', 'together', 'Perrigo', '$380', 'Aggreko', 'Declines', 'hands', 'Â£3.3m', 'top', 'staff', 'agriculture', '$2.5bn', 'has', 'spent', '$150', \"'living\", \"will'\", '600', 'TRLPC', 'CRH', 'Lafarge', 'Holcim', 'asset', '6.5', 'euro', 'bridge', 'Eurozone', 'lending', 'recover,', 'slowly,', 'breaks', 'past', 'tearing', 'Management', 'Foothold', '$175m', 'Persimmon', 'post-election', 'pick-up', 'Fewer', 'multi-buys', 'Australia', 'clears', \"Inbev's\", '$100', 'buyout', 'stalwarts', 'fade', 'Mobile', 'Unlockd', 'Change', 'Way', 'Consumers', 'Use', 'Pay', 'Their', 'Phones', 'helps', 'rebound', 'Why', 'Ties', 'Conservative', 'Lobby', 'Climate', 'research', 'chemicals', 'Thermo', 'Scientific', 'rebounds', 'buyers', 'sense', 'bargain', 'Returns', 'Leave,', 'Withdraws', 'Guidance', '3%', 'maker', 'ups', 'FastJet', 'slams', 'founder', 'Stelios', 'going', 'public,', '\"taking', 'legal', 'advice\"', 'letter', 'about', 'contractual', 'Failure', \"leadership'\", 'behind', 'troubles,', 'Leahy', 'fight', \"'plain\", \"packaging'\", 'law', 'Hammerson,', 'JV', 'Partner', 'ownership', \"Ireland's\", 'Dundrum', 'Asahi', 'snap', 'beers', \"Domino's\", 'Pizza', 'ASOS', '3', 'must-have', 'stocks?', 'EU', 'vote', 'planning', 'considers', 'CompaniesSanofi', 'immunology', 'expert', 'Appoints', 'Ranjan', 'Ray', 'Chaudhuri', 'Global', 'Commercial', \"Mylan's\", 'ends', '27-year', 'sponsorship', 'Tate', 'falling', 'plug', 'exploration', 'Escape', 'Stress', 'Test', 'advanced', 'operating', 'officer', 'Chase', 'Water', 'savings', 'forecast,', 'Reed', 'Elsevier', 'cool', 'dip', 'exec', 'Woodburn', '-source', 'issues', 'North', 'RBS,', 'Exposed', 'Property,', 'JPMorgan', 'Finance', 'CompaniesLSE', 'adds', 'ex-SEC', 'Schapiro', 'Chinese', 'import', 'data,', 'FeedSchroders', 'several', 'changes', 'Valeant,', 'psoriasis', 'acquisition', 'split', 'retail', 'CFTC', 'fines', '$560000', 'inaccurate', 'swaps', 'position', 'Merged', 'BÃ¶rse', 'led', \"Germany's\", 'Kengeter', 'turnaround', 'gathers', 'pace', 'under', 'Tesco,', 'Asda', 'march', 'discounters', 'continues:', 'Kantar', 'METALS-Zinc', 'pct,', 'fuelling', 'surge', 'output', 'weak', 'Aspen', 'Anaesthetics', '$520', 'Million', 'squeeze', 'street', 'retailers', 'sanctions', 'put', 'Gazprom-Shell', 'jeopardy', '6-Royal', 'Snow', 'Beer', '23%', 'full-year', 'Moya', 'Greene', '13%', 'her', 'package', 'Travis', 'Perkins', 'create', 'dealmakers', 'wrong', 'ignore', 'Britain', 'below', '17', 'pct', 'Rise', '$583', 'First', 'Quarter', 'ITV,', 'William', 'Hill', 'name', 'banker', 'Staley', 'Friday', 'Philip', 'Green', 'BHS', 'Â£1', 'favorites', 'IBM,', 'Wells', 'Fargo', 'CaixaBank', 'Expects', 'Close', 'For', 'How', 'Kraft-Heinz', 'Merger', 'Came', 'Together', 'Speedy', 'Weeks', 'revenues', '12%', 'confidence', 'final', '$20', 'pact', '1-GSK-linked', 'investigator', 'freed', 'jail', 'three-week', 'financials,', 'offloads', 'two', 'renewables', 'units', 'rout', 'latest', 'victim', 'NewsRevenue,', 'interims;', 'Glencore,', 'Sharm', 'el-Sheikh', 'travel', 'disruption:', 'Airways,', 'EasyJet,', 'Thomson', 'stock', 'shareholders', 'cloud', \"AstraZeneca's\", 'Selumetinib', 'Gets', 'Orphan', 'Label,', 'Good', 'AZD9291', 'Opts', 'paid', 'Â£4.1m', '6', 'months', \"'slightly\", \"ahead'\", 'expectations', 'Agriculture', ':', 'Panel', 'Reviews', 'Savor', 'Study', 'Onglyza', 'bucks', '2.6', 'percent', 'Trading', 'ExpertBROKER', 'RECOMMENDATIONSUBS', \"'buy'\", 're-initiates', 'coverage', '3G', 'Capital,', 'Favorite', 'Billions', 'Meets', 'Shareholder', 'Skepticism', 'GKN', 'Fokker', 'Technologies', '706', 'Questor', 'tip:', '10pc', 'discloses', \"unit's\", 'ties', 'Iran,', 'opens', 'policy', 'Reaffirms', 'Goal', 'Iron', 'Ore', 'Output', 'easyJet', 'three-year', 'releases', 'results', 'carve', 'out', 'antibiotic', 'R&D', 'separate', 'Ex-Barclays', 'Pleaded', 'Guilty', 'Fixing', 'Meantime', 'quench', 'thirst', 'craft', 'beer', 'plunge', '25%', '9.8%', 'Sam', 'Walsh', 'rejects', 'fears', 'CompaniesShell', 'Showa', 'Sekiyu', '$1.4bn', 'rename', 'itself', 'RELX', \"Sotheby's\", 'his', 'Insight', \"Aviva's\", 'David', 'Hillier', 'multi-asset', 'team', 'offers', '50', 'premium', 'Novartis', 'remaining', 'treatment', '$1', 'Peroni', 'Grolsch', 'weaker-than-expected', 'Wins', '$9.2', 'Order', 'Emirates', 'BP,', 'Statoil', 'ethanol', 'benchmark', 'investigation', 'Preparing', 'Job', 'Cuts', 'That', 'May', 'Target', '20000', 'Workers,', 'ordered', 'go', 'firms', 'brands', 'RPT-UK', 'supermarkets', 'braced', 'battle', 'fighting', '1-Glencore', 'flags', 'Australia,', 'Chile', 'not', 'been', 'offered', 'promises', 'dividends', 'flagging', 'Brewer', '$275', 'Budget,', 'Plans', 'Divest', 'Lonmin', 'Posts', 'Surprise', 'Fourth-Quarter', 'Pretax', '$858', 'manager', 'Eurocrat', 'left', 'best-placed', 'unravel', 'Lawmakers', 'worry', 'brewers', 'StanLife', 'leads', 'dealmaking', 'MBNA', 'government', 'shares,', '12', 'store', 'closures', '2000', 'Versus', 'Sainsbury:', 'Weight-Watcher', 'vs.', 'Bodybuilder', 'Buffett', 'wind', 'energy,', 'meeting', 'TSB', 'boss:', 'Current', 'account', 'switching', 'simpler', 'Slump', 'Caused', 'Fears', 'Retailers', 'Sports', 'Direct', 'index', 'Pepper', 'Hard', 'Questions', 'GLOBAL', 'MARKETS-Stocks', 'bid,', 'slumps', 'Dismisses', 'Lufthansa', 'Low-Cost', 'Contest', 'Germany', 'Tagrisso', 'approved', 'Two', 'traders', 'face', 'retrial', 'MarketsBP', 'promotes', 'upstream', 'deputy', '$69.7', 'Clydesdale', \"'unacceptable'\", 'lies', 'closing', 'rules', 'smaller', 'than', 'feared', 'Flat', 'Letters', 'Weakness', 'Offsets', 'Parcels', 'Strength', 'SAB', 'MillerCoors', 'Royalties', 'Accelerate', 'Smartphone', 'Market', 'Regains', 'Scottish', 'court', '2011', 'Sea', \"rivals'\", 'overproduction', 'Ackman,', 'email,', 'supports', \"GlaxoSmithKline's\", 'Witty', 'bow', 'March', '2017', 'Â£2.9bn', 'rush', 'withdraw', 'post-Brexit', 'halted', \"BP's\", 'Â£12bn', 'Report', 'pressed', 'drug,', 'validating', 'Sanofi', 'scientist', 'pursue', \"Canada's\", 'One:', 'Bloomberg', 'Broker', 'tips:', 'Croda,', 'Sage', 'Mail,', 'NewsWhitbread', 'Costa', 'Carlsberg', 'Russians', 'suffer', 'rouble', 'GlaxoSmithKline', 'okays', 'asthma', 'therapy', 'adults', 'Report:', 'through', 'placing', 'load', 'No', 'mining', 'slump', 'bites', 'Nine', 'including', 'Citi,', 'agree', '$2', 'seals', 'Â£22', 'steadies', 'around', '2-month', 'Approve', \"We'd\", 'leaving', 'London,', 'mulling', 'offer;', 'tank', 'bumps', 'feels', 'heat', 'revolt', \"Dudley's\", 'Â£14', 'Shed', 'Buying', 'Old', 'Mutual', 'up,', 'list', 'CompaniesKingfisher', 'runs', 'trouble', 'pass', 'directors', 'Garfield', 'Tammenoms', \"Government's\", 'Call', \"Prudential's\", 'Thiam', 'Asian', 'Jumbo', 'Yielders', 'John', 'Wood', 'PLC?', '7th', 'straight', 'daily', 'rise;', 'regulator', 'injectable', 'Ensure', 'Compliance', 'Petrobras', 'Bribery', 'gets', 'Hong', 'Kong', 'regulatory', 'HK', 'members', 'Pension', 'Footsie', 'stocks', 'lift', 'Saudi', 'Aramco,', 'break', 'Motiva,', 'divide', 'CommentOpening', 'Quote:', 'day', 'moans;', 'Lloyds;', 'Mars', 'mission', 'Caprelsa', 'NewsWood', 'multi-million', 'dollar', \"workers'\", 'union', 'bonds', 'save', '1', 'Admiral,', 'building', 'sector', 'gains', 'Brand', 'Guarantee', 'M&S,', 'edges', 'cheer', 'tax-avoidance', 'fa', '$727', 'play', 'do', 'away', 'chemotherapy', 'leaders', 'builds', 'Deere', 'stake,', 'dumps', 'Exxon', 'BUZZ-BG', 'Group:', 'outperforms', 'Teva', 'First-Quarter', 'Net', '11%', 'America,', 'Citigroup', 'blockchain', 'sight', 'NewsG4S', 'year,', 'impairments', 'edge', 'Wealth', 'seen', 'blue-chip', 'CompaniesUnilever', 'ice', 'cream', 'soft', 'economy', 'global', 'room', 'estimates', 'view,', 'Bidders', 'Abandon', 'Auction', 'Data', 'Euro', 'zone', 'QE', 'Closely', 'watched', 'mesothelioma', '25', 'grow', '$3', 'breakup', 'fee', 'Executive', 'Denies', 'Knowledge', \"'unprecedented'\", 'number', 'calls', 'freedoms', 'Renewed', 'CompaniesAB', 'signals', 'hostile', 'Meggitt', 'Acquires', 'Cobham', 'Advanced', 'Composites', 'USD200', 'SEC', 'non-executive', 'director', 'IAG', 'closes', 'Teams', 'Daiichi', 'Sankyo', 'Movantik', 'Analyst', 'Views:', 'Astrazeneca', 'have', 'recent', 'volatility;', 'what', 'OCBC', \"Barclay's\", 'Singapore,', 'agrees', '$18.7B', 'spill;', 'tricky', 'science', 'MedImmune', 'Inks', 'Licensing', 'Omnis', 'Pharmaceuticals', 'Aldi', 'Lidl', 'expansion', 'Compass', 'positive', 'expects', \"head's\", 'resignation', 'sparks', 'spinoff', 'longer', 'use', 'thinner', 'target', '370', 'Debenhams', 'surprise', 'bounce', 'hike', \"'substantial'\", 'national', 'living', 'CompaniesCar', 'insurer', 'Hastings', 'driving', 'Â£180m', 'IPO', 'starts', 'hunt', 'successor', \"Grid's\", 'pretax', '15', 'steadies,', 'supported', \"CRH's\", 'concrete', 'convenience', 'keeps', 'headquarters', 'announce', 'clear', 'billion-plus', 'InBev,', 'Secretive', 'involved', 'Qatari', 'clients', 'plunge,', 'roiled', 'oil;', 'hopes', 'turn', 'ECB', 'U.K.', 'Stocks', 'Little', 'Changed', 'Near', 'Record', 'Fall', 'ships', 'Queensland', 'Curtis', 'RECOMMENDATIONSAnalysts', 'mostly', 'negative', 'value', 'MarketsUBS,', 'Sachs', 'CompaniesUK', 'Â£2bn', '1-AstraZeneca', 'ZS', '$2.7', 'billion,', 'pips', 'Actelion', '3-Auto', 'leap', 'biggest', 'private', 'equity-backed', 'Will', 'Equity', 'Sales', 'Research', 'CompaniesNational', 'Turnaround', 'Buys', '2016?', 'knocked', 'Â£3.9bn', 'walrus', 'protections', 'Interest', 'Rate', 'Swap', 'Losses', 'CompaniesTullow', 'exports', 'field', 'disrupted', 'continues-Kantar', 'complaints', 'wipes', 'digs', 'precision', 'lung,', 'heart', '640', 'close', '23', 'Beats', 'Forecast', 'Year', 'Hints', 'Retain', 'Domicile', 'Tel', 'Sterling,', 'Tough', 'Sugar', 'trader', 'sentenced', 'prison', 'complete', 'reshape', 'both', 'drugmakers', 'Bagguley', 'Chief', 'Operating', 'Officer', 'sue', 'Samarco', 'Â£3.5bn', 'six', 'Serious', 'Fraud', 'Office', 'Retrial', 'Traders', 'Cuadrilla', 'files', 'application', 'frack', 'Lancashire', 'hails', 'progress', 'escapes', 'relegation', \"'Poldark'\", 'Mammoth', 'Screen', 'RPT-UPDATE', '2-Former', 'Jefferies', \"Litvak's\", 'conviction', 'overturned', 'Deteriorate', 'Ahead', 'Crucial', 'Period', 'Blinkbox', 'broadband', 'service', '1-Berkshire', 'applies', 'above', 'Hikes', '20%', 'reveals', 'shingles', 'Experian', 'receives', 'class', 'actions', 'related', 'T-Mobile', 'breach', 'shells', 'Nigeria', 'lower,', 'tumbles', \"'challenging\", \"year'\", 'attacks', 'rebuffal', 'stg', 'seed', 'Potts', 'stalls', 'Latest:', 'Kraft', 'Heinz', 'Studies', 'Possible', 'Agricultural', 'Gabon', 'Penalties', 'picks', 'ex-JPMorgan', 'CEO,', 'Dec', 'Struggling', 'pays', 'Â£3m', 'sacked', 'Dalton', 'Philips', 'Government', '14%', \"Utilities'\", 'underlying', '9', 'Homeplus', \"Berkshire's\", 'Gen', 'Re', 'retire;', \"Jain's\", 'grows', 'boosts', 'cautious', 'rises,', '18%', 'Buoyed', 'Emerging', 'Markets', '2-Prudential', 'earnings,', 'outgoing', 'challenges', 'dominance', '47', 'billion-pound', 'Hires', \"Towergate's\", 'Egan', 'flops', 'study,', 'vaccine', 'Start', 'Lining', 'Financing', 'Bidding', 'War', 'rallies', 'three-month', 'low,', 'StanChart,', 'portfolio', 'Â£827m', \"BHP's\", 'iron', 'ore', 'outlook', 'holds', 'little', 'miners', 'pressure', 'Announce', 'OneMain', 'Springleaf', '$4.25', 'Five', 'spill,', 'oystermen', 'losing', 'hope', 'Walmart', 'selling', 'Maryland', 'T-shirts', 'featuring', 'outline', 'Massachusetts', 'Advair', 'hit,', 'margins', 'Eight-day', 'swap', 'week', 'Pickup', \"Isn't\", 'Enough', 'admits', 'size', 'penalties', '17%', 'houses', 'strike:', \"Broadcaster's\", 'walkout', 'piece', 'action', 'McEwan', 'nursing', 'struggles', 'shift', 'mobile', 'Land', 'Securities', 'rent', '3-month', 'becomes', 'shadow', 'self', 'Ken', 'Morrison', 'taken', 'Â£6m', 'rival', 'Bonds', 'Lender', 'Shore', '1-Pearson', 'tops', 'approve', 'choice', \"Carphone's\", 'Allan', 'frame', 'highs', 'Resume', 'Rally', 'Record;', 'CRH,', 'Climb', 'MarketsMoneysupermarket', 'Save', 'Book', '$585', 'Charge', 'Settlement', 'Fed', 'impresses', 'fee-based', 'products', 'annuities', 'CompaniesHome', 'trims', 'considered', \"'in\", \"play'\", 'announces', 'strategic', 'outlining', 'Pledges', 'Heed', 'Critics', \"`Painful'\", 'Experience', 'NewsHammerson', 'joint', 'venture', 'Dublin', 'Protest', 'Forces', 'Museum', 'arm,', 'Nikko', 'sign', 'distribution', '2-Pricey', 'tax', 'threatens', 'HSBC,', 'home', 'Donald', 'Brydon', 'Teva:', 'Approves', 'Generic', 'Version', 'Heartburn', 'pending', 'announcement', 'CompaniesPound', 'ABF', 'now,', 'impact', 'BBCN', 'Bancorp', 'Wilshire', 'Payout', '$5', 'Bought', '$99.49', 'Share,', 'Filing', 'Shows', 'give', 'three-digit', 'drags', 'slashing', 'Tripoli-based', 'NOC', 'sole', 'seller', 'Libyan', 'Cuba', 'state', 'Help', 'Shrink', 'Mountain', 'Debt', \"taxpayers'\", '22', 'Primark', 'starting', 'falter', 'Facebook', 'MOVES-Ex-shadow', 'McClymont', 'Line', 'Soar?', 'weaker', 'miners,', 'CompaniesCoutts', 'raids', 'grocer', 'outcome', 'orphan', 'status', 'Cost', 'Robinsons', 'sends', 'Diageo,', 'Heineken', 'Emerging-Market', 'Assets', 'Protesters', 'gather', 'Seattle', 'Passengers', '16.1%;', 'forecast', 'majors', 'like', 'Chevron,', 'fail', 'reserves', 'counter', 'knows', 'which', 'side', 'bread', 'buttered', '3-Ex-Barclays', 'illegal', 'tips', 'plumber', 'clinical', 'can', 'breath', 'life', 'Sands', 'Resign', 'Unrest', 'NewsStrong', 'marred', 'plumbing', 'impairment', 'Mongolia', 'Oyu', 'Tolgoi', 'mine', 'pay-out', 'ratio,', 'too', 'soon', 'Reluctant', 'shareholder', 'George', 'patience', 'protesters', 'await', 'fracking', 'decision', 'Currency', 'causes', 'headaches', 'Beach', 'holiday', 'clouds', '$5.1', 'capital-raising', 'plan,', 'Q3', 'BT', 'restructure', 'unveiled', 'Peterhead', 'station', 'supply', 'voltage', 'Insurer', \"Bank's\", 'Hemphill', 'patent', 'invalidated', 'Face', 'Potential', 'Fine', 'Handling', 'Complaints', 'Goodwin', 'TOP', 'NEWS:', 'Depressed', 'Foreign', 'Provisions', '$1.7', 'Scrap', \"Treasury's\", 'Rights', 'line,', '$1.1', 'charge', 'commodity', 'departs', 'management', 'cull', 'Â£13bn', 'shield', 'banking', 'chill', '1-RBS', 'raising', '$3.1', 'issue', 'CoCo', '1-Rio', 'aluminium', 'anti-money-laundering', 'failings', 'CORRECTED-Shire', 'Dyax', '$5.9', 'Statoil,', 'Withdraw', 'Algeria', 'Following', 'Rocket', 'Attack', 'Gazprom,', 'enjoy', 'bounce-back', 'Kong-led', 'Ruling', 'sets', 'limit', 'Tumble', 'Founder', 'Ashley', 'Spirits', 'financial', 'irregularities', 'involving', 'checker', 'Balfour', 'Beatty', 'Reinstate', '(And', 'Once', 'More?)', 'Chipotle', 'Plunge', 'Troubled', 'Chain', 'Federal', 'Subpoena', \"Founder's\", 'son', 'assist', '1-EU', 'LloydsPharmacy', 'stand', 'South', 'Africa', 'SABMiller,', 'Coke', 'bottling', 'CompaniesActelion', 'Drops', 'Undertakes', 'Restructuring', 'Votes', \"'Out'\", \"Chartered's\", 'Fitch', 'Downgrade', 'Misses', 'Estimates', \"Sands's\", 'Last', 'shakes', 'chiefs,', 'three', 'departures', '2016', 'copper', 'production', 'Raise', 'Reduce', 'CompaniesSmith', '6.8%', 'foot', 'Morris,', 'Sue', 'Law', 'Taking', 'Branding', 'Packs', '37', 'Percent', 'Drop', '2Q', 'Judge', 'Urged', 'Impose', '$11.7', 'Billion-Plus', 'RBI', 'surprises', 'Street;', 'Sensex', 'pares', 'hitting', 'mount', '30k', 'needs', 'deliver', 'modernisation', 'plans,', 'post', 'haste', 'weighed', '$300', 'CompaniesDeutsche', 'taps', 'ex-StanChart', 'audit', 'Francis', 'Egan:', 'Scaremongering', 'opponents', 'me', 'angry', 'Remain', 'Skeptical', 'Shell-BG', '3-Barclays', 'lax', 'crime', 'checks', \"'deal\", \"century'\", 'withdrawals', 'backlash', 'Â£9m', 'payout', 'iPhone', 'Android', 'app', 'lets', 'users', 'send', 'each', 'other', 'using', 'bitcoin', 'network', '945', 'part', 'restructuring', 'strategy', 'Tesco;', 'Premier', 'jilted;', 'IPOs', 'Investor', 'Woodford', 'outsider', 'Resources', '1-UK', 'Thetrainline.com', 'arrival', 'weathers', 'torrid', 'ISA', 'season', 'Would', 'Oppose', 'Any', 'gains,', 'What', 'Takes', 'Break', 'Even', 'NewsPetrofac', 'secures', '$250m', 'Jobs,', 'Branches', 'Part', 'proving', 'expensive', 'tough', 'IHG', '$938', 'Bonus', 'Pool', 'Less', 'Than', 'Pounds', 'Offers', 'Crown', 'Castle', 'Tower', 'Development', 'Corp', '$461', \"Norway's\", 'sovereign', 'backed', \"CEO's\", 'MarketsProperty', '5-SABMiller', '$104', '2010', 'capped', '$13.7', 'Oilfield', 'services', 'firm', \"Petrofac's\", 'shoots', 'Eli', 'Lilly', 'Co.', '(LLY)', 'Has', 'Broken', 'Out', 'A', 'High', 'On', 'Collaboration', 'resource', 'Postal', '150', 'McCormick', 'Departs', \"SAB's\", 'Digs', 'Board', 'Divided', 'facing', 'blackouts', 'tightest', 'approaches', '$250bn', '100%', 'mortgages', 'since', 'crisis', 'Germanwings', 'affect', 'image', 'Early', 'victory', 'said', 'cutting', 'Finds', 'More', 'Elusive', 'Meet', 'racks', 'happy', 'York', 'cooperating', \"'dark\", \"pool'\", 'group', 'stamp', 'dips', 'Books', 'ending', \"supermarket's\", 'digital', 'wine', 'interests', 'Agrees', 'Minority', '320m', 'Breakingviews:', 'oppose', 'any', '-FT', 'Australian', 'sustainability', 'traffic', 'controller', 'strikes', 'terrorism', 'exposed', \"customers'\", 'data', 'Stars', \"aligned'\", 'megabrew', 'Turns', 'Bad', 'plots', 'Europe', '$2.2bn', 'fourth-quarter', \"Hathaway's\", '4Q', 'declines', \"years'\", 'ecommerce', 'site', 'Lazada', 'Alibaba', 'Â£90m', 'shutting', '21', 'Restore', 'Its', 'Lost', 'Luster?', 'high,', 'Stakes', 'Heart', 'Facing', 'Competition', '1-Cypress', 'Semiconductor', 'Integrated', 'Solution', 'exploring', 'or', 'flux', '1500', 'CompaniesThiam', 'received', 'Â£5m', 'packet', '1-BHP', \"Billiton's\", 'ratings', 'fragile', 'FY16,', 'agencies', 'Go', 'Petrochemical', 'Plant', 'Pennsylvania', 'spurs', 'Pepsi', 'change', 'recipes', '2020', 'CompaniesPhilips', 'transfers', '$900m', 'obligations', '$13.75', 'mutual', 'stands', 'tall', 'reform', '$700', 'resist', 'higher;', '3i', 'concerns,', 'skids', 'inflation', 'creating', 'glut', 'Extend', 'Rebound', 'Second', 'Day', 'beat', 'CompaniesNew', 'business,', 'strip', 'Exclusive', 'years:', 'U.S.', 'Lures', 'Depresses', 'Rates', 'Iran', 'violations', 'Shut', 'Coal-Fired', 'Shift', 'Gas,', 'Renewable', 'Energy', 'el', 'Sheikh:', 'axes', 'flights', \"Egypt's\", 'leading', 'resort', \"1-Norway's\", 'management,', 'Relief', 'Yorkshire', 'closer', 'independence', 'hover', 'near', '3-week', 'Dialog', 'long', 'road', 'decline', 'Italian', 'Mediobanca', 'fill', 'gap', 'leaves', 'Sophos', 'aims', '$100m', 'chip', 'designer', 'performance', 'long-delayed', 'dry', 'sails', 'Doubts', '$6', 'weighs', 'cash', 'handout', 'beating', \"King's\", 'Big', 'keep', 'ad', 'front', 'pack', 'readies', 'Â£6bn', 'float', 'Dyson', 'Wants', 'Create', 'Hair', 'Dryer', 'Revolution', 'operations', 'Richard', 'Herbert', 'BRIEF-Legal', \"General's\", 'retirement', '4', 'swerves', 'regulations', 'JC', 'Penney', 'Obligation', 'crude', 'slur', 'aimed', 'order', 'screen', '2-AB', 'Genel', 'Tony', \"Hayward's\", 'Explorer', 'Crude', 'Reserves', 'Field', 'summoned', 'Westminster', 'questioning', 'MediaCityUK', 'Manchester', 'Analysis', 'Copper', '2003-style', 'shock', 'Korean', 'so', 'fast', 'getting', 'Suspends', 'Price', 'Surge', 'Lemann', '5.6', 'pound', 'protest', 'Google', 'Fiber', 'Webpass', 'city', 'Internet', 'Halfords', 'Jonny', 'Mason', '5-Buffett', 'Precision', 'Castparts', 'Economist', 'REFILE-BP', 'pipeline', 'infrastructur', 'dividend,', '$5.67', '\"major', 'surprise\"', '-investor', 'I', 'Put', 'J', 'My', 'Trolley', 'Before', 'Wm', 'Supermarkets', 'Glaxo', 'Sees', 'Hope', 'Respiratory', 'Drugs', 'Beat', 'BRIEF-Aviva', 'rings', 'Jes', 'plate', 'post-Leave', 'positivity', 'anaesthetics', \"Africa's\", 'Antofagasta', 'Cash', 'Costs', 'prospects', 'dependent', \"Priceline's\", '100;', 'Marks', 'Spencer', 'personnel', 'quits', 'fortunes', 'ebbed', 'flowed', 'chiefs', 'Beaumont', 'CDU', 'overhaul', 'slowed', 'accident:', 'Name', '$5.3', 'Mine', 'continued', 'orders', 'Starts', 'Earlier', 'Expected', 'BHP,', 'Residents', 'Brace', 'Cyclone', 'Stan', 'Coast', 'financier', 'Amanda', \"Staveley's\", '$1bn', 'claim', '\"misconceived\"', 'gathering', 'pace,', '11', 'closures:', '900', 'closed', 'due', 'Bob', 'Profits', 'PLC:', 'Or', 'Sell?', 'Fined', '$27', 'Regulator', 'Fee', 'Failings', 'Continue', 'Rise,', 'Looking', 'nudge', 'housebuilder', '1-BG', 'limits', 'fallout', 'offering', 'looking', 'ads', '18%,', 'mulls', 'Blueprint', 'Receives', 'Nod', 'Proceed', 'Clinical', 'Trials', 'improve', 'compliance', 'file', 'bribing', 'senior', 'politicians', 'sabotage', 'Chanmugam', 'silent', 'Convinced', 'Stocks:', 'Chart', '5', 'Years', 'Spill:', \"What's\", 'Offshore', 'Drilling', 'Explores', '12.5', 'raised', 'far', 'although', 'pensions', 'aerospace', 'component', '$340', \"Barclays'\", 'benchmarking', 'chair', 'hints', 'Closing', 'Rules', 'success', \"CompaniesGlencore's\", 'almost', 'one', 'Pfizer', '120', 'closure', 'Cambridge', 'outperform', '5%', 'resumes', \"Merkel's\", 'Support', '5-Barclays', 'McFarlane', '1-Lloyds', '3-year', 'Zinc', 'Supply', \"WPP's\", 'Martin', 'Sorrell', 'highest-paid', 'Crashes', 'Warning:', 'Now', 'Buy?', 'STOCKS-Wall', 'St', 'stimulus', '64', 'Huawei', 'Records', 'Dealings', 'Sanctioned', 'Nations', \"'looming\", \"gap'\", 'potassium', 'delayed', 'manufacturing', 'snag', 'Activist', 'Fund', 'TCI', 'Backs', 'German', 'ex-Barclays', 'roles', 'rate-rigging', 'CIB,', 'Egyptian', 'adults,', 'adolescents', 'implement', 'CompaniesTravis', '15%', 'Shifts', 'Emerging-Markets', 'Strategy']\n"
     ]
    }
   ],
   "source": [
    "new_dictionary = sorted(set(word_list_train), key=lambda x:word_list_train.index(x))\n",
    "print(new_dictionary)"
   ]
  },
  {
   "cell_type": "code",
   "execution_count": 15,
   "metadata": {},
   "outputs": [
    {
     "data": {
      "text/plain": [
       "3501"
      ]
     },
     "execution_count": 15,
     "metadata": {},
     "output_type": "execute_result"
    }
   ],
   "source": [
    "len(new_dictionary)"
   ]
  },
  {
   "cell_type": "markdown",
   "metadata": {},
   "source": [
    "### Save a list"
   ]
  },
  {
   "cell_type": "code",
   "execution_count": 16,
   "metadata": {},
   "outputs": [],
   "source": [
    "with open(\"test_dict.txt\", \"wb\") as fp:   #Pickling\n",
    "    pickle.dump(new_dictionary, fp)\n"
   ]
  },
  {
   "cell_type": "code",
   "execution_count": null,
   "metadata": {},
   "outputs": [],
   "source": [
    "#with open(\"full_dict.txt\", \"rb\") as fp:   # Unpickling\n",
    "#    b = pickle.load(fp)"
   ]
  }
 ],
 "metadata": {
  "kernelspec": {
   "display_name": "Python 3",
   "language": "python",
   "name": "python3"
  },
  "language_info": {
   "codemirror_mode": {
    "name": "ipython",
    "version": 3
   },
   "file_extension": ".py",
   "mimetype": "text/x-python",
   "name": "python",
   "nbconvert_exporter": "python",
   "pygments_lexer": "ipython3",
   "version": "3.6.8"
  }
 },
 "nbformat": 4,
 "nbformat_minor": 2
}
